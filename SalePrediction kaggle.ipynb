{
 "cells": [
  {
   "cell_type": "code",
   "execution_count": 1,
   "id": "13e13b4d",
   "metadata": {
    "_cell_guid": "b1076dfc-b9ad-4769-8c92-a6c4dae69d19",
    "_uuid": "8f2839f25d086af736a60e9eeb907d3b93b6e0e5",
    "execution": {
     "iopub.execute_input": "2025-03-01T18:34:37.652456Z",
     "iopub.status.busy": "2025-03-01T18:34:37.652109Z",
     "iopub.status.idle": "2025-03-01T18:34:38.610363Z",
     "shell.execute_reply": "2025-03-01T18:34:38.608851Z"
    },
    "papermill": {
     "duration": 0.969298,
     "end_time": "2025-03-01T18:34:38.612241",
     "exception": false,
     "start_time": "2025-03-01T18:34:37.642943",
     "status": "completed"
    },
    "tags": []
   },
   "outputs": [],
   "source": [
    "# This Python 3 environment comes with many helpful analytics libraries installed\n",
    "# It is defined by the kaggle/python Docker image: https://github.com/kaggle/docker-python\n",
    "# For example, here's several helpful packages to load\n",
    "\n",
    "#import numpy as np # linear algebra\n",
    "#import pandas as pd # data processing, CSV file I/O (e.g. pd.read_csv)\n",
    "\n",
    "# Input data files are available in the read-only \"../input/\" directory\n",
    "# For example, running this (by clicking run or pressing Shift+Enter) will list all files under the input directory\n",
    "\n",
    "#import os\n",
    "#for dirname, _, filenames in os.walk('/kaggle/input'):\n",
    "    #for filename in filenames:\n",
    "        #print(os.path.join(dirname, filename))\n",
    "\n",
    "# You can write up to 20GB to the current directory (/kaggle/working/) that gets preserved as output when you create a version using \"Save & Run All\" \n",
    "# You can also write temporary files to /kaggle/temp/, but they won't be saved outside of the current session"
   ]
  },
  {
   "cell_type": "code",
   "execution_count": 37,
   "id": "3d577a8c",
   "metadata": {
    "execution": {
     "iopub.execute_input": "2025-03-01T18:34:38.629069Z",
     "iopub.status.busy": "2025-03-01T18:34:38.628505Z",
     "iopub.status.idle": "2025-03-01T18:34:40.894252Z",
     "shell.execute_reply": "2025-03-01T18:34:40.893111Z"
    },
    "papermill": {
     "duration": 2.276172,
     "end_time": "2025-03-01T18:34:40.896268",
     "exception": false,
     "start_time": "2025-03-01T18:34:38.620096",
     "status": "completed"
    },
    "tags": []
   },
   "outputs": [],
   "source": [
    "\n",
    "import pandas as pd\n",
    "import numpy as np\n",
    "import pandas as pd\n",
    "import seaborn as sns\n",
    "import matplotlib.pyplot as plt\n",
    "from sklearn.preprocessing import OneHotEncoder\n",
    "from sklearn.metrics import mean_squared_error, r2_score\n",
    "from sklearn.decomposition import PCA\n",
    "from sklearn.preprocessing import StandardScaler\n",
    "from sklearn.ensemble import RandomForestRegressor\n",
    "from sklearn.linear_model import LogisticRegression"
   ]
  },
  {
   "cell_type": "code",
   "execution_count": 3,
   "id": "c2923adb",
   "metadata": {},
   "outputs": [],
   "source": [
    "train_data = pd.read_csv(r\"C:\\Users\\David gathara marigi\\Downloads\\train (4).csv\")"
   ]
  },
  {
   "cell_type": "code",
   "execution_count": 4,
   "id": "e1b88ad1",
   "metadata": {
    "execution": {
     "iopub.execute_input": "2025-03-01T18:34:40.912991Z",
     "iopub.status.busy": "2025-03-01T18:34:40.912406Z",
     "iopub.status.idle": "2025-03-01T18:34:41.000366Z",
     "shell.execute_reply": "2025-03-01T18:34:40.998947Z"
    },
    "papermill": {
     "duration": 0.098371,
     "end_time": "2025-03-01T18:34:41.002354",
     "exception": false,
     "start_time": "2025-03-01T18:34:40.903983",
     "status": "completed"
    },
    "tags": []
   },
   "outputs": [
    {
     "data": {
      "text/plain": [
       "\"train_data = pd.read_csv('/kaggle/input/home-data-for-ml-course/train.csv')\\ntest_data = pd.read_csv('/kaggle/input/home-data-for-ml-course/test.csv')\""
      ]
     },
     "execution_count": 4,
     "metadata": {},
     "output_type": "execute_result"
    }
   ],
   "source": [
    "'''train_data = pd.read_csv('/kaggle/input/home-data-for-ml-course/train.csv')\n",
    "test_data = pd.read_csv('/kaggle/input/home-data-for-ml-course/test.csv')'''"
   ]
  },
  {
   "cell_type": "code",
   "execution_count": 5,
   "id": "592eb089",
   "metadata": {
    "execution": {
     "iopub.execute_input": "2025-03-01T18:34:41.018823Z",
     "iopub.status.busy": "2025-03-01T18:34:41.018395Z",
     "iopub.status.idle": "2025-03-01T18:34:41.023594Z",
     "shell.execute_reply": "2025-03-01T18:34:41.022711Z"
    },
    "papermill": {
     "duration": 0.015234,
     "end_time": "2025-03-01T18:34:41.025384",
     "exception": false,
     "start_time": "2025-03-01T18:34:41.010150",
     "status": "completed"
    },
    "tags": []
   },
   "outputs": [
    {
     "name": "stdout",
     "output_type": "stream",
     "text": [
      "(1460, 81)\n"
     ]
    }
   ],
   "source": [
    "print(train_data.shape)"
   ]
  },
  {
   "cell_type": "code",
   "execution_count": 6,
   "id": "1159e6ac",
   "metadata": {
    "execution": {
     "iopub.execute_input": "2025-03-01T18:34:41.041091Z",
     "iopub.status.busy": "2025-03-01T18:34:41.040710Z",
     "iopub.status.idle": "2025-03-01T18:34:41.067311Z",
     "shell.execute_reply": "2025-03-01T18:34:41.065990Z"
    },
    "papermill": {
     "duration": 0.036354,
     "end_time": "2025-03-01T18:34:41.069073",
     "exception": false,
     "start_time": "2025-03-01T18:34:41.032719",
     "status": "completed"
    },
    "tags": []
   },
   "outputs": [
    {
     "name": "stdout",
     "output_type": "stream",
     "text": [
      "   Id  MSSubClass MSZoning  LotFrontage  LotArea Street Alley LotShape  \\\n",
      "0   1          60       RL         65.0     8450   Pave   NaN      Reg   \n",
      "1   2          20       RL         80.0     9600   Pave   NaN      Reg   \n",
      "2   3          60       RL         68.0    11250   Pave   NaN      IR1   \n",
      "3   4          70       RL         60.0     9550   Pave   NaN      IR1   \n",
      "4   5          60       RL         84.0    14260   Pave   NaN      IR1   \n",
      "\n",
      "  LandContour Utilities  ... PoolArea PoolQC Fence MiscFeature MiscVal MoSold  \\\n",
      "0         Lvl    AllPub  ...        0    NaN   NaN         NaN       0      2   \n",
      "1         Lvl    AllPub  ...        0    NaN   NaN         NaN       0      5   \n",
      "2         Lvl    AllPub  ...        0    NaN   NaN         NaN       0      9   \n",
      "3         Lvl    AllPub  ...        0    NaN   NaN         NaN       0      2   \n",
      "4         Lvl    AllPub  ...        0    NaN   NaN         NaN       0     12   \n",
      "\n",
      "  YrSold  SaleType  SaleCondition  SalePrice  \n",
      "0   2008        WD         Normal     208500  \n",
      "1   2007        WD         Normal     181500  \n",
      "2   2008        WD         Normal     223500  \n",
      "3   2006        WD        Abnorml     140000  \n",
      "4   2008        WD         Normal     250000  \n",
      "\n",
      "[5 rows x 81 columns]\n"
     ]
    }
   ],
   "source": [
    "print(train_data.head(5))"
   ]
  },
  {
   "cell_type": "code",
   "execution_count": 7,
   "id": "88f0a548",
   "metadata": {
    "execution": {
     "iopub.execute_input": "2025-03-01T18:34:41.085175Z",
     "iopub.status.busy": "2025-03-01T18:34:41.084771Z",
     "iopub.status.idle": "2025-03-01T18:34:41.090689Z",
     "shell.execute_reply": "2025-03-01T18:34:41.089470Z"
    },
    "papermill": {
     "duration": 0.015914,
     "end_time": "2025-03-01T18:34:41.092475",
     "exception": false,
     "start_time": "2025-03-01T18:34:41.076561",
     "status": "completed"
    },
    "tags": []
   },
   "outputs": [
    {
     "name": "stdout",
     "output_type": "stream",
     "text": [
      "Index(['Id', 'MSSubClass', 'MSZoning', 'LotFrontage', 'LotArea', 'Street',\n",
      "       'Alley', 'LotShape', 'LandContour', 'Utilities', 'LotConfig',\n",
      "       'LandSlope', 'Neighborhood', 'Condition1', 'Condition2', 'BldgType',\n",
      "       'HouseStyle', 'OverallQual', 'OverallCond', 'YearBuilt', 'YearRemodAdd',\n",
      "       'RoofStyle', 'RoofMatl', 'Exterior1st', 'Exterior2nd', 'MasVnrType',\n",
      "       'MasVnrArea', 'ExterQual', 'ExterCond', 'Foundation', 'BsmtQual',\n",
      "       'BsmtCond', 'BsmtExposure', 'BsmtFinType1', 'BsmtFinSF1',\n",
      "       'BsmtFinType2', 'BsmtFinSF2', 'BsmtUnfSF', 'TotalBsmtSF', 'Heating',\n",
      "       'HeatingQC', 'CentralAir', 'Electrical', '1stFlrSF', '2ndFlrSF',\n",
      "       'LowQualFinSF', 'GrLivArea', 'BsmtFullBath', 'BsmtHalfBath', 'FullBath',\n",
      "       'HalfBath', 'BedroomAbvGr', 'KitchenAbvGr', 'KitchenQual',\n",
      "       'TotRmsAbvGrd', 'Functional', 'Fireplaces', 'FireplaceQu', 'GarageType',\n",
      "       'GarageYrBlt', 'GarageFinish', 'GarageCars', 'GarageArea', 'GarageQual',\n",
      "       'GarageCond', 'PavedDrive', 'WoodDeckSF', 'OpenPorchSF',\n",
      "       'EnclosedPorch', '3SsnPorch', 'ScreenPorch', 'PoolArea', 'PoolQC',\n",
      "       'Fence', 'MiscFeature', 'MiscVal', 'MoSold', 'YrSold', 'SaleType',\n",
      "       'SaleCondition', 'SalePrice'],\n",
      "      dtype='object')\n"
     ]
    }
   ],
   "source": [
    "print(train_data.columns)"
   ]
  },
  {
   "cell_type": "code",
   "execution_count": 8,
   "id": "974b49b1",
   "metadata": {
    "execution": {
     "iopub.execute_input": "2025-03-01T18:34:41.109172Z",
     "iopub.status.busy": "2025-03-01T18:34:41.108792Z",
     "iopub.status.idle": "2025-03-01T18:34:41.115489Z",
     "shell.execute_reply": "2025-03-01T18:34:41.114367Z"
    },
    "papermill": {
     "duration": 0.016831,
     "end_time": "2025-03-01T18:34:41.117111",
     "exception": false,
     "start_time": "2025-03-01T18:34:41.100280",
     "status": "completed"
    },
    "tags": []
   },
   "outputs": [
    {
     "name": "stdout",
     "output_type": "stream",
     "text": [
      "Index(['MSZoning', 'Street', 'Alley', 'LotShape', 'LandContour', 'Utilities',\n",
      "       'LotConfig', 'LandSlope', 'Neighborhood', 'Condition1', 'Condition2',\n",
      "       'BldgType', 'HouseStyle', 'RoofStyle', 'RoofMatl', 'Exterior1st',\n",
      "       'Exterior2nd', 'MasVnrType', 'ExterQual', 'ExterCond', 'Foundation',\n",
      "       'BsmtQual', 'BsmtCond', 'BsmtExposure', 'BsmtFinType1', 'BsmtFinType2',\n",
      "       'Heating', 'HeatingQC', 'CentralAir', 'Electrical', 'KitchenQual',\n",
      "       'Functional', 'FireplaceQu', 'GarageType', 'GarageFinish', 'GarageQual',\n",
      "       'GarageCond', 'PavedDrive', 'PoolQC', 'Fence', 'MiscFeature',\n",
      "       'SaleType', 'SaleCondition'],\n",
      "      dtype='object')\n"
     ]
    }
   ],
   "source": [
    "non_numerical = train_data.select_dtypes(exclude=['int', 'float']).columns\n",
    "print(non_numerical)"
   ]
  },
  {
   "cell_type": "code",
   "execution_count": 9,
   "id": "02210109",
   "metadata": {
    "execution": {
     "iopub.execute_input": "2025-03-01T18:34:41.134032Z",
     "iopub.status.busy": "2025-03-01T18:34:41.133608Z",
     "iopub.status.idle": "2025-03-01T18:34:41.139879Z",
     "shell.execute_reply": "2025-03-01T18:34:41.138245Z"
    },
    "papermill": {
     "duration": 0.01673,
     "end_time": "2025-03-01T18:34:41.141720",
     "exception": false,
     "start_time": "2025-03-01T18:34:41.124990",
     "status": "completed"
    },
    "tags": []
   },
   "outputs": [
    {
     "name": "stdout",
     "output_type": "stream",
     "text": [
      "[['MSZoning']\n",
      " ['Street']\n",
      " ['Alley']\n",
      " ['LotShape']\n",
      " ['LandContour']\n",
      " ['Utilities']\n",
      " ['LotConfig']\n",
      " ['LandSlope']\n",
      " ['Neighborhood']\n",
      " ['Condition1']\n",
      " ['Condition2']\n",
      " ['BldgType']\n",
      " ['HouseStyle']\n",
      " ['RoofStyle']\n",
      " ['RoofMatl']\n",
      " ['Exterior1st']\n",
      " ['Exterior2nd']\n",
      " ['MasVnrType']\n",
      " ['ExterQual']\n",
      " ['ExterCond']\n",
      " ['Foundation']\n",
      " ['BsmtQual']\n",
      " ['BsmtCond']\n",
      " ['BsmtExposure']\n",
      " ['BsmtFinType1']\n",
      " ['BsmtFinType2']\n",
      " ['Heating']\n",
      " ['HeatingQC']\n",
      " ['CentralAir']\n",
      " ['Electrical']\n",
      " ['KitchenQual']\n",
      " ['Functional']\n",
      " ['FireplaceQu']\n",
      " ['GarageType']\n",
      " ['GarageFinish']\n",
      " ['GarageQual']\n",
      " ['GarageCond']\n",
      " ['PavedDrive']\n",
      " ['PoolQC']\n",
      " ['Fence']\n",
      " ['MiscFeature']\n",
      " ['SaleType']\n",
      " ['SaleCondition']]\n"
     ]
    }
   ],
   "source": [
    "# Your 1D array\n",
    "array = np.array(non_numerical)\n",
    "\n",
    "# Reshape to 2D array with shape (n_samples, 1)\n",
    "array_reshaped = array.reshape(-1, 1)\n",
    "\n",
    "print(array_reshaped)"
   ]
  },
  {
   "cell_type": "code",
   "execution_count": 10,
   "id": "1213186f",
   "metadata": {
    "execution": {
     "iopub.execute_input": "2025-03-01T18:34:41.181133Z",
     "iopub.status.busy": "2025-03-01T18:34:41.180735Z",
     "iopub.status.idle": "2025-03-01T18:34:41.192980Z",
     "shell.execute_reply": "2025-03-01T18:34:41.191884Z"
    },
    "papermill": {
     "duration": 0.022548,
     "end_time": "2025-03-01T18:34:41.194672",
     "exception": false,
     "start_time": "2025-03-01T18:34:41.172124",
     "status": "completed"
    },
    "tags": []
   },
   "outputs": [
    {
     "data": {
      "text/html": [
       "<style>#sk-container-id-1 {\n",
       "  /* Definition of color scheme common for light and dark mode */\n",
       "  --sklearn-color-text: #000;\n",
       "  --sklearn-color-text-muted: #666;\n",
       "  --sklearn-color-line: gray;\n",
       "  /* Definition of color scheme for unfitted estimators */\n",
       "  --sklearn-color-unfitted-level-0: #fff5e6;\n",
       "  --sklearn-color-unfitted-level-1: #f6e4d2;\n",
       "  --sklearn-color-unfitted-level-2: #ffe0b3;\n",
       "  --sklearn-color-unfitted-level-3: chocolate;\n",
       "  /* Definition of color scheme for fitted estimators */\n",
       "  --sklearn-color-fitted-level-0: #f0f8ff;\n",
       "  --sklearn-color-fitted-level-1: #d4ebff;\n",
       "  --sklearn-color-fitted-level-2: #b3dbfd;\n",
       "  --sklearn-color-fitted-level-3: cornflowerblue;\n",
       "\n",
       "  /* Specific color for light theme */\n",
       "  --sklearn-color-text-on-default-background: var(--sg-text-color, var(--theme-code-foreground, var(--jp-content-font-color1, black)));\n",
       "  --sklearn-color-background: var(--sg-background-color, var(--theme-background, var(--jp-layout-color0, white)));\n",
       "  --sklearn-color-border-box: var(--sg-text-color, var(--theme-code-foreground, var(--jp-content-font-color1, black)));\n",
       "  --sklearn-color-icon: #696969;\n",
       "\n",
       "  @media (prefers-color-scheme: dark) {\n",
       "    /* Redefinition of color scheme for dark theme */\n",
       "    --sklearn-color-text-on-default-background: var(--sg-text-color, var(--theme-code-foreground, var(--jp-content-font-color1, white)));\n",
       "    --sklearn-color-background: var(--sg-background-color, var(--theme-background, var(--jp-layout-color0, #111)));\n",
       "    --sklearn-color-border-box: var(--sg-text-color, var(--theme-code-foreground, var(--jp-content-font-color1, white)));\n",
       "    --sklearn-color-icon: #878787;\n",
       "  }\n",
       "}\n",
       "\n",
       "#sk-container-id-1 {\n",
       "  color: var(--sklearn-color-text);\n",
       "}\n",
       "\n",
       "#sk-container-id-1 pre {\n",
       "  padding: 0;\n",
       "}\n",
       "\n",
       "#sk-container-id-1 input.sk-hidden--visually {\n",
       "  border: 0;\n",
       "  clip: rect(1px 1px 1px 1px);\n",
       "  clip: rect(1px, 1px, 1px, 1px);\n",
       "  height: 1px;\n",
       "  margin: -1px;\n",
       "  overflow: hidden;\n",
       "  padding: 0;\n",
       "  position: absolute;\n",
       "  width: 1px;\n",
       "}\n",
       "\n",
       "#sk-container-id-1 div.sk-dashed-wrapped {\n",
       "  border: 1px dashed var(--sklearn-color-line);\n",
       "  margin: 0 0.4em 0.5em 0.4em;\n",
       "  box-sizing: border-box;\n",
       "  padding-bottom: 0.4em;\n",
       "  background-color: var(--sklearn-color-background);\n",
       "}\n",
       "\n",
       "#sk-container-id-1 div.sk-container {\n",
       "  /* jupyter's `normalize.less` sets `[hidden] { display: none; }`\n",
       "     but bootstrap.min.css set `[hidden] { display: none !important; }`\n",
       "     so we also need the `!important` here to be able to override the\n",
       "     default hidden behavior on the sphinx rendered scikit-learn.org.\n",
       "     See: https://github.com/scikit-learn/scikit-learn/issues/21755 */\n",
       "  display: inline-block !important;\n",
       "  position: relative;\n",
       "}\n",
       "\n",
       "#sk-container-id-1 div.sk-text-repr-fallback {\n",
       "  display: none;\n",
       "}\n",
       "\n",
       "div.sk-parallel-item,\n",
       "div.sk-serial,\n",
       "div.sk-item {\n",
       "  /* draw centered vertical line to link estimators */\n",
       "  background-image: linear-gradient(var(--sklearn-color-text-on-default-background), var(--sklearn-color-text-on-default-background));\n",
       "  background-size: 2px 100%;\n",
       "  background-repeat: no-repeat;\n",
       "  background-position: center center;\n",
       "}\n",
       "\n",
       "/* Parallel-specific style estimator block */\n",
       "\n",
       "#sk-container-id-1 div.sk-parallel-item::after {\n",
       "  content: \"\";\n",
       "  width: 100%;\n",
       "  border-bottom: 2px solid var(--sklearn-color-text-on-default-background);\n",
       "  flex-grow: 1;\n",
       "}\n",
       "\n",
       "#sk-container-id-1 div.sk-parallel {\n",
       "  display: flex;\n",
       "  align-items: stretch;\n",
       "  justify-content: center;\n",
       "  background-color: var(--sklearn-color-background);\n",
       "  position: relative;\n",
       "}\n",
       "\n",
       "#sk-container-id-1 div.sk-parallel-item {\n",
       "  display: flex;\n",
       "  flex-direction: column;\n",
       "}\n",
       "\n",
       "#sk-container-id-1 div.sk-parallel-item:first-child::after {\n",
       "  align-self: flex-end;\n",
       "  width: 50%;\n",
       "}\n",
       "\n",
       "#sk-container-id-1 div.sk-parallel-item:last-child::after {\n",
       "  align-self: flex-start;\n",
       "  width: 50%;\n",
       "}\n",
       "\n",
       "#sk-container-id-1 div.sk-parallel-item:only-child::after {\n",
       "  width: 0;\n",
       "}\n",
       "\n",
       "/* Serial-specific style estimator block */\n",
       "\n",
       "#sk-container-id-1 div.sk-serial {\n",
       "  display: flex;\n",
       "  flex-direction: column;\n",
       "  align-items: center;\n",
       "  background-color: var(--sklearn-color-background);\n",
       "  padding-right: 1em;\n",
       "  padding-left: 1em;\n",
       "}\n",
       "\n",
       "\n",
       "/* Toggleable style: style used for estimator/Pipeline/ColumnTransformer box that is\n",
       "clickable and can be expanded/collapsed.\n",
       "- Pipeline and ColumnTransformer use this feature and define the default style\n",
       "- Estimators will overwrite some part of the style using the `sk-estimator` class\n",
       "*/\n",
       "\n",
       "/* Pipeline and ColumnTransformer style (default) */\n",
       "\n",
       "#sk-container-id-1 div.sk-toggleable {\n",
       "  /* Default theme specific background. It is overwritten whether we have a\n",
       "  specific estimator or a Pipeline/ColumnTransformer */\n",
       "  background-color: var(--sklearn-color-background);\n",
       "}\n",
       "\n",
       "/* Toggleable label */\n",
       "#sk-container-id-1 label.sk-toggleable__label {\n",
       "  cursor: pointer;\n",
       "  display: flex;\n",
       "  width: 100%;\n",
       "  margin-bottom: 0;\n",
       "  padding: 0.5em;\n",
       "  box-sizing: border-box;\n",
       "  text-align: center;\n",
       "  align-items: start;\n",
       "  justify-content: space-between;\n",
       "  gap: 0.5em;\n",
       "}\n",
       "\n",
       "#sk-container-id-1 label.sk-toggleable__label .caption {\n",
       "  font-size: 0.6rem;\n",
       "  font-weight: lighter;\n",
       "  color: var(--sklearn-color-text-muted);\n",
       "}\n",
       "\n",
       "#sk-container-id-1 label.sk-toggleable__label-arrow:before {\n",
       "  /* Arrow on the left of the label */\n",
       "  content: \"▸\";\n",
       "  float: left;\n",
       "  margin-right: 0.25em;\n",
       "  color: var(--sklearn-color-icon);\n",
       "}\n",
       "\n",
       "#sk-container-id-1 label.sk-toggleable__label-arrow:hover:before {\n",
       "  color: var(--sklearn-color-text);\n",
       "}\n",
       "\n",
       "/* Toggleable content - dropdown */\n",
       "\n",
       "#sk-container-id-1 div.sk-toggleable__content {\n",
       "  max-height: 0;\n",
       "  max-width: 0;\n",
       "  overflow: hidden;\n",
       "  text-align: left;\n",
       "  /* unfitted */\n",
       "  background-color: var(--sklearn-color-unfitted-level-0);\n",
       "}\n",
       "\n",
       "#sk-container-id-1 div.sk-toggleable__content.fitted {\n",
       "  /* fitted */\n",
       "  background-color: var(--sklearn-color-fitted-level-0);\n",
       "}\n",
       "\n",
       "#sk-container-id-1 div.sk-toggleable__content pre {\n",
       "  margin: 0.2em;\n",
       "  border-radius: 0.25em;\n",
       "  color: var(--sklearn-color-text);\n",
       "  /* unfitted */\n",
       "  background-color: var(--sklearn-color-unfitted-level-0);\n",
       "}\n",
       "\n",
       "#sk-container-id-1 div.sk-toggleable__content.fitted pre {\n",
       "  /* unfitted */\n",
       "  background-color: var(--sklearn-color-fitted-level-0);\n",
       "}\n",
       "\n",
       "#sk-container-id-1 input.sk-toggleable__control:checked~div.sk-toggleable__content {\n",
       "  /* Expand drop-down */\n",
       "  max-height: 200px;\n",
       "  max-width: 100%;\n",
       "  overflow: auto;\n",
       "}\n",
       "\n",
       "#sk-container-id-1 input.sk-toggleable__control:checked~label.sk-toggleable__label-arrow:before {\n",
       "  content: \"▾\";\n",
       "}\n",
       "\n",
       "/* Pipeline/ColumnTransformer-specific style */\n",
       "\n",
       "#sk-container-id-1 div.sk-label input.sk-toggleable__control:checked~label.sk-toggleable__label {\n",
       "  color: var(--sklearn-color-text);\n",
       "  background-color: var(--sklearn-color-unfitted-level-2);\n",
       "}\n",
       "\n",
       "#sk-container-id-1 div.sk-label.fitted input.sk-toggleable__control:checked~label.sk-toggleable__label {\n",
       "  background-color: var(--sklearn-color-fitted-level-2);\n",
       "}\n",
       "\n",
       "/* Estimator-specific style */\n",
       "\n",
       "/* Colorize estimator box */\n",
       "#sk-container-id-1 div.sk-estimator input.sk-toggleable__control:checked~label.sk-toggleable__label {\n",
       "  /* unfitted */\n",
       "  background-color: var(--sklearn-color-unfitted-level-2);\n",
       "}\n",
       "\n",
       "#sk-container-id-1 div.sk-estimator.fitted input.sk-toggleable__control:checked~label.sk-toggleable__label {\n",
       "  /* fitted */\n",
       "  background-color: var(--sklearn-color-fitted-level-2);\n",
       "}\n",
       "\n",
       "#sk-container-id-1 div.sk-label label.sk-toggleable__label,\n",
       "#sk-container-id-1 div.sk-label label {\n",
       "  /* The background is the default theme color */\n",
       "  color: var(--sklearn-color-text-on-default-background);\n",
       "}\n",
       "\n",
       "/* On hover, darken the color of the background */\n",
       "#sk-container-id-1 div.sk-label:hover label.sk-toggleable__label {\n",
       "  color: var(--sklearn-color-text);\n",
       "  background-color: var(--sklearn-color-unfitted-level-2);\n",
       "}\n",
       "\n",
       "/* Label box, darken color on hover, fitted */\n",
       "#sk-container-id-1 div.sk-label.fitted:hover label.sk-toggleable__label.fitted {\n",
       "  color: var(--sklearn-color-text);\n",
       "  background-color: var(--sklearn-color-fitted-level-2);\n",
       "}\n",
       "\n",
       "/* Estimator label */\n",
       "\n",
       "#sk-container-id-1 div.sk-label label {\n",
       "  font-family: monospace;\n",
       "  font-weight: bold;\n",
       "  display: inline-block;\n",
       "  line-height: 1.2em;\n",
       "}\n",
       "\n",
       "#sk-container-id-1 div.sk-label-container {\n",
       "  text-align: center;\n",
       "}\n",
       "\n",
       "/* Estimator-specific */\n",
       "#sk-container-id-1 div.sk-estimator {\n",
       "  font-family: monospace;\n",
       "  border: 1px dotted var(--sklearn-color-border-box);\n",
       "  border-radius: 0.25em;\n",
       "  box-sizing: border-box;\n",
       "  margin-bottom: 0.5em;\n",
       "  /* unfitted */\n",
       "  background-color: var(--sklearn-color-unfitted-level-0);\n",
       "}\n",
       "\n",
       "#sk-container-id-1 div.sk-estimator.fitted {\n",
       "  /* fitted */\n",
       "  background-color: var(--sklearn-color-fitted-level-0);\n",
       "}\n",
       "\n",
       "/* on hover */\n",
       "#sk-container-id-1 div.sk-estimator:hover {\n",
       "  /* unfitted */\n",
       "  background-color: var(--sklearn-color-unfitted-level-2);\n",
       "}\n",
       "\n",
       "#sk-container-id-1 div.sk-estimator.fitted:hover {\n",
       "  /* fitted */\n",
       "  background-color: var(--sklearn-color-fitted-level-2);\n",
       "}\n",
       "\n",
       "/* Specification for estimator info (e.g. \"i\" and \"?\") */\n",
       "\n",
       "/* Common style for \"i\" and \"?\" */\n",
       "\n",
       ".sk-estimator-doc-link,\n",
       "a:link.sk-estimator-doc-link,\n",
       "a:visited.sk-estimator-doc-link {\n",
       "  float: right;\n",
       "  font-size: smaller;\n",
       "  line-height: 1em;\n",
       "  font-family: monospace;\n",
       "  background-color: var(--sklearn-color-background);\n",
       "  border-radius: 1em;\n",
       "  height: 1em;\n",
       "  width: 1em;\n",
       "  text-decoration: none !important;\n",
       "  margin-left: 0.5em;\n",
       "  text-align: center;\n",
       "  /* unfitted */\n",
       "  border: var(--sklearn-color-unfitted-level-1) 1pt solid;\n",
       "  color: var(--sklearn-color-unfitted-level-1);\n",
       "}\n",
       "\n",
       ".sk-estimator-doc-link.fitted,\n",
       "a:link.sk-estimator-doc-link.fitted,\n",
       "a:visited.sk-estimator-doc-link.fitted {\n",
       "  /* fitted */\n",
       "  border: var(--sklearn-color-fitted-level-1) 1pt solid;\n",
       "  color: var(--sklearn-color-fitted-level-1);\n",
       "}\n",
       "\n",
       "/* On hover */\n",
       "div.sk-estimator:hover .sk-estimator-doc-link:hover,\n",
       ".sk-estimator-doc-link:hover,\n",
       "div.sk-label-container:hover .sk-estimator-doc-link:hover,\n",
       ".sk-estimator-doc-link:hover {\n",
       "  /* unfitted */\n",
       "  background-color: var(--sklearn-color-unfitted-level-3);\n",
       "  color: var(--sklearn-color-background);\n",
       "  text-decoration: none;\n",
       "}\n",
       "\n",
       "div.sk-estimator.fitted:hover .sk-estimator-doc-link.fitted:hover,\n",
       ".sk-estimator-doc-link.fitted:hover,\n",
       "div.sk-label-container:hover .sk-estimator-doc-link.fitted:hover,\n",
       ".sk-estimator-doc-link.fitted:hover {\n",
       "  /* fitted */\n",
       "  background-color: var(--sklearn-color-fitted-level-3);\n",
       "  color: var(--sklearn-color-background);\n",
       "  text-decoration: none;\n",
       "}\n",
       "\n",
       "/* Span, style for the box shown on hovering the info icon */\n",
       ".sk-estimator-doc-link span {\n",
       "  display: none;\n",
       "  z-index: 9999;\n",
       "  position: relative;\n",
       "  font-weight: normal;\n",
       "  right: .2ex;\n",
       "  padding: .5ex;\n",
       "  margin: .5ex;\n",
       "  width: min-content;\n",
       "  min-width: 20ex;\n",
       "  max-width: 50ex;\n",
       "  color: var(--sklearn-color-text);\n",
       "  box-shadow: 2pt 2pt 4pt #999;\n",
       "  /* unfitted */\n",
       "  background: var(--sklearn-color-unfitted-level-0);\n",
       "  border: .5pt solid var(--sklearn-color-unfitted-level-3);\n",
       "}\n",
       "\n",
       ".sk-estimator-doc-link.fitted span {\n",
       "  /* fitted */\n",
       "  background: var(--sklearn-color-fitted-level-0);\n",
       "  border: var(--sklearn-color-fitted-level-3);\n",
       "}\n",
       "\n",
       ".sk-estimator-doc-link:hover span {\n",
       "  display: block;\n",
       "}\n",
       "\n",
       "/* \"?\"-specific style due to the `<a>` HTML tag */\n",
       "\n",
       "#sk-container-id-1 a.estimator_doc_link {\n",
       "  float: right;\n",
       "  font-size: 1rem;\n",
       "  line-height: 1em;\n",
       "  font-family: monospace;\n",
       "  background-color: var(--sklearn-color-background);\n",
       "  border-radius: 1rem;\n",
       "  height: 1rem;\n",
       "  width: 1rem;\n",
       "  text-decoration: none;\n",
       "  /* unfitted */\n",
       "  color: var(--sklearn-color-unfitted-level-1);\n",
       "  border: var(--sklearn-color-unfitted-level-1) 1pt solid;\n",
       "}\n",
       "\n",
       "#sk-container-id-1 a.estimator_doc_link.fitted {\n",
       "  /* fitted */\n",
       "  border: var(--sklearn-color-fitted-level-1) 1pt solid;\n",
       "  color: var(--sklearn-color-fitted-level-1);\n",
       "}\n",
       "\n",
       "/* On hover */\n",
       "#sk-container-id-1 a.estimator_doc_link:hover {\n",
       "  /* unfitted */\n",
       "  background-color: var(--sklearn-color-unfitted-level-3);\n",
       "  color: var(--sklearn-color-background);\n",
       "  text-decoration: none;\n",
       "}\n",
       "\n",
       "#sk-container-id-1 a.estimator_doc_link.fitted:hover {\n",
       "  /* fitted */\n",
       "  background-color: var(--sklearn-color-fitted-level-3);\n",
       "}\n",
       "</style><div id=\"sk-container-id-1\" class=\"sk-top-container\"><div class=\"sk-text-repr-fallback\"><pre>OneHotEncoder()</pre><b>In a Jupyter environment, please rerun this cell to show the HTML representation or trust the notebook. <br />On GitHub, the HTML representation is unable to render, please try loading this page with nbviewer.org.</b></div><div class=\"sk-container\" hidden><div class=\"sk-item\"><div class=\"sk-estimator fitted sk-toggleable\"><input class=\"sk-toggleable__control sk-hidden--visually\" id=\"sk-estimator-id-1\" type=\"checkbox\" checked><label for=\"sk-estimator-id-1\" class=\"sk-toggleable__label fitted sk-toggleable__label-arrow\"><div><div>OneHotEncoder</div></div><div><a class=\"sk-estimator-doc-link fitted\" rel=\"noreferrer\" target=\"_blank\" href=\"https://scikit-learn.org/1.6/modules/generated/sklearn.preprocessing.OneHotEncoder.html\">?<span>Documentation for OneHotEncoder</span></a><span class=\"sk-estimator-doc-link fitted\">i<span>Fitted</span></span></div></label><div class=\"sk-toggleable__content fitted\"><pre>OneHotEncoder()</pre></div> </div></div></div></div>"
      ],
      "text/plain": [
       "OneHotEncoder()"
      ]
     },
     "execution_count": 10,
     "metadata": {},
     "output_type": "execute_result"
    }
   ],
   "source": [
    "encoder = OneHotEncoder()\n",
    "encoder.fit(array_reshaped)"
   ]
  },
  {
   "cell_type": "code",
   "execution_count": 11,
   "id": "d48b930e",
   "metadata": {
    "execution": {
     "iopub.execute_input": "2025-03-01T18:34:41.212470Z",
     "iopub.status.busy": "2025-03-01T18:34:41.212133Z",
     "iopub.status.idle": "2025-03-01T18:34:41.219130Z",
     "shell.execute_reply": "2025-03-01T18:34:41.218165Z"
    },
    "papermill": {
     "duration": 0.01791,
     "end_time": "2025-03-01T18:34:41.220824",
     "exception": false,
     "start_time": "2025-03-01T18:34:41.202914",
     "status": "completed"
    },
    "tags": []
   },
   "outputs": [],
   "source": [
    "encoded_data = encoder.transform(array_reshaped).toarray()"
   ]
  },
  {
   "cell_type": "code",
   "execution_count": 12,
   "id": "85af448a",
   "metadata": {
    "execution": {
     "iopub.execute_input": "2025-03-01T18:34:41.238391Z",
     "iopub.status.busy": "2025-03-01T18:34:41.238024Z",
     "iopub.status.idle": "2025-03-01T18:34:41.254646Z",
     "shell.execute_reply": "2025-03-01T18:34:41.253359Z"
    },
    "papermill": {
     "duration": 0.027485,
     "end_time": "2025-03-01T18:34:41.256564",
     "exception": false,
     "start_time": "2025-03-01T18:34:41.229079",
     "status": "completed"
    },
    "tags": []
   },
   "outputs": [
    {
     "name": "stdout",
     "output_type": "stream",
     "text": [
      "   feature_name_Alley  feature_name_BldgType  feature_name_BsmtCond  \\\n",
      "0                 0.0                    0.0                    0.0   \n",
      "1                 0.0                    0.0                    0.0   \n",
      "2                 1.0                    0.0                    0.0   \n",
      "3                 0.0                    0.0                    0.0   \n",
      "4                 0.0                    0.0                    0.0   \n",
      "\n",
      "   feature_name_BsmtExposure  feature_name_BsmtFinType1  \\\n",
      "0                        0.0                        0.0   \n",
      "1                        0.0                        0.0   \n",
      "2                        0.0                        0.0   \n",
      "3                        0.0                        0.0   \n",
      "4                        0.0                        0.0   \n",
      "\n",
      "   feature_name_BsmtFinType2  feature_name_BsmtQual  feature_name_CentralAir  \\\n",
      "0                        0.0                    0.0                      0.0   \n",
      "1                        0.0                    0.0                      0.0   \n",
      "2                        0.0                    0.0                      0.0   \n",
      "3                        0.0                    0.0                      0.0   \n",
      "4                        0.0                    0.0                      0.0   \n",
      "\n",
      "   feature_name_Condition1  feature_name_Condition2  ...  \\\n",
      "0                      0.0                      0.0  ...   \n",
      "1                      0.0                      0.0  ...   \n",
      "2                      0.0                      0.0  ...   \n",
      "3                      0.0                      0.0  ...   \n",
      "4                      0.0                      0.0  ...   \n",
      "\n",
      "   feature_name_MiscFeature  feature_name_Neighborhood  \\\n",
      "0                       0.0                        0.0   \n",
      "1                       0.0                        0.0   \n",
      "2                       0.0                        0.0   \n",
      "3                       0.0                        0.0   \n",
      "4                       0.0                        0.0   \n",
      "\n",
      "   feature_name_PavedDrive  feature_name_PoolQC  feature_name_RoofMatl  \\\n",
      "0                      0.0                  0.0                    0.0   \n",
      "1                      0.0                  0.0                    0.0   \n",
      "2                      0.0                  0.0                    0.0   \n",
      "3                      0.0                  0.0                    0.0   \n",
      "4                      0.0                  0.0                    0.0   \n",
      "\n",
      "   feature_name_RoofStyle  feature_name_SaleCondition  feature_name_SaleType  \\\n",
      "0                     0.0                         0.0                    0.0   \n",
      "1                     0.0                         0.0                    0.0   \n",
      "2                     0.0                         0.0                    0.0   \n",
      "3                     0.0                         0.0                    0.0   \n",
      "4                     0.0                         0.0                    0.0   \n",
      "\n",
      "   feature_name_Street  feature_name_Utilities  \n",
      "0                  0.0                     0.0  \n",
      "1                  1.0                     0.0  \n",
      "2                  0.0                     0.0  \n",
      "3                  0.0                     0.0  \n",
      "4                  0.0                     0.0  \n",
      "\n",
      "[5 rows x 43 columns]\n"
     ]
    }
   ],
   "source": [
    "df_encoded = pd.DataFrame(encoded_data, columns=encoder.get_feature_names_out\n",
    "                          (['feature_name']))\n",
    "print(df_encoded.head(5))"
   ]
  },
  {
   "cell_type": "code",
   "execution_count": 13,
   "id": "68cd7e8e",
   "metadata": {
    "execution": {
     "iopub.execute_input": "2025-03-01T18:34:41.274814Z",
     "iopub.status.busy": "2025-03-01T18:34:41.274422Z",
     "iopub.status.idle": "2025-03-01T18:34:41.290647Z",
     "shell.execute_reply": "2025-03-01T18:34:41.289198Z"
    },
    "papermill": {
     "duration": 0.02743,
     "end_time": "2025-03-01T18:34:41.292423",
     "exception": false,
     "start_time": "2025-03-01T18:34:41.264993",
     "status": "completed"
    },
    "tags": []
   },
   "outputs": [
    {
     "name": "stdout",
     "output_type": "stream",
     "text": [
      "   Alley  BldgType  BsmtCond  BsmtExposure  BsmtFinType1  BsmtFinType2  \\\n",
      "0    0.0       0.0       0.0           0.0           0.0           0.0   \n",
      "1    0.0       0.0       0.0           0.0           0.0           0.0   \n",
      "2    1.0       0.0       0.0           0.0           0.0           0.0   \n",
      "3    0.0       0.0       0.0           0.0           0.0           0.0   \n",
      "4    0.0       0.0       0.0           0.0           0.0           0.0   \n",
      "\n",
      "   BsmtQual  CentralAir  Condition1  Condition2  ...  MiscFeature  \\\n",
      "0       0.0         0.0         0.0         0.0  ...          0.0   \n",
      "1       0.0         0.0         0.0         0.0  ...          0.0   \n",
      "2       0.0         0.0         0.0         0.0  ...          0.0   \n",
      "3       0.0         0.0         0.0         0.0  ...          0.0   \n",
      "4       0.0         0.0         0.0         0.0  ...          0.0   \n",
      "\n",
      "   Neighborhood  PavedDrive  PoolQC  RoofMatl  RoofStyle  SaleCondition  \\\n",
      "0           0.0         0.0     0.0       0.0        0.0            0.0   \n",
      "1           0.0         0.0     0.0       0.0        0.0            0.0   \n",
      "2           0.0         0.0     0.0       0.0        0.0            0.0   \n",
      "3           0.0         0.0     0.0       0.0        0.0            0.0   \n",
      "4           0.0         0.0     0.0       0.0        0.0            0.0   \n",
      "\n",
      "   SaleType  Street  Utilities  \n",
      "0       0.0     0.0        0.0  \n",
      "1       0.0     1.0        0.0  \n",
      "2       0.0     0.0        0.0  \n",
      "3       0.0     0.0        0.0  \n",
      "4       0.0     0.0        0.0  \n",
      "\n",
      "[5 rows x 43 columns]\n"
     ]
    }
   ],
   "source": [
    "# Remove the prefix 'feature_name_' from the column names\n",
    "df_encoded.columns = df_encoded.columns.str.replace('feature_name_', '')\n",
    "\n",
    "# Display the updated DataFrame\n",
    "print(df_encoded.head())"
   ]
  },
  {
   "cell_type": "code",
   "execution_count": 14,
   "id": "de582d1b",
   "metadata": {
    "execution": {
     "iopub.execute_input": "2025-03-01T18:34:41.310880Z",
     "iopub.status.busy": "2025-03-01T18:34:41.310524Z",
     "iopub.status.idle": "2025-03-01T18:34:41.317358Z",
     "shell.execute_reply": "2025-03-01T18:34:41.316041Z"
    },
    "papermill": {
     "duration": 0.018155,
     "end_time": "2025-03-01T18:34:41.319140",
     "exception": false,
     "start_time": "2025-03-01T18:34:41.300985",
     "status": "completed"
    },
    "tags": []
   },
   "outputs": [
    {
     "name": "stdout",
     "output_type": "stream",
     "text": [
      "Alley            0\n",
      "BldgType         0\n",
      "BsmtCond         0\n",
      "BsmtExposure     0\n",
      "BsmtFinType1     0\n",
      "BsmtFinType2     0\n",
      "BsmtQual         0\n",
      "CentralAir       0\n",
      "Condition1       0\n",
      "Condition2       0\n",
      "Electrical       0\n",
      "ExterCond        0\n",
      "ExterQual        0\n",
      "Exterior1st      0\n",
      "Exterior2nd      0\n",
      "Fence            0\n",
      "FireplaceQu      0\n",
      "Foundation       0\n",
      "Functional       0\n",
      "GarageCond       0\n",
      "GarageFinish     0\n",
      "GarageQual       0\n",
      "GarageType       0\n",
      "Heating          0\n",
      "HeatingQC        0\n",
      "HouseStyle       0\n",
      "KitchenQual      0\n",
      "LandContour      0\n",
      "LandSlope        0\n",
      "LotConfig        0\n",
      "LotShape         0\n",
      "MSZoning         0\n",
      "MasVnrType       0\n",
      "MiscFeature      0\n",
      "Neighborhood     0\n",
      "PavedDrive       0\n",
      "PoolQC           0\n",
      "RoofMatl         0\n",
      "RoofStyle        0\n",
      "SaleCondition    0\n",
      "SaleType         0\n",
      "Street           0\n",
      "Utilities        0\n",
      "dtype: int64\n"
     ]
    }
   ],
   "source": [
    "print(df_encoded.isna().sum())\n",
    "# no missing value from the df_encoded"
   ]
  },
  {
   "cell_type": "code",
   "execution_count": 15,
   "id": "f526c853",
   "metadata": {
    "execution": {
     "iopub.execute_input": "2025-03-01T18:34:41.338045Z",
     "iopub.status.busy": "2025-03-01T18:34:41.337699Z",
     "iopub.status.idle": "2025-03-01T18:34:41.350502Z",
     "shell.execute_reply": "2025-03-01T18:34:41.349327Z"
    },
    "papermill": {
     "duration": 0.024177,
     "end_time": "2025-03-01T18:34:41.352241",
     "exception": false,
     "start_time": "2025-03-01T18:34:41.328064",
     "status": "completed"
    },
    "tags": []
   },
   "outputs": [
    {
     "name": "stdout",
     "output_type": "stream",
     "text": [
      "0\n"
     ]
    }
   ],
   "source": [
    "print(df_encoded.duplicated().sum())\n",
    "#no duplication"
   ]
  },
  {
   "cell_type": "code",
   "execution_count": 16,
   "id": "6a35208b",
   "metadata": {
    "execution": {
     "iopub.execute_input": "2025-03-01T18:34:41.370916Z",
     "iopub.status.busy": "2025-03-01T18:34:41.370559Z",
     "iopub.status.idle": "2025-03-01T18:34:41.383912Z",
     "shell.execute_reply": "2025-03-01T18:34:41.382729Z"
    },
    "papermill": {
     "duration": 0.024805,
     "end_time": "2025-03-01T18:34:41.385581",
     "exception": false,
     "start_time": "2025-03-01T18:34:41.360776",
     "status": "completed"
    },
    "tags": []
   },
   "outputs": [
    {
     "name": "stdout",
     "output_type": "stream",
     "text": [
      "   Id  MSSubClass  LotFrontage  LotArea  OverallQual  OverallCond  YearBuilt  \\\n",
      "0   1          60         65.0     8450            7            5       2003   \n",
      "1   2          20         80.0     9600            6            8       1976   \n",
      "2   3          60         68.0    11250            7            5       2001   \n",
      "3   4          70         60.0     9550            7            5       1915   \n",
      "4   5          60         84.0    14260            8            5       2000   \n",
      "\n",
      "   YearRemodAdd  MasVnrArea  BsmtFinSF1  ...  WoodDeckSF  OpenPorchSF  \\\n",
      "0          2003       196.0         706  ...           0           61   \n",
      "1          1976         0.0         978  ...         298            0   \n",
      "2          2002       162.0         486  ...           0           42   \n",
      "3          1970         0.0         216  ...           0           35   \n",
      "4          2000       350.0         655  ...         192           84   \n",
      "\n",
      "   EnclosedPorch  3SsnPorch  ScreenPorch  PoolArea  MiscVal  MoSold  YrSold  \\\n",
      "0              0          0            0         0        0       2    2008   \n",
      "1              0          0            0         0        0       5    2007   \n",
      "2              0          0            0         0        0       9    2008   \n",
      "3            272          0            0         0        0       2    2006   \n",
      "4              0          0            0         0        0      12    2008   \n",
      "\n",
      "   SalePrice  \n",
      "0     208500  \n",
      "1     181500  \n",
      "2     223500  \n",
      "3     140000  \n",
      "4     250000  \n",
      "\n",
      "[5 rows x 38 columns]\n"
     ]
    }
   ],
   "source": [
    "# Extract numerical columns from train_data\n",
    "numericals = train_data.select_dtypes(include=['int', 'float']).columns\n",
    "numerical_columns = train_data[numericals]\n",
    "print(numerical_columns.head(5))"
   ]
  },
  {
   "cell_type": "code",
   "execution_count": 17,
   "id": "153eece3",
   "metadata": {
    "execution": {
     "iopub.execute_input": "2025-03-01T18:34:41.404674Z",
     "iopub.status.busy": "2025-03-01T18:34:41.404286Z",
     "iopub.status.idle": "2025-03-01T18:34:41.413121Z",
     "shell.execute_reply": "2025-03-01T18:34:41.411535Z"
    },
    "papermill": {
     "duration": 0.020078,
     "end_time": "2025-03-01T18:34:41.414859",
     "exception": false,
     "start_time": "2025-03-01T18:34:41.394781",
     "status": "completed"
    },
    "tags": []
   },
   "outputs": [
    {
     "name": "stdout",
     "output_type": "stream",
     "text": [
      "Id                 0\n",
      "MSSubClass         0\n",
      "LotFrontage      259\n",
      "LotArea            0\n",
      "OverallQual        0\n",
      "OverallCond        0\n",
      "YearBuilt          0\n",
      "YearRemodAdd       0\n",
      "MasVnrArea         8\n",
      "BsmtFinSF1         0\n",
      "BsmtFinSF2         0\n",
      "BsmtUnfSF          0\n",
      "TotalBsmtSF        0\n",
      "1stFlrSF           0\n",
      "2ndFlrSF           0\n",
      "LowQualFinSF       0\n",
      "GrLivArea          0\n",
      "BsmtFullBath       0\n",
      "BsmtHalfBath       0\n",
      "FullBath           0\n",
      "HalfBath           0\n",
      "BedroomAbvGr       0\n",
      "KitchenAbvGr       0\n",
      "TotRmsAbvGrd       0\n",
      "Fireplaces         0\n",
      "GarageYrBlt       81\n",
      "GarageCars         0\n",
      "GarageArea         0\n",
      "WoodDeckSF         0\n",
      "OpenPorchSF        0\n",
      "EnclosedPorch      0\n",
      "3SsnPorch          0\n",
      "ScreenPorch        0\n",
      "PoolArea           0\n",
      "MiscVal            0\n",
      "MoSold             0\n",
      "YrSold             0\n",
      "SalePrice          0\n",
      "dtype: int64\n"
     ]
    }
   ],
   "source": [
    "print(numerical_columns.isna().sum())"
   ]
  },
  {
   "cell_type": "code",
   "execution_count": 18,
   "id": "f1a75c3f",
   "metadata": {
    "execution": {
     "iopub.execute_input": "2025-03-01T18:34:41.433672Z",
     "iopub.status.busy": "2025-03-01T18:34:41.433345Z",
     "iopub.status.idle": "2025-03-01T18:34:41.440575Z",
     "shell.execute_reply": "2025-03-01T18:34:41.439219Z"
    },
    "papermill": {
     "duration": 0.018398,
     "end_time": "2025-03-01T18:34:41.442243",
     "exception": false,
     "start_time": "2025-03-01T18:34:41.423845",
     "status": "completed"
    },
    "tags": []
   },
   "outputs": [
    {
     "name": "stdout",
     "output_type": "stream",
     "text": [
      "Id               0\n",
      "MSSubClass       0\n",
      "LotFrontage      0\n",
      "LotArea          0\n",
      "OverallQual      0\n",
      "OverallCond      0\n",
      "YearBuilt        0\n",
      "YearRemodAdd     0\n",
      "MasVnrArea       0\n",
      "BsmtFinSF1       0\n",
      "BsmtFinSF2       0\n",
      "BsmtUnfSF        0\n",
      "TotalBsmtSF      0\n",
      "1stFlrSF         0\n",
      "2ndFlrSF         0\n",
      "LowQualFinSF     0\n",
      "GrLivArea        0\n",
      "BsmtFullBath     0\n",
      "BsmtHalfBath     0\n",
      "FullBath         0\n",
      "HalfBath         0\n",
      "BedroomAbvGr     0\n",
      "KitchenAbvGr     0\n",
      "TotRmsAbvGrd     0\n",
      "Fireplaces       0\n",
      "GarageYrBlt      0\n",
      "GarageCars       0\n",
      "GarageArea       0\n",
      "WoodDeckSF       0\n",
      "OpenPorchSF      0\n",
      "EnclosedPorch    0\n",
      "3SsnPorch        0\n",
      "ScreenPorch      0\n",
      "PoolArea         0\n",
      "MiscVal          0\n",
      "MoSold           0\n",
      "YrSold           0\n",
      "SalePrice        0\n",
      "dtype: int64\n"
     ]
    }
   ],
   "source": [
    "numerical_columns = numerical_columns.fillna(0)\n",
    "print(numerical_columns.isna().sum())"
   ]
  },
  {
   "cell_type": "code",
   "execution_count": 19,
   "id": "d89935ba",
   "metadata": {
    "execution": {
     "iopub.execute_input": "2025-03-01T18:34:41.461181Z",
     "iopub.status.busy": "2025-03-01T18:34:41.460805Z",
     "iopub.status.idle": "2025-03-01T18:34:41.476291Z",
     "shell.execute_reply": "2025-03-01T18:34:41.474768Z"
    },
    "papermill": {
     "duration": 0.027146,
     "end_time": "2025-03-01T18:34:41.478024",
     "exception": false,
     "start_time": "2025-03-01T18:34:41.450878",
     "status": "completed"
    },
    "tags": []
   },
   "outputs": [
    {
     "name": "stdout",
     "output_type": "stream",
     "text": [
      "   Id  MSSubClass  LotFrontage  LotArea  OverallQual  OverallCond  YearBuilt  \\\n",
      "0   1          60         65.0     8450            7            5       2003   \n",
      "1   2          20         80.0     9600            6            8       1976   \n",
      "2   3          60         68.0    11250            7            5       2001   \n",
      "3   4          70         60.0     9550            7            5       1915   \n",
      "4   5          60         84.0    14260            8            5       2000   \n",
      "\n",
      "   YearRemodAdd  MasVnrArea  BsmtFinSF1  ...  MiscFeature  Neighborhood  \\\n",
      "0          2003       196.0         706  ...          0.0           0.0   \n",
      "1          1976         0.0         978  ...          0.0           0.0   \n",
      "2          2002       162.0         486  ...          0.0           0.0   \n",
      "3          1970         0.0         216  ...          0.0           0.0   \n",
      "4          2000       350.0         655  ...          0.0           0.0   \n",
      "\n",
      "   PavedDrive  PoolQC  RoofMatl  RoofStyle  SaleCondition  SaleType  Street  \\\n",
      "0         0.0     0.0       0.0        0.0            0.0       0.0     0.0   \n",
      "1         0.0     0.0       0.0        0.0            0.0       0.0     1.0   \n",
      "2         0.0     0.0       0.0        0.0            0.0       0.0     0.0   \n",
      "3         0.0     0.0       0.0        0.0            0.0       0.0     0.0   \n",
      "4         0.0     0.0       0.0        0.0            0.0       0.0     0.0   \n",
      "\n",
      "   Utilities  \n",
      "0        0.0  \n",
      "1        0.0  \n",
      "2        0.0  \n",
      "3        0.0  \n",
      "4        0.0  \n",
      "\n",
      "[5 rows x 81 columns]\n"
     ]
    }
   ],
   "source": [
    "# Concatenate numerical_columns and df_encoded\n",
    "result = pd.concat([numerical_columns, df_encoded], axis=1)\n",
    "print(result.head(5))"
   ]
  },
  {
   "cell_type": "code",
   "execution_count": 20,
   "id": "e47f8536",
   "metadata": {
    "execution": {
     "iopub.execute_input": "2025-03-01T18:34:41.497702Z",
     "iopub.status.busy": "2025-03-01T18:34:41.497265Z",
     "iopub.status.idle": "2025-03-01T18:34:41.519231Z",
     "shell.execute_reply": "2025-03-01T18:34:41.517922Z"
    },
    "papermill": {
     "duration": 0.033767,
     "end_time": "2025-03-01T18:34:41.521130",
     "exception": false,
     "start_time": "2025-03-01T18:34:41.487363",
     "status": "completed"
    },
    "tags": []
   },
   "outputs": [
    {
     "name": "stdout",
     "output_type": "stream",
     "text": [
      "        Id  MSSubClass  LotFrontage  LotArea  OverallQual  OverallCond  \\\n",
      "0        1          60         65.0     8450            7            5   \n",
      "1        2          20         80.0     9600            6            8   \n",
      "2        3          60         68.0    11250            7            5   \n",
      "3        4          70         60.0     9550            7            5   \n",
      "4        5          60         84.0    14260            8            5   \n",
      "...    ...         ...          ...      ...          ...          ...   \n",
      "1455  1456          60         62.0     7917            6            5   \n",
      "1456  1457          20         85.0    13175            6            6   \n",
      "1457  1458          70         66.0     9042            7            9   \n",
      "1458  1459          20         68.0     9717            5            6   \n",
      "1459  1460          20         75.0     9937            5            6   \n",
      "\n",
      "      YearBuilt  YearRemodAdd  MasVnrArea  BsmtFinSF1  ...  MiscFeature  \\\n",
      "0          2003          2003       196.0         706  ...          0.0   \n",
      "1          1976          1976         0.0         978  ...          0.0   \n",
      "2          2001          2002       162.0         486  ...          0.0   \n",
      "3          1915          1970         0.0         216  ...          0.0   \n",
      "4          2000          2000       350.0         655  ...          0.0   \n",
      "...         ...           ...         ...         ...  ...          ...   \n",
      "1455       1999          2000         0.0           0  ...          0.0   \n",
      "1456       1978          1988       119.0         790  ...          0.0   \n",
      "1457       1941          2006         0.0         275  ...          0.0   \n",
      "1458       1950          1996         0.0          49  ...          0.0   \n",
      "1459       1965          1965         0.0         830  ...          0.0   \n",
      "\n",
      "      Neighborhood  PavedDrive  PoolQC  RoofMatl  RoofStyle  SaleCondition  \\\n",
      "0              0.0         0.0     0.0       0.0        0.0            0.0   \n",
      "1              0.0         0.0     0.0       0.0        0.0            0.0   \n",
      "2              0.0         0.0     0.0       0.0        0.0            0.0   \n",
      "3              0.0         0.0     0.0       0.0        0.0            0.0   \n",
      "4              0.0         0.0     0.0       0.0        0.0            0.0   \n",
      "...            ...         ...     ...       ...        ...            ...   \n",
      "1455           0.0         0.0     0.0       0.0        0.0            0.0   \n",
      "1456           0.0         0.0     0.0       0.0        0.0            0.0   \n",
      "1457           0.0         0.0     0.0       0.0        0.0            0.0   \n",
      "1458           0.0         0.0     0.0       0.0        0.0            0.0   \n",
      "1459           0.0         0.0     0.0       0.0        0.0            0.0   \n",
      "\n",
      "      SaleType  Street  Utilities  \n",
      "0          0.0     0.0        0.0  \n",
      "1          0.0     1.0        0.0  \n",
      "2          0.0     0.0        0.0  \n",
      "3          0.0     0.0        0.0  \n",
      "4          0.0     0.0        0.0  \n",
      "...        ...     ...        ...  \n",
      "1455       0.0     0.0        0.0  \n",
      "1456       0.0     0.0        0.0  \n",
      "1457       0.0     0.0        0.0  \n",
      "1458       0.0     0.0        0.0  \n",
      "1459       0.0     0.0        0.0  \n",
      "\n",
      "[1460 rows x 81 columns]\n"
     ]
    }
   ],
   "source": [
    "result = result.replace([np.inf, -np.inf], np.nan).fillna(0)  # Replace inf with NaN and then fill NaN with 0\n",
    "print(result)\n"
   ]
  },
  {
   "cell_type": "code",
   "execution_count": 21,
   "id": "e8deb3da",
   "metadata": {
    "execution": {
     "iopub.execute_input": "2025-03-01T18:34:41.540317Z",
     "iopub.status.busy": "2025-03-01T18:34:41.539902Z",
     "iopub.status.idle": "2025-03-01T18:34:41.556656Z",
     "shell.execute_reply": "2025-03-01T18:34:41.555292Z"
    },
    "papermill": {
     "duration": 0.028247,
     "end_time": "2025-03-01T18:34:41.558420",
     "exception": false,
     "start_time": "2025-03-01T18:34:41.530173",
     "status": "completed"
    },
    "tags": []
   },
   "outputs": [
    {
     "name": "stdout",
     "output_type": "stream",
     "text": [
      "   Id  MSSubClass  LotFrontage  LotArea  OverallQual  OverallCond  YearBuilt  \\\n",
      "0   1          60         65.0     8450            7            5       2003   \n",
      "1   2          20         80.0     9600            6            8       1976   \n",
      "2   3          60         68.0    11250            7            5       2001   \n",
      "3   4          70         60.0     9550            7            5       1915   \n",
      "4   5          60         84.0    14260            8            5       2000   \n",
      "\n",
      "   YearRemodAdd  MasVnrArea  BsmtFinSF1  ...  MiscFeature  Neighborhood  \\\n",
      "0          2003       196.0         706  ...          0.0           0.0   \n",
      "1          1976         0.0         978  ...          0.0           0.0   \n",
      "2          2002       162.0         486  ...          0.0           0.0   \n",
      "3          1970         0.0         216  ...          0.0           0.0   \n",
      "4          2000       350.0         655  ...          0.0           0.0   \n",
      "\n",
      "   PavedDrive  PoolQC  RoofMatl  RoofStyle  SaleCondition  SaleType  Street  \\\n",
      "0         0.0     0.0       0.0        0.0            0.0       0.0     0.0   \n",
      "1         0.0     0.0       0.0        0.0            0.0       0.0     1.0   \n",
      "2         0.0     0.0       0.0        0.0            0.0       0.0     0.0   \n",
      "3         0.0     0.0       0.0        0.0            0.0       0.0     0.0   \n",
      "4         0.0     0.0       0.0        0.0            0.0       0.0     0.0   \n",
      "\n",
      "   Utilities  \n",
      "0        0.0  \n",
      "1        0.0  \n",
      "2        0.0  \n",
      "3        0.0  \n",
      "4        0.0  \n",
      "\n",
      "[5 rows x 81 columns]\n"
     ]
    }
   ],
   "source": [
    "# Check for any remaining invalid values\n",
    "if result.isnull().any().any() or np.isinf(result.select_dtypes(include=[np.number])).any().any():\n",
    "    print(\"Warning: There are still missing or infinite values in the DataFrame.\")\n",
    "\n",
    "print(result.head())"
   ]
  },
  {
   "cell_type": "code",
   "execution_count": 22,
   "id": "322678c2",
   "metadata": {
    "execution": {
     "iopub.execute_input": "2025-03-01T18:34:41.578130Z",
     "iopub.status.busy": "2025-03-01T18:34:41.577741Z",
     "iopub.status.idle": "2025-03-01T18:34:41.585753Z",
     "shell.execute_reply": "2025-03-01T18:34:41.584351Z"
    },
    "papermill": {
     "duration": 0.020285,
     "end_time": "2025-03-01T18:34:41.587790",
     "exception": false,
     "start_time": "2025-03-01T18:34:41.567505",
     "status": "completed"
    },
    "tags": []
   },
   "outputs": [
    {
     "name": "stdout",
     "output_type": "stream",
     "text": [
      "Id               0\n",
      "MSSubClass       0\n",
      "LotFrontage      0\n",
      "LotArea          0\n",
      "OverallQual      0\n",
      "                ..\n",
      "RoofStyle        0\n",
      "SaleCondition    0\n",
      "SaleType         0\n",
      "Street           0\n",
      "Utilities        0\n",
      "Length: 81, dtype: int64\n"
     ]
    }
   ],
   "source": [
    "print(result.isna().sum())"
   ]
  },
  {
   "cell_type": "code",
   "execution_count": 23,
   "id": "7e7e03d1",
   "metadata": {
    "execution": {
     "iopub.execute_input": "2025-03-01T18:34:41.608988Z",
     "iopub.status.busy": "2025-03-01T18:34:41.608529Z",
     "iopub.status.idle": "2025-03-01T18:34:41.642806Z",
     "shell.execute_reply": "2025-03-01T18:34:41.641469Z"
    },
    "papermill": {
     "duration": 0.046632,
     "end_time": "2025-03-01T18:34:41.644744",
     "exception": false,
     "start_time": "2025-03-01T18:34:41.598112",
     "status": "completed"
    },
    "tags": []
   },
   "outputs": [],
   "source": [
    "correlation_matrix = result.corr()"
   ]
  },
  {
   "cell_type": "code",
   "execution_count": 24,
   "id": "779163ab",
   "metadata": {
    "execution": {
     "iopub.execute_input": "2025-03-01T18:34:41.664487Z",
     "iopub.status.busy": "2025-03-01T18:34:41.664116Z",
     "iopub.status.idle": "2025-03-01T18:34:41.671243Z",
     "shell.execute_reply": "2025-03-01T18:34:41.670026Z"
    },
    "papermill": {
     "duration": 0.018944,
     "end_time": "2025-03-01T18:34:41.672889",
     "exception": false,
     "start_time": "2025-03-01T18:34:41.653945",
     "status": "completed"
    },
    "tags": []
   },
   "outputs": [
    {
     "name": "stdout",
     "output_type": "stream",
     "text": [
      "OverallQual     0.790982\n",
      "YearBuilt       0.522897\n",
      "YearRemodAdd    0.507101\n",
      "MasVnrArea      0.472614\n",
      "BsmtFinSF1      0.386420\n",
      "TotalBsmtSF     0.613581\n",
      "1stFlrSF        0.605852\n",
      "2ndFlrSF        0.319334\n",
      "GrLivArea       0.708624\n",
      "FullBath        0.560664\n",
      "TotRmsAbvGrd    0.533723\n",
      "Fireplaces      0.466929\n",
      "GarageCars      0.640409\n",
      "GarageArea      0.623431\n",
      "WoodDeckSF      0.324413\n",
      "OpenPorchSF     0.315856\n",
      "SalePrice       1.000000\n",
      "Name: SalePrice, dtype: float64\n"
     ]
    }
   ],
   "source": [
    "high_corr_values = correlation_matrix.loc[correlation_matrix['SalePrice'] >= 0.3, 'SalePrice']\n",
    "print(high_corr_values)"
   ]
  },
  {
   "cell_type": "code",
   "execution_count": 25,
   "id": "2521efa7",
   "metadata": {
    "execution": {
     "iopub.execute_input": "2025-03-01T18:34:41.692850Z",
     "iopub.status.busy": "2025-03-01T18:34:41.692453Z",
     "iopub.status.idle": "2025-03-01T18:34:41.698309Z",
     "shell.execute_reply": "2025-03-01T18:34:41.697227Z"
    },
    "papermill": {
     "duration": 0.017736,
     "end_time": "2025-03-01T18:34:41.699946",
     "exception": false,
     "start_time": "2025-03-01T18:34:41.682210",
     "status": "completed"
    },
    "tags": []
   },
   "outputs": [],
   "source": [
    "X = result.drop('SalePrice', axis = 1)\n",
    "y = result['SalePrice']"
   ]
  },
  {
   "cell_type": "code",
   "execution_count": 26,
   "id": "25921e34",
   "metadata": {
    "execution": {
     "iopub.execute_input": "2025-03-01T18:34:41.719432Z",
     "iopub.status.busy": "2025-03-01T18:34:41.719095Z",
     "iopub.status.idle": "2025-03-01T18:34:41.735621Z",
     "shell.execute_reply": "2025-03-01T18:34:41.734103Z"
    },
    "papermill": {
     "duration": 0.028325,
     "end_time": "2025-03-01T18:34:41.737413",
     "exception": false,
     "start_time": "2025-03-01T18:34:41.709088",
     "status": "completed"
    },
    "tags": []
   },
   "outputs": [
    {
     "name": "stdout",
     "output_type": "stream",
     "text": [
      "        Id  MSSubClass  LotFrontage  LotArea  OverallQual  OverallCond  \\\n",
      "0        1          60         65.0     8450            7            5   \n",
      "1        2          20         80.0     9600            6            8   \n",
      "2        3          60         68.0    11250            7            5   \n",
      "3        4          70         60.0     9550            7            5   \n",
      "4        5          60         84.0    14260            8            5   \n",
      "...    ...         ...          ...      ...          ...          ...   \n",
      "1455  1456          60         62.0     7917            6            5   \n",
      "1456  1457          20         85.0    13175            6            6   \n",
      "1457  1458          70         66.0     9042            7            9   \n",
      "1458  1459          20         68.0     9717            5            6   \n",
      "1459  1460          20         75.0     9937            5            6   \n",
      "\n",
      "      YearBuilt  YearRemodAdd  MasVnrArea  BsmtFinSF1  ...  MiscFeature  \\\n",
      "0          2003          2003       196.0         706  ...          0.0   \n",
      "1          1976          1976         0.0         978  ...          0.0   \n",
      "2          2001          2002       162.0         486  ...          0.0   \n",
      "3          1915          1970         0.0         216  ...          0.0   \n",
      "4          2000          2000       350.0         655  ...          0.0   \n",
      "...         ...           ...         ...         ...  ...          ...   \n",
      "1455       1999          2000         0.0           0  ...          0.0   \n",
      "1456       1978          1988       119.0         790  ...          0.0   \n",
      "1457       1941          2006         0.0         275  ...          0.0   \n",
      "1458       1950          1996         0.0          49  ...          0.0   \n",
      "1459       1965          1965         0.0         830  ...          0.0   \n",
      "\n",
      "      Neighborhood  PavedDrive  PoolQC  RoofMatl  RoofStyle  SaleCondition  \\\n",
      "0              0.0         0.0     0.0       0.0        0.0            0.0   \n",
      "1              0.0         0.0     0.0       0.0        0.0            0.0   \n",
      "2              0.0         0.0     0.0       0.0        0.0            0.0   \n",
      "3              0.0         0.0     0.0       0.0        0.0            0.0   \n",
      "4              0.0         0.0     0.0       0.0        0.0            0.0   \n",
      "...            ...         ...     ...       ...        ...            ...   \n",
      "1455           0.0         0.0     0.0       0.0        0.0            0.0   \n",
      "1456           0.0         0.0     0.0       0.0        0.0            0.0   \n",
      "1457           0.0         0.0     0.0       0.0        0.0            0.0   \n",
      "1458           0.0         0.0     0.0       0.0        0.0            0.0   \n",
      "1459           0.0         0.0     0.0       0.0        0.0            0.0   \n",
      "\n",
      "      SaleType  Street  Utilities  \n",
      "0          0.0     0.0        0.0  \n",
      "1          0.0     1.0        0.0  \n",
      "2          0.0     0.0        0.0  \n",
      "3          0.0     0.0        0.0  \n",
      "4          0.0     0.0        0.0  \n",
      "...        ...     ...        ...  \n",
      "1455       0.0     0.0        0.0  \n",
      "1456       0.0     0.0        0.0  \n",
      "1457       0.0     0.0        0.0  \n",
      "1458       0.0     0.0        0.0  \n",
      "1459       0.0     0.0        0.0  \n",
      "\n",
      "[1460 rows x 80 columns]\n"
     ]
    }
   ],
   "source": [
    "print(X)"
   ]
  },
  {
   "cell_type": "code",
   "execution_count": 27,
   "id": "1c7bab0f",
   "metadata": {
    "execution": {
     "iopub.execute_input": "2025-03-01T18:34:41.758615Z",
     "iopub.status.busy": "2025-03-01T18:34:41.758247Z",
     "iopub.status.idle": "2025-03-01T18:34:41.764292Z",
     "shell.execute_reply": "2025-03-01T18:34:41.763139Z"
    },
    "papermill": {
     "duration": 0.018166,
     "end_time": "2025-03-01T18:34:41.765992",
     "exception": false,
     "start_time": "2025-03-01T18:34:41.747826",
     "status": "completed"
    },
    "tags": []
   },
   "outputs": [
    {
     "name": "stdout",
     "output_type": "stream",
     "text": [
      "0       208500\n",
      "1       181500\n",
      "2       223500\n",
      "3       140000\n",
      "4       250000\n",
      "         ...  \n",
      "1455    175000\n",
      "1456    210000\n",
      "1457    266500\n",
      "1458    142125\n",
      "1459    147500\n",
      "Name: SalePrice, Length: 1460, dtype: int64\n"
     ]
    }
   ],
   "source": [
    "print(y)"
   ]
  },
  {
   "cell_type": "code",
   "execution_count": 28,
   "id": "e6b30479",
   "metadata": {
    "execution": {
     "iopub.execute_input": "2025-03-01T18:34:41.812307Z",
     "iopub.status.busy": "2025-03-01T18:34:41.811860Z",
     "iopub.status.idle": "2025-03-01T18:34:41.839359Z",
     "shell.execute_reply": "2025-03-01T18:34:41.838289Z"
    },
    "papermill": {
     "duration": 0.039855,
     "end_time": "2025-03-01T18:34:41.841322",
     "exception": false,
     "start_time": "2025-03-01T18:34:41.801467",
     "status": "completed"
    },
    "tags": []
   },
   "outputs": [],
   "source": [
    "scaler = StandardScaler()\n",
    "X_scaled = scaler.fit_transform(X)"
   ]
  },
  {
   "cell_type": "code",
   "execution_count": 29,
   "id": "bb61e522",
   "metadata": {
    "execution": {
     "iopub.execute_input": "2025-03-01T18:34:41.873007Z",
     "iopub.status.busy": "2025-03-01T18:34:41.872590Z",
     "iopub.status.idle": "2025-03-01T18:34:41.942761Z",
     "shell.execute_reply": "2025-03-01T18:34:41.941776Z"
    },
    "papermill": {
     "duration": 0.085587,
     "end_time": "2025-03-01T18:34:41.944608",
     "exception": false,
     "start_time": "2025-03-01T18:34:41.859021",
     "status": "completed"
    },
    "tags": []
   },
   "outputs": [],
   "source": [
    "pca = PCA()  # By default, PCA keeps all components\n",
    "X_pca = pca.fit_transform(X_scaled)"
   ]
  },
  {
   "cell_type": "code",
   "execution_count": 30,
   "id": "a85a7d23",
   "metadata": {
    "execution": {
     "iopub.execute_input": "2025-03-01T18:34:41.964917Z",
     "iopub.status.busy": "2025-03-01T18:34:41.964539Z",
     "iopub.status.idle": "2025-03-01T18:34:42.289798Z",
     "shell.execute_reply": "2025-03-01T18:34:42.288757Z"
    },
    "papermill": {
     "duration": 0.337433,
     "end_time": "2025-03-01T18:34:42.291722",
     "exception": false,
     "start_time": "2025-03-01T18:34:41.954289",
     "status": "completed"
    },
    "tags": []
   },
   "outputs": [
    {
     "name": "stdout",
     "output_type": "stream",
     "text": [
      "Explained Variance Ratio: [0.08591152 0.04025706 0.02785963 0.0262749  0.02022091 0.01719013\n",
      " 0.0168707  0.01648929 0.01631509 0.0159476  0.01537063 0.01492106\n",
      " 0.01469496 0.01421771 0.01384444 0.01352294 0.01346657 0.01311756\n",
      " 0.01303789 0.01300028 0.01286708 0.01273239 0.01271757 0.0126323\n",
      " 0.01262299 0.01258676 0.0125617  0.01255195 0.01253866 0.01253365\n",
      " 0.01252244 0.01251866 0.01251597 0.01251251 0.01250857 0.01250857\n",
      " 0.01250857 0.01250857 0.01250857 0.01250857 0.01250857 0.01250857\n",
      " 0.01250857 0.01250853 0.01243839 0.01232288 0.01224063 0.01213087\n",
      " 0.0120789  0.01196823 0.01180915 0.01153925 0.011451   0.01122658\n",
      " 0.01098307 0.01077354 0.01044849 0.00998993 0.00972808 0.00945214\n",
      " 0.00910457 0.00892199 0.00881919 0.00828652 0.00795249 0.00746336\n",
      " 0.00701528 0.00663996 0.00553762 0.00463147 0.0041491  0.00349871\n",
      " 0.00329705 0.0030916  0.0023306  0.00183608 0.00161042 0.00120169\n",
      " 0.         0.        ]\n",
      "Cumulative Explained Variance: [0.08591152 0.12616858 0.15402822 0.18030312 0.20052403 0.21771416\n",
      " 0.23458486 0.25107415 0.26738924 0.28333684 0.29870748 0.31362854\n",
      " 0.3283235  0.34254121 0.35638565 0.36990859 0.38337516 0.39649272\n",
      " 0.40953061 0.42253088 0.43539797 0.44813035 0.46084792 0.47348022\n",
      " 0.48610321 0.49868997 0.51125167 0.52380362 0.53634228 0.54887593\n",
      " 0.56139837 0.57391703 0.586433   0.59894552 0.61145408 0.62396265\n",
      " 0.63647122 0.64897979 0.66148835 0.67399692 0.68650549 0.69901406\n",
      " 0.71152262 0.72403115 0.73646954 0.74879242 0.76103305 0.77316392\n",
      " 0.78524281 0.79721104 0.80902019 0.82055944 0.83201045 0.84323703\n",
      " 0.8542201  0.86499365 0.87544214 0.88543207 0.89516016 0.9046123\n",
      " 0.91371687 0.92263886 0.93145805 0.93974456 0.94769705 0.95516042\n",
      " 0.9621757  0.96881566 0.97435327 0.97898474 0.98313384 0.98663255\n",
      " 0.98992961 0.99302121 0.99535181 0.99718789 0.99879831 1.\n",
      " 1.         1.        ]\n"
     ]
    },
    {
     "data": {
      "image/png": "[encoded data removed]",
      "text/plain": [
       "<Figure size 800x500 with 1 Axes>"
      ]
     },
     "metadata": {},
     "output_type": "display_data"
    }
   ],
   "source": [
    "# Explained variance ratio\n",
    "explained_variance = pca.explained_variance_ratio_\n",
    "print(\"Explained Variance Ratio:\", explained_variance)\n",
    "\n",
    "# Cumulative explained variance\n",
    "cumulative_explained_variance = np.cumsum(explained_variance)\n",
    "print(\"Cumulative Explained Variance:\", cumulative_explained_variance)\n",
    "\n",
    "# Plot explained variance\n",
    "plt.figure(figsize=(8, 5))\n",
    "plt.plot(range(1, len(cumulative_explained_variance) + 1), cumulative_explained_variance, marker='o')\n",
    "plt.xlabel('Number of Components')\n",
    "plt.ylabel('Cumulative Explained Variance')\n",
    "plt.title('Explained Variance by PCA Components')\n",
    "plt.grid()\n",
    "plt.show()"
   ]
  },
  {
   "cell_type": "code",
   "execution_count": 31,
   "id": "39b05f03",
   "metadata": {
    "execution": {
     "iopub.execute_input": "2025-03-01T18:34:42.313647Z",
     "iopub.status.busy": "2025-03-01T18:34:42.313299Z",
     "iopub.status.idle": "2025-03-01T18:34:42.327674Z",
     "shell.execute_reply": "2025-03-01T18:34:42.326554Z"
    },
    "papermill": {
     "duration": 0.027627,
     "end_time": "2025-03-01T18:34:42.329522",
     "exception": false,
     "start_time": "2025-03-01T18:34:42.301895",
     "status": "completed"
    },
    "tags": []
   },
   "outputs": [
    {
     "name": "stdout",
     "output_type": "stream",
     "text": [
      "Number of components to retain: 66\n"
     ]
    }
   ],
   "source": [
    "# Retain components that explain 95% of the variance\n",
    "n_components = np.argmax(cumulative_explained_variance >= 0.95) + 1\n",
    "print(f\"Number of components to retain: {n_components}\")\n",
    "\n",
    "# Re-run PCA with the selected number of components\n",
    "pca = PCA(n_components=n_components)\n",
    "X_pca = pca.fit_transform(X_scaled)"
   ]
  },
  {
   "cell_type": "code",
   "execution_count": 32,
   "id": "15d226ef",
   "metadata": {
    "execution": {
     "iopub.execute_input": "2025-03-01T18:34:42.353629Z",
     "iopub.status.busy": "2025-03-01T18:34:42.353282Z",
     "iopub.status.idle": "2025-03-01T18:34:42.359833Z",
     "shell.execute_reply": "2025-03-01T18:34:42.358763Z"
    },
    "papermill": {
     "duration": 0.019283,
     "end_time": "2025-03-01T18:34:42.361695",
     "exception": false,
     "start_time": "2025-03-01T18:34:42.342412",
     "status": "completed"
    },
    "tags": []
   },
   "outputs": [],
   "source": [
    "# Example: Split data into train and test sets\n",
    "from sklearn.model_selection import train_test_split\n",
    "X_train, X_test, y_train, y_test = train_test_split(X_pca, y, test_size=0.2, random_state=42)"
   ]
  },
  {
   "cell_type": "code",
   "execution_count": 38,
   "id": "125c84dc",
   "metadata": {
    "execution": {
     "iopub.execute_input": "2025-03-01T18:34:42.630847Z",
     "iopub.status.busy": "2025-03-01T18:34:42.630466Z",
     "iopub.status.idle": "2025-03-01T18:34:47.195858Z",
     "shell.execute_reply": "2025-03-01T18:34:47.194689Z"
    },
    "papermill": {
     "duration": 4.578733,
     "end_time": "2025-03-01T18:34:47.197991",
     "exception": false,
     "start_time": "2025-03-01T18:34:42.619258",
     "status": "completed"
    },
    "tags": []
   },
   "outputs": [
    {
     "data": {
      "text/html": [
       "<style>#sk-container-id-3 {\n",
       "  /* Definition of color scheme common for light and dark mode */\n",
       "  --sklearn-color-text: #000;\n",
       "  --sklearn-color-text-muted: #666;\n",
       "  --sklearn-color-line: gray;\n",
       "  /* Definition of color scheme for unfitted estimators */\n",
       "  --sklearn-color-unfitted-level-0: #fff5e6;\n",
       "  --sklearn-color-unfitted-level-1: #f6e4d2;\n",
       "  --sklearn-color-unfitted-level-2: #ffe0b3;\n",
       "  --sklearn-color-unfitted-level-3: chocolate;\n",
       "  /* Definition of color scheme for fitted estimators */\n",
       "  --sklearn-color-fitted-level-0: #f0f8ff;\n",
       "  --sklearn-color-fitted-level-1: #d4ebff;\n",
       "  --sklearn-color-fitted-level-2: #b3dbfd;\n",
       "  --sklearn-color-fitted-level-3: cornflowerblue;\n",
       "\n",
       "  /* Specific color for light theme */\n",
       "  --sklearn-color-text-on-default-background: var(--sg-text-color, var(--theme-code-foreground, var(--jp-content-font-color1, black)));\n",
       "  --sklearn-color-background: var(--sg-background-color, var(--theme-background, var(--jp-layout-color0, white)));\n",
       "  --sklearn-color-border-box: var(--sg-text-color, var(--theme-code-foreground, var(--jp-content-font-color1, black)));\n",
       "  --sklearn-color-icon: #696969;\n",
       "\n",
       "  @media (prefers-color-scheme: dark) {\n",
       "    /* Redefinition of color scheme for dark theme */\n",
       "    --sklearn-color-text-on-default-background: var(--sg-text-color, var(--theme-code-foreground, var(--jp-content-font-color1, white)));\n",
       "    --sklearn-color-background: var(--sg-background-color, var(--theme-background, var(--jp-layout-color0, #111)));\n",
       "    --sklearn-color-border-box: var(--sg-text-color, var(--theme-code-foreground, var(--jp-content-font-color1, white)));\n",
       "    --sklearn-color-icon: #878787;\n",
       "  }\n",
       "}\n",
       "\n",
       "#sk-container-id-3 {\n",
       "  color: var(--sklearn-color-text);\n",
       "}\n",
       "\n",
       "#sk-container-id-3 pre {\n",
       "  padding: 0;\n",
       "}\n",
       "\n",
       "#sk-container-id-3 input.sk-hidden--visually {\n",
       "  border: 0;\n",
       "  clip: rect(1px 1px 1px 1px);\n",
       "  clip: rect(1px, 1px, 1px, 1px);\n",
       "  height: 1px;\n",
       "  margin: -1px;\n",
       "  overflow: hidden;\n",
       "  padding: 0;\n",
       "  position: absolute;\n",
       "  width: 1px;\n",
       "}\n",
       "\n",
       "#sk-container-id-3 div.sk-dashed-wrapped {\n",
       "  border: 1px dashed var(--sklearn-color-line);\n",
       "  margin: 0 0.4em 0.5em 0.4em;\n",
       "  box-sizing: border-box;\n",
       "  padding-bottom: 0.4em;\n",
       "  background-color: var(--sklearn-color-background);\n",
       "}\n",
       "\n",
       "#sk-container-id-3 div.sk-container {\n",
       "  /* jupyter's `normalize.less` sets `[hidden] { display: none; }`\n",
       "     but bootstrap.min.css set `[hidden] { display: none !important; }`\n",
       "     so we also need the `!important` here to be able to override the\n",
       "     default hidden behavior on the sphinx rendered scikit-learn.org.\n",
       "     See: https://github.com/scikit-learn/scikit-learn/issues/21755 */\n",
       "  display: inline-block !important;\n",
       "  position: relative;\n",
       "}\n",
       "\n",
       "#sk-container-id-3 div.sk-text-repr-fallback {\n",
       "  display: none;\n",
       "}\n",
       "\n",
       "div.sk-parallel-item,\n",
       "div.sk-serial,\n",
       "div.sk-item {\n",
       "  /* draw centered vertical line to link estimators */\n",
       "  background-image: linear-gradient(var(--sklearn-color-text-on-default-background), var(--sklearn-color-text-on-default-background));\n",
       "  background-size: 2px 100%;\n",
       "  background-repeat: no-repeat;\n",
       "  background-position: center center;\n",
       "}\n",
       "\n",
       "/* Parallel-specific style estimator block */\n",
       "\n",
       "#sk-container-id-3 div.sk-parallel-item::after {\n",
       "  content: \"\";\n",
       "  width: 100%;\n",
       "  border-bottom: 2px solid var(--sklearn-color-text-on-default-background);\n",
       "  flex-grow: 1;\n",
       "}\n",
       "\n",
       "#sk-container-id-3 div.sk-parallel {\n",
       "  display: flex;\n",
       "  align-items: stretch;\n",
       "  justify-content: center;\n",
       "  background-color: var(--sklearn-color-background);\n",
       "  position: relative;\n",
       "}\n",
       "\n",
       "#sk-container-id-3 div.sk-parallel-item {\n",
       "  display: flex;\n",
       "  flex-direction: column;\n",
       "}\n",
       "\n",
       "#sk-container-id-3 div.sk-parallel-item:first-child::after {\n",
       "  align-self: flex-end;\n",
       "  width: 50%;\n",
       "}\n",
       "\n",
       "#sk-container-id-3 div.sk-parallel-item:last-child::after {\n",
       "  align-self: flex-start;\n",
       "  width: 50%;\n",
       "}\n",
       "\n",
       "#sk-container-id-3 div.sk-parallel-item:only-child::after {\n",
       "  width: 0;\n",
       "}\n",
       "\n",
       "/* Serial-specific style estimator block */\n",
       "\n",
       "#sk-container-id-3 div.sk-serial {\n",
       "  display: flex;\n",
       "  flex-direction: column;\n",
       "  align-items: center;\n",
       "  background-color: var(--sklearn-color-background);\n",
       "  padding-right: 1em;\n",
       "  padding-left: 1em;\n",
       "}\n",
       "\n",
       "\n",
       "/* Toggleable style: style used for estimator/Pipeline/ColumnTransformer box that is\n",
       "clickable and can be expanded/collapsed.\n",
       "- Pipeline and ColumnTransformer use this feature and define the default style\n",
       "- Estimators will overwrite some part of the style using the `sk-estimator` class\n",
       "*/\n",
       "\n",
       "/* Pipeline and ColumnTransformer style (default) */\n",
       "\n",
       "#sk-container-id-3 div.sk-toggleable {\n",
       "  /* Default theme specific background. It is overwritten whether we have a\n",
       "  specific estimator or a Pipeline/ColumnTransformer */\n",
       "  background-color: var(--sklearn-color-background);\n",
       "}\n",
       "\n",
       "/* Toggleable label */\n",
       "#sk-container-id-3 label.sk-toggleable__label {\n",
       "  cursor: pointer;\n",
       "  display: flex;\n",
       "  width: 100%;\n",
       "  margin-bottom: 0;\n",
       "  padding: 0.5em;\n",
       "  box-sizing: border-box;\n",
       "  text-align: center;\n",
       "  align-items: start;\n",
       "  justify-content: space-between;\n",
       "  gap: 0.5em;\n",
       "}\n",
       "\n",
       "#sk-container-id-3 label.sk-toggleable__label .caption {\n",
       "  font-size: 0.6rem;\n",
       "  font-weight: lighter;\n",
       "  color: var(--sklearn-color-text-muted);\n",
       "}\n",
       "\n",
       "#sk-container-id-3 label.sk-toggleable__label-arrow:before {\n",
       "  /* Arrow on the left of the label */\n",
       "  content: \"▸\";\n",
       "  float: left;\n",
       "  margin-right: 0.25em;\n",
       "  color: var(--sklearn-color-icon);\n",
       "}\n",
       "\n",
       "#sk-container-id-3 label.sk-toggleable__label-arrow:hover:before {\n",
       "  color: var(--sklearn-color-text);\n",
       "}\n",
       "\n",
       "/* Toggleable content - dropdown */\n",
       "\n",
       "#sk-container-id-3 div.sk-toggleable__content {\n",
       "  max-height: 0;\n",
       "  max-width: 0;\n",
       "  overflow: hidden;\n",
       "  text-align: left;\n",
       "  /* unfitted */\n",
       "  background-color: var(--sklearn-color-unfitted-level-0);\n",
       "}\n",
       "\n",
       "#sk-container-id-3 div.sk-toggleable__content.fitted {\n",
       "  /* fitted */\n",
       "  background-color: var(--sklearn-color-fitted-level-0);\n",
       "}\n",
       "\n",
       "#sk-container-id-3 div.sk-toggleable__content pre {\n",
       "  margin: 0.2em;\n",
       "  border-radius: 0.25em;\n",
       "  color: var(--sklearn-color-text);\n",
       "  /* unfitted */\n",
       "  background-color: var(--sklearn-color-unfitted-level-0);\n",
       "}\n",
       "\n",
       "#sk-container-id-3 div.sk-toggleable__content.fitted pre {\n",
       "  /* unfitted */\n",
       "  background-color: var(--sklearn-color-fitted-level-0);\n",
       "}\n",
       "\n",
       "#sk-container-id-3 input.sk-toggleable__control:checked~div.sk-toggleable__content {\n",
       "  /* Expand drop-down */\n",
       "  max-height: 200px;\n",
       "  max-width: 100%;\n",
       "  overflow: auto;\n",
       "}\n",
       "\n",
       "#sk-container-id-3 input.sk-toggleable__control:checked~label.sk-toggleable__label-arrow:before {\n",
       "  content: \"▾\";\n",
       "}\n",
       "\n",
       "/* Pipeline/ColumnTransformer-specific style */\n",
       "\n",
       "#sk-container-id-3 div.sk-label input.sk-toggleable__control:checked~label.sk-toggleable__label {\n",
       "  color: var(--sklearn-color-text);\n",
       "  background-color: var(--sklearn-color-unfitted-level-2);\n",
       "}\n",
       "\n",
       "#sk-container-id-3 div.sk-label.fitted input.sk-toggleable__control:checked~label.sk-toggleable__label {\n",
       "  background-color: var(--sklearn-color-fitted-level-2);\n",
       "}\n",
       "\n",
       "/* Estimator-specific style */\n",
       "\n",
       "/* Colorize estimator box */\n",
       "#sk-container-id-3 div.sk-estimator input.sk-toggleable__control:checked~label.sk-toggleable__label {\n",
       "  /* unfitted */\n",
       "  background-color: var(--sklearn-color-unfitted-level-2);\n",
       "}\n",
       "\n",
       "#sk-container-id-3 div.sk-estimator.fitted input.sk-toggleable__control:checked~label.sk-toggleable__label {\n",
       "  /* fitted */\n",
       "  background-color: var(--sklearn-color-fitted-level-2);\n",
       "}\n",
       "\n",
       "#sk-container-id-3 div.sk-label label.sk-toggleable__label,\n",
       "#sk-container-id-3 div.sk-label label {\n",
       "  /* The background is the default theme color */\n",
       "  color: var(--sklearn-color-text-on-default-background);\n",
       "}\n",
       "\n",
       "/* On hover, darken the color of the background */\n",
       "#sk-container-id-3 div.sk-label:hover label.sk-toggleable__label {\n",
       "  color: var(--sklearn-color-text);\n",
       "  background-color: var(--sklearn-color-unfitted-level-2);\n",
       "}\n",
       "\n",
       "/* Label box, darken color on hover, fitted */\n",
       "#sk-container-id-3 div.sk-label.fitted:hover label.sk-toggleable__label.fitted {\n",
       "  color: var(--sklearn-color-text);\n",
       "  background-color: var(--sklearn-color-fitted-level-2);\n",
       "}\n",
       "\n",
       "/* Estimator label */\n",
       "\n",
       "#sk-container-id-3 div.sk-label label {\n",
       "  font-family: monospace;\n",
       "  font-weight: bold;\n",
       "  display: inline-block;\n",
       "  line-height: 1.2em;\n",
       "}\n",
       "\n",
       "#sk-container-id-3 div.sk-label-container {\n",
       "  text-align: center;\n",
       "}\n",
       "\n",
       "/* Estimator-specific */\n",
       "#sk-container-id-3 div.sk-estimator {\n",
       "  font-family: monospace;\n",
       "  border: 1px dotted var(--sklearn-color-border-box);\n",
       "  border-radius: 0.25em;\n",
       "  box-sizing: border-box;\n",
       "  margin-bottom: 0.5em;\n",
       "  /* unfitted */\n",
       "  background-color: var(--sklearn-color-unfitted-level-0);\n",
       "}\n",
       "\n",
       "#sk-container-id-3 div.sk-estimator.fitted {\n",
       "  /* fitted */\n",
       "  background-color: var(--sklearn-color-fitted-level-0);\n",
       "}\n",
       "\n",
       "/* on hover */\n",
       "#sk-container-id-3 div.sk-estimator:hover {\n",
       "  /* unfitted */\n",
       "  background-color: var(--sklearn-color-unfitted-level-2);\n",
       "}\n",
       "\n",
       "#sk-container-id-3 div.sk-estimator.fitted:hover {\n",
       "  /* fitted */\n",
       "  background-color: var(--sklearn-color-fitted-level-2);\n",
       "}\n",
       "\n",
       "/* Specification for estimator info (e.g. \"i\" and \"?\") */\n",
       "\n",
       "/* Common style for \"i\" and \"?\" */\n",
       "\n",
       ".sk-estimator-doc-link,\n",
       "a:link.sk-estimator-doc-link,\n",
       "a:visited.sk-estimator-doc-link {\n",
       "  float: right;\n",
       "  font-size: smaller;\n",
       "  line-height: 1em;\n",
       "  font-family: monospace;\n",
       "  background-color: var(--sklearn-color-background);\n",
       "  border-radius: 1em;\n",
       "  height: 1em;\n",
       "  width: 1em;\n",
       "  text-decoration: none !important;\n",
       "  margin-left: 0.5em;\n",
       "  text-align: center;\n",
       "  /* unfitted */\n",
       "  border: var(--sklearn-color-unfitted-level-1) 1pt solid;\n",
       "  color: var(--sklearn-color-unfitted-level-1);\n",
       "}\n",
       "\n",
       ".sk-estimator-doc-link.fitted,\n",
       "a:link.sk-estimator-doc-link.fitted,\n",
       "a:visited.sk-estimator-doc-link.fitted {\n",
       "  /* fitted */\n",
       "  border: var(--sklearn-color-fitted-level-1) 1pt solid;\n",
       "  color: var(--sklearn-color-fitted-level-1);\n",
       "}\n",
       "\n",
       "/* On hover */\n",
       "div.sk-estimator:hover .sk-estimator-doc-link:hover,\n",
       ".sk-estimator-doc-link:hover,\n",
       "div.sk-label-container:hover .sk-estimator-doc-link:hover,\n",
       ".sk-estimator-doc-link:hover {\n",
       "  /* unfitted */\n",
       "  background-color: var(--sklearn-color-unfitted-level-3);\n",
       "  color: var(--sklearn-color-background);\n",
       "  text-decoration: none;\n",
       "}\n",
       "\n",
       "div.sk-estimator.fitted:hover .sk-estimator-doc-link.fitted:hover,\n",
       ".sk-estimator-doc-link.fitted:hover,\n",
       "div.sk-label-container:hover .sk-estimator-doc-link.fitted:hover,\n",
       ".sk-estimator-doc-link.fitted:hover {\n",
       "  /* fitted */\n",
       "  background-color: var(--sklearn-color-fitted-level-3);\n",
       "  color: var(--sklearn-color-background);\n",
       "  text-decoration: none;\n",
       "}\n",
       "\n",
       "/* Span, style for the box shown on hovering the info icon */\n",
       ".sk-estimator-doc-link span {\n",
       "  display: none;\n",
       "  z-index: 9999;\n",
       "  position: relative;\n",
       "  font-weight: normal;\n",
       "  right: .2ex;\n",
       "  padding: .5ex;\n",
       "  margin: .5ex;\n",
       "  width: min-content;\n",
       "  min-width: 20ex;\n",
       "  max-width: 50ex;\n",
       "  color: var(--sklearn-color-text);\n",
       "  box-shadow: 2pt 2pt 4pt #999;\n",
       "  /* unfitted */\n",
       "  background: var(--sklearn-color-unfitted-level-0);\n",
       "  border: .5pt solid var(--sklearn-color-unfitted-level-3);\n",
       "}\n",
       "\n",
       ".sk-estimator-doc-link.fitted span {\n",
       "  /* fitted */\n",
       "  background: var(--sklearn-color-fitted-level-0);\n",
       "  border: var(--sklearn-color-fitted-level-3);\n",
       "}\n",
       "\n",
       ".sk-estimator-doc-link:hover span {\n",
       "  display: block;\n",
       "}\n",
       "\n",
       "/* \"?\"-specific style due to the `<a>` HTML tag */\n",
       "\n",
       "#sk-container-id-3 a.estimator_doc_link {\n",
       "  float: right;\n",
       "  font-size: 1rem;\n",
       "  line-height: 1em;\n",
       "  font-family: monospace;\n",
       "  background-color: var(--sklearn-color-background);\n",
       "  border-radius: 1rem;\n",
       "  height: 1rem;\n",
       "  width: 1rem;\n",
       "  text-decoration: none;\n",
       "  /* unfitted */\n",
       "  color: var(--sklearn-color-unfitted-level-1);\n",
       "  border: var(--sklearn-color-unfitted-level-1) 1pt solid;\n",
       "}\n",
       "\n",
       "#sk-container-id-3 a.estimator_doc_link.fitted {\n",
       "  /* fitted */\n",
       "  border: var(--sklearn-color-fitted-level-1) 1pt solid;\n",
       "  color: var(--sklearn-color-fitted-level-1);\n",
       "}\n",
       "\n",
       "/* On hover */\n",
       "#sk-container-id-3 a.estimator_doc_link:hover {\n",
       "  /* unfitted */\n",
       "  background-color: var(--sklearn-color-unfitted-level-3);\n",
       "  color: var(--sklearn-color-background);\n",
       "  text-decoration: none;\n",
       "}\n",
       "\n",
       "#sk-container-id-3 a.estimator_doc_link.fitted:hover {\n",
       "  /* fitted */\n",
       "  background-color: var(--sklearn-color-fitted-level-3);\n",
       "}\n",
       "</style><div id=\"sk-container-id-3\" class=\"sk-top-container\"><div class=\"sk-text-repr-fallback\"><pre>LogisticRegression()</pre><b>In a Jupyter environment, please rerun this cell to show the HTML representation or trust the notebook. <br />On GitHub, the HTML representation is unable to render, please try loading this page with nbviewer.org.</b></div><div class=\"sk-container\" hidden><div class=\"sk-item\"><div class=\"sk-estimator fitted sk-toggleable\"><input class=\"sk-toggleable__control sk-hidden--visually\" id=\"sk-estimator-id-3\" type=\"checkbox\" checked><label for=\"sk-estimator-id-3\" class=\"sk-toggleable__label fitted sk-toggleable__label-arrow\"><div><div>LogisticRegression</div></div><div><a class=\"sk-estimator-doc-link fitted\" rel=\"noreferrer\" target=\"_blank\" href=\"https://scikit-learn.org/1.6/modules/generated/sklearn.linear_model.LogisticRegression.html\">?<span>Documentation for LogisticRegression</span></a><span class=\"sk-estimator-doc-link fitted\">i<span>Fitted</span></span></div></label><div class=\"sk-toggleable__content fitted\"><pre>LogisticRegression()</pre></div> </div></div></div></div>"
      ],
      "text/plain": [
       "LogisticRegression()"
      ]
     },
     "execution_count": 38,
     "metadata": {},
     "output_type": "execute_result"
    }
   ],
   "source": [
    "# Initialize and train the model\n",
    "model = LogisticRegression()\n",
    "model.fit(X_train, y_train)"
   ]
  },
  {
   "cell_type": "code",
   "execution_count": 39,
   "id": "ce1bac06",
   "metadata": {
    "execution": {
     "iopub.execute_input": "2025-03-01T18:34:47.221058Z",
     "iopub.status.busy": "2025-03-01T18:34:47.220659Z",
     "iopub.status.idle": "2025-03-01T18:34:47.234776Z",
     "shell.execute_reply": "2025-03-01T18:34:47.233850Z"
    },
    "papermill": {
     "duration": 0.027352,
     "end_time": "2025-03-01T18:34:47.236612",
     "exception": false,
     "start_time": "2025-03-01T18:34:47.209260",
     "status": "completed"
    },
    "tags": []
   },
   "outputs": [],
   "source": [
    "# Make predictions\n",
    "y_pred = model.predict(X_test)"
   ]
  },
  {
   "cell_type": "code",
   "execution_count": 40,
   "id": "0c4f70e0",
   "metadata": {
    "execution": {
     "iopub.execute_input": "2025-03-01T18:34:47.287668Z",
     "iopub.status.busy": "2025-03-01T18:34:47.287250Z",
     "iopub.status.idle": "2025-03-01T18:34:47.294321Z",
     "shell.execute_reply": "2025-03-01T18:34:47.293081Z"
    },
    "papermill": {
     "duration": 0.020441,
     "end_time": "2025-03-01T18:34:47.296162",
     "exception": false,
     "start_time": "2025-03-01T18:34:47.275721",
     "status": "completed"
    },
    "tags": []
   },
   "outputs": [
    {
     "name": "stdout",
     "output_type": "stream",
     "text": [
      "Mean Squared Error: 2048976251.8493152\n",
      "R-squared: 0.7328697376743356\n"
     ]
    }
   ],
   "source": [
    "# Evaluate the model\n",
    "# Evaluate the model\n",
    "mse = mean_squared_error(y_test, y_pred)\n",
    "r2 = r2_score(y_test, y_pred)\n",
    "print(f\"Mean Squared Error: {mse}\")\n",
    "print(f\"R-squared: {r2}\")"
   ]
  },
  {
   "cell_type": "code",
   "execution_count": null,
   "id": "472cc451",
   "metadata": {},
   "outputs": [
    {
     "name": "stdout",
     "output_type": "stream",
     "text": [
      "Intercept: [-1.08936809 -1.88267365 -2.81971318 -1.63385388 -1.32487464 -1.70863868\n",
      " -1.22914563 -1.36432129 -1.76362714 -0.35053922 -2.0333145  -0.20230098\n",
      " -0.45898957 -0.65946189 -0.65989136 -1.76133375  0.38076748 -1.27406603\n",
      " -2.04442629 -1.55726582 -1.24994085  0.85090864  0.02058556 -0.60417451\n",
      " -0.98618809 -0.49599044 -1.17276182 -0.58089923 -1.94495637 -1.52008057\n",
      " -0.26849148 -0.9472415   0.15614878 -1.81643424 -0.88334313 -0.96974395\n",
      " -0.36630247 -0.25131212  0.11273482 -0.92118834  0.08732966 -1.56188876\n",
      " -0.53773544  0.29364754 -0.32679182 -0.2054043   0.67399825  0.10229442\n",
      " -0.43871886  0.1995594  -0.10902058  0.24221478 -1.40060811  1.2053302\n",
      " -0.71642231  0.38653645 -0.64218942  0.73158199  0.36322756  0.43595073\n",
      "  0.20856113 -0.28214164 -0.98241985 -0.81917999 -0.31942507 -1.17866067\n",
      " -0.68888313  1.33738863 -0.93487032 -1.28198993 -0.16444033 -0.32703284\n",
      "  2.36119217  0.22633961 -0.30523572  0.2001681   1.448027    0.43460493\n",
      "  0.81098899  0.34831449 -0.1112741   1.8738115  -1.26289514 -0.40407783\n",
      " -1.05550502 -0.83205886  1.12707276 -0.67974086  0.4538821   0.195447\n",
      " -0.07073106  1.12373213  0.24819448  1.09608195 -0.16835746 -0.05122147\n",
      "  1.88620874  0.12115182 -0.42551047  0.05448642 -0.28369022  1.65140488\n",
      " -1.41335946  0.56082192  0.06660006 -0.79255236 -0.68460866  1.48103121\n",
      "  0.91543049 -0.00639541  2.72850446 -0.28837336  0.92738576  0.17851099\n",
      "  0.43429563  2.31187956  1.24863343  1.92067332  0.10806275  0.23466589\n",
      "  2.36981429  1.11201105 -0.82929611  2.46309354  0.55635314  1.10549816\n",
      "  1.55867212  2.23252566  0.00410222  1.52254719  0.87122055  0.53507708\n",
      " -0.17928156 -0.39394915  1.05636067  0.23365553  0.54642977 -1.27417096\n",
      "  0.06386589  3.3011737  -0.56547205 -0.34996327  0.34751626 -0.62848403\n",
      "  0.50921467 -0.38485786  1.44461003  0.78050979  0.96545196 -0.41381975\n",
      " -0.57709074  0.21930802 -0.42617849 -0.27550279  3.01756208 -0.56092599\n",
      "  0.54266288  0.02293427  0.51589578  0.78893793  3.65185628  0.38815479\n",
      "  1.61020983  0.71045561  0.83502238 -0.93786395  0.67238984 -0.91016051\n",
      " -1.0125343   2.75191683 -0.02373283  0.45835924  0.03728731  0.6462949\n",
      "  0.95876157 -0.71559791  0.07419422  1.22456331  0.7724308   0.6292358\n",
      " -0.53071246  0.67419328  0.6195936   0.73291762  2.67300444 -0.59020376\n",
      " -0.49164561  3.14833384  0.66524866 -0.94863227  0.84076524 -0.74870637\n",
      " -1.25507129 -0.23681615 -0.11707055  2.07222405  1.5271628  -0.31370093\n",
      "  0.82985922 -0.02865885  1.22301275 -0.97432999 -1.39331276  2.01729133\n",
      "  0.57236084  0.02231579  0.46167789 -0.20642626  1.44240492  3.43726782\n",
      "  0.52036575 -0.03790054  2.64587428  1.25597976  0.412105    2.78359475\n",
      " -0.06498645  0.08918612  0.96834621  0.89769144  1.41076906  0.20245556\n",
      "  0.11452257  2.83300752  0.07948232  0.00475871  0.12459004  0.04949829\n",
      "  1.26710189  0.61209663  0.91667751  1.61326743 -0.05281972  0.25570996\n",
      "  0.27406978  2.49697331  0.67455585 -0.57098368  0.11598757  0.23619207\n",
      "  3.19851273 -0.22994025  0.30747355  0.54423628  0.65251236  0.8373279\n",
      " -0.36564545  1.92212958  0.94559622  1.92698407  1.5190887   0.66343989\n",
      "  0.43353797  0.15862213  3.04313701  1.08830998  0.27729835 -0.36495226\n",
      " -0.70177077 -0.3402077  -0.00668482  1.26536694  0.08471068  1.68609899\n",
      " -0.7718964   0.17311733  1.51409614  0.38421182  0.59730959  2.67676434\n",
      "  2.35762163 -0.51018268  2.91618127  0.32856761  0.18459609  1.04362219\n",
      "  2.43218199  1.08260508  0.59408164  0.013651   -0.09980399  0.68979418\n",
      "  1.50611864  0.89494679  0.06059544 -0.52218773  0.60989864 -0.06617129\n",
      "  0.15209906  0.66064175  2.77730714  0.8282313   1.32074693 -1.26917528\n",
      "  0.1651461  -0.28065392  0.40776232  0.47526706  0.43480467  1.79103053\n",
      " -0.29992934 -2.48834407  0.17537141  2.9637131   0.10387073  0.45180657\n",
      " -0.05099003  0.26750873 -0.7134311   1.22844987  1.79073673  0.071762\n",
      "  1.36542608  0.60184959  0.64114703  1.12703704  0.10825297  3.77185661\n",
      "  1.57691221  1.96951151  0.29118247  0.82990381  1.10450505 -0.05314495\n",
      " -0.39020199  1.40995761  0.76909112  0.11297478 -0.0716548   0.99089242\n",
      "  0.18427109  0.56816588  0.85544948 -0.41774178 -0.53711684  0.9692488\n",
      "  1.25914548 -0.21312504  0.133115    0.5570698   0.31240116 -1.00514506\n",
      "  0.85474045  0.20722523 -0.3210005   0.84691535  1.20048506  0.07899211\n",
      "  1.76057972  0.36381358 -0.19465285 -0.76579513 -0.02368907  0.79999554\n",
      "  1.08672778 -0.30784492 -1.29594105  0.95400844 -0.23625169  2.3236723\n",
      "  0.46388673  0.04171579 -0.31146887  0.26047676 -1.07029187  0.26830326\n",
      " -0.07586832  0.82747955 -0.33412528 -0.21924742  2.6880985   0.01863164\n",
      " -0.5080135  -0.61120609 -0.64016718  0.58812599 -0.11604583 -0.88430418\n",
      "  1.08299543  1.43165071  1.43968414 -0.44502833  0.21643763  0.46941238\n",
      " -0.24455441 -0.17502208  0.64557717  0.15435267 -0.27768031  1.87172442\n",
      "  0.69998138  0.21736155  0.80723296  0.37269901  0.05260745 -0.86283779\n",
      "  0.17094082 -1.10092588 -0.10512013  0.10505782  2.17133472 -0.11340429\n",
      "  0.13333763 -0.53590965 -0.12207648 -0.36354418 -0.1271137  -0.16245814\n",
      "  0.17773026  1.80265066 -0.60638672  0.60259079 -0.62165034 -0.07655202\n",
      "  0.11672637 -0.72335867  2.01367389 -0.36242545 -0.10962051 -0.55812582\n",
      "  0.64577772  0.40127701 -0.52560821 -0.51343289  0.83718585 -0.76507531\n",
      " -0.5003219  -1.16656769 -0.61408401 -0.52607773 -0.78842618 -0.79366687\n",
      " -0.93749428  1.23364194  0.145438    0.17897969 -0.76665591  0.0272924\n",
      " -0.01793878 -0.8049467  -0.78139949 -0.23687226 -1.2843886  -0.36499152\n",
      " -0.27936592 -0.67055564 -0.52831507  0.23773944  1.09835707  0.09615905\n",
      " -0.19795913 -0.52344256  0.13811652 -0.90558037 -0.69786574 -0.50167214\n",
      " -0.98616821 -0.80601073  0.03882875 -0.99713772 -0.81325583 -0.13601694\n",
      " -0.2838204  -0.1644378  -1.13031835  0.68637797 -0.55328915  0.07885545\n",
      " -0.60904199 -0.64036192  0.16447351 -0.28307761 -0.66902159 -0.87218656\n",
      " -1.20433822  0.2157359  -0.65368803 -0.78567642 -1.28455147 -0.5290498\n",
      " -1.29151475  0.02090375 -1.02766405 -1.34850061 -0.52904964  0.28182093\n",
      " -0.81298262 -0.85779202 -0.74388897 -0.48610194  0.49184496 -0.90010841\n",
      " -1.16672735 -0.94547661 -1.10209928 -0.39407144 -1.15627919 -1.84330169\n",
      " -1.1029839  -1.29195486 -1.28896392 -1.29165853 -1.31097575 -0.47471605\n",
      " -1.13063806 -1.63188676  0.46784148 -0.09679849 -0.20399954 -1.48027356\n",
      " -0.91131094 -0.63693797 -1.48441575 -0.78012306 -0.70250985 -1.27806277\n",
      " -0.46152651 -1.44675535 -0.07282293 -0.26775155 -1.81177835 -0.17758566\n",
      " -1.07864977 -1.10648495 -0.46018876 -1.03509235 -2.51535236 -0.85528416\n",
      " -0.72136492 -1.62352225 -0.66178975 -1.58249153 -0.59844591 -0.79114105\n",
      " -1.46942899 -1.07275427 -1.15561718 -0.69450877 -1.22427697 -2.08984507\n",
      " -2.09549707 -1.54947987 -1.62429704 -2.51900488 -2.62766913  0.29276012\n",
      " -0.67908741 -1.00803423 -1.59242593 -1.31831929 -0.910921   -1.70127206\n",
      " -1.6083389  -1.67148699 -1.64026132 -1.28441547 -2.01598087 -1.32382589\n",
      " -1.3561992  -1.34462284 -1.0403219  -1.80077384 -2.06694218 -1.0933958\n",
      " -2.71057443 -1.87572458 -1.72380486 -1.72170722 -2.37793553 -2.44156034\n",
      " -1.40081688]\n",
      "Coefficients: [[-0.63851564 -0.09724397 -0.24743724 ...  0.69478892 -0.47562592\n",
      "   0.23036481]\n",
      " [-1.49187199  0.4869315  -0.27989947 ...  0.30963475  0.27078315\n",
      "  -0.09557853]\n",
      " [-1.59705633 -0.13821839  0.35361767 ... -0.10964579  0.00712484\n",
      "   0.27301172]\n",
      " ...\n",
      " [ 1.25532743  0.62607353 -0.00602972 ... -0.16264163 -0.05453901\n",
      "   0.17708248]\n",
      " [ 1.18073859  0.29608818 -0.38678558 ...  0.33058761  0.41247642\n",
      "  -0.27714218]\n",
      " [ 0.7566841   0.18940556 -0.36929469 ... -0.01968439 -0.03853315\n",
      "  -0.09799024]]\n"
     ]
    }
   ],
   "source": [
    "# View coefficients\n",
    "print(\"Intercept:\", model.intercept_)\n",
    "print(\"Coefficients:\", model.coef_)\n",
    "print(\"Model Parameters:\", model.get_params())"
   ]
  },
  {
   "cell_type": "code",
   "execution_count": 43,
   "id": "8cfa0e99",
   "metadata": {},
   "outputs": [
    {
     "name": "stdout",
     "output_type": "stream",
     "text": [
      "Model Parameters: {'C': 1.0, 'class_weight': None, 'dual': False, 'fit_intercept': True, 'intercept_scaling': 1, 'l1_ratio': None, 'max_iter': 100, 'multi_class': 'deprecated', 'n_jobs': None, 'penalty': 'l2', 'random_state': None, 'solver': 'lbfgs', 'tol': 0.0001, 'verbose': 0, 'warm_start': False}\n"
     ]
    }
   ],
   "source": [
    "print(\"Model Parameters:\", model.get_params())"
   ]
  },
  {
   "cell_type": "code",
   "execution_count": 44,
   "id": "fd9d885d",
   "metadata": {
    "execution": {
     "iopub.execute_input": "2025-03-01T18:34:47.319360Z",
     "iopub.status.busy": "2025-03-01T18:34:47.318993Z",
     "iopub.status.idle": "2025-03-01T18:34:47.330360Z",
     "shell.execute_reply": "2025-03-01T18:34:47.329211Z"
    },
    "papermill": {
     "duration": 0.024916,
     "end_time": "2025-03-01T18:34:47.332388",
     "exception": false,
     "start_time": "2025-03-01T18:34:47.307472",
     "status": "completed"
    },
    "tags": []
   },
   "outputs": [],
   "source": [
    "output = pd.DataFrame({'Id': range(len(y_pred)), 'SalePrice': y_pred})\n",
    "output.to_csv('submission.csv', index=False)\n"
   ]
  }
 ],
 "metadata": {
  "kaggle": {
   "accelerator": "none",
   "dataSources": [
    {
     "databundleVersionId": 111096,
     "sourceId": 10211,
     "sourceType": "competition"
    }
   ],
   "dockerImageVersionId": 30918,
   "isGpuEnabled": false,
   "isInternetEnabled": true,
   "language": "python",
   "sourceType": "notebook"
  },
  "kernelspec": {
   "display_name": "Python 3",
   "language": "python",
   "name": "python3"
  },
  "language_info": {
   "codemirror_mode": {
    "name": "ipython",
    "version": 3
   },
   "file_extension": ".py",
   "mimetype": "text/x-python",
   "name": "python",
   "nbconvert_exporter": "python",
   "pygments_lexer": "ipython3",
   "version": "3.11.9"
  },
  "papermill": {
   "default_parameters": {},
   "duration": 13.288649,
   "end_time": "2025-03-01T18:34:48.064326",
   "environment_variables": {},
   "exception": null,
   "input_path": "__notebook__.ipynb",
   "output_path": "__notebook__.ipynb",
   "parameters": {},
   "start_time": "2025-03-01T18:34:34.775677",
   "version": "2.6.0"
  }
 },
 "nbformat": 4,
 "nbformat_minor": 5
}
