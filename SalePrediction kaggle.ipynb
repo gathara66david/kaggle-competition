{
 "cells": [
  {
   "cell_type": "code",
   "execution_count": 1,
   "id": "86a707b4",
   "metadata": {
    "_cell_guid": "b1076dfc-b9ad-4769-8c92-a6c4dae69d19",
    "_uuid": "8f2839f25d086af736a60e9eeb907d3b93b6e0e5",
    "execution": {
     "iopub.execute_input": "2025-03-02T18:11:57.545333Z",
     "iopub.status.busy": "2025-03-02T18:11:57.544974Z",
     "iopub.status.idle": "2025-03-02T18:11:58.534624Z",
     "shell.execute_reply": "2025-03-02T18:11:58.533231Z"
    },
    "papermill": {
     "duration": 1.001681,
     "end_time": "2025-03-02T18:11:58.536602",
     "exception": false,
     "start_time": "2025-03-02T18:11:57.534921",
     "status": "completed"
    },
    "tags": []
   },
   "outputs": [
    {
     "name": "stdout",
     "output_type": "stream",
     "text": [
      "/kaggle/input/home-data-for-ml-course/sample_submission.csv\n",
      "/kaggle/input/home-data-for-ml-course/sample_submission.csv.gz\n",
      "/kaggle/input/home-data-for-ml-course/train.csv.gz\n",
      "/kaggle/input/home-data-for-ml-course/data_description.txt\n",
      "/kaggle/input/home-data-for-ml-course/test.csv.gz\n",
      "/kaggle/input/home-data-for-ml-course/train.csv\n",
      "/kaggle/input/home-data-for-ml-course/test.csv\n"
     ]
    }
   ],
   "source": [
    "# This Python 3 environment comes with many helpful analytics libraries installed\n",
    "# It is defined by the kaggle/python Docker image: https://github.com/kaggle/docker-python\n",
    "# For example, here's several helpful packages to load\n",
    "\n",
    "import numpy as np # linear algebra\n",
    "import pandas as pd # data processing, CSV file I/O (e.g. pd.read_csv)\n",
    "\n",
    "# Input data files are available in the read-only \"../input/\" directory\n",
    "# For example, running this (by clicking run or pressing Shift+Enter) will list all files under the input directory\n",
    "\n",
    "import os\n",
    "for dirname, _, filenames in os.walk('/kaggle/input'):\n",
    "    for filename in filenames:\n",
    "        print(os.path.join(dirname, filename))\n",
    "\n",
    "# You can write up to 20GB to the current directory (/kaggle/working/) that gets preserved as output when you create a version using \"Save & Run All\" \n",
    "# You can also write temporary files to /kaggle/temp/, but they won't be saved outside of the current session"
   ]
  },
  {
   "cell_type": "code",
   "execution_count": 2,
   "id": "36d6c707",
   "metadata": {
    "execution": {
     "iopub.execute_input": "2025-03-02T18:11:58.554028Z",
     "iopub.status.busy": "2025-03-02T18:11:58.553466Z",
     "iopub.status.idle": "2025-03-02T18:12:00.867418Z",
     "shell.execute_reply": "2025-03-02T18:12:00.866383Z"
    },
    "papermill": {
     "duration": 2.324449,
     "end_time": "2025-03-02T18:12:00.869331",
     "exception": false,
     "start_time": "2025-03-02T18:11:58.544882",
     "status": "completed"
    },
    "tags": []
   },
   "outputs": [],
   "source": [
    "import pandas as pd\n",
    "import seaborn as sns\n",
    "import matplotlib.pyplot as plt\n",
    "from sklearn.preprocessing import OneHotEncoder\n",
    "from sklearn.metrics import mean_squared_error, r2_score\n",
    "from sklearn.decomposition import PCA\n",
    "from sklearn.preprocessing import StandardScaler"
   ]
  },
  {
   "cell_type": "code",
   "execution_count": 3,
   "id": "a7dcedda",
   "metadata": {
    "execution": {
     "iopub.execute_input": "2025-03-02T18:12:00.886848Z",
     "iopub.status.busy": "2025-03-02T18:12:00.886260Z",
     "iopub.status.idle": "2025-03-02T18:12:00.967519Z",
     "shell.execute_reply": "2025-03-02T18:12:00.966396Z"
    },
    "papermill": {
     "duration": 0.091864,
     "end_time": "2025-03-02T18:12:00.969529",
     "exception": false,
     "start_time": "2025-03-02T18:12:00.877665",
     "status": "completed"
    },
    "tags": []
   },
   "outputs": [],
   "source": [
    "train_data = pd.read_csv('/kaggle/input/home-data-for-ml-course/train.csv')\n",
    "test_data = pd.read_csv('/kaggle/input/home-data-for-ml-course/test.csv')\n",
    "submission_csv = pd.read_csv('/kaggle/input/home-data-for-ml-course/sample_submission.csv')"
   ]
  },
  {
   "cell_type": "code",
   "execution_count": 4,
   "id": "285f81db",
   "metadata": {
    "execution": {
     "iopub.execute_input": "2025-03-02T18:12:00.987695Z",
     "iopub.status.busy": "2025-03-02T18:12:00.987309Z",
     "iopub.status.idle": "2025-03-02T18:12:00.992910Z",
     "shell.execute_reply": "2025-03-02T18:12:00.991705Z"
    },
    "papermill": {
     "duration": 0.01652,
     "end_time": "2025-03-02T18:12:00.994467",
     "exception": false,
     "start_time": "2025-03-02T18:12:00.977947",
     "status": "completed"
    },
    "tags": []
   },
   "outputs": [
    {
     "name": "stdout",
     "output_type": "stream",
     "text": [
      "(1460, 81)\n",
      "(1459, 80)\n"
     ]
    }
   ],
   "source": [
    "print(train_data.shape)\n",
    "print(test_data.shape)"
   ]
  },
  {
   "cell_type": "code",
   "execution_count": 5,
   "id": "cb56bf8b",
   "metadata": {
    "execution": {
     "iopub.execute_input": "2025-03-02T18:12:01.012089Z",
     "iopub.status.busy": "2025-03-02T18:12:01.011670Z",
     "iopub.status.idle": "2025-03-02T18:12:01.040013Z",
     "shell.execute_reply": "2025-03-02T18:12:01.038724Z"
    },
    "papermill": {
     "duration": 0.039005,
     "end_time": "2025-03-02T18:12:01.041912",
     "exception": false,
     "start_time": "2025-03-02T18:12:01.002907",
     "status": "completed"
    },
    "tags": []
   },
   "outputs": [
    {
     "name": "stdout",
     "output_type": "stream",
     "text": [
      "   Id  MSSubClass MSZoning  LotFrontage  LotArea Street Alley LotShape  \\\n",
      "0   1          60       RL         65.0     8450   Pave   NaN      Reg   \n",
      "1   2          20       RL         80.0     9600   Pave   NaN      Reg   \n",
      "2   3          60       RL         68.0    11250   Pave   NaN      IR1   \n",
      "3   4          70       RL         60.0     9550   Pave   NaN      IR1   \n",
      "4   5          60       RL         84.0    14260   Pave   NaN      IR1   \n",
      "\n",
      "  LandContour Utilities  ... PoolArea PoolQC Fence MiscFeature MiscVal MoSold  \\\n",
      "0         Lvl    AllPub  ...        0    NaN   NaN         NaN       0      2   \n",
      "1         Lvl    AllPub  ...        0    NaN   NaN         NaN       0      5   \n",
      "2         Lvl    AllPub  ...        0    NaN   NaN         NaN       0      9   \n",
      "3         Lvl    AllPub  ...        0    NaN   NaN         NaN       0      2   \n",
      "4         Lvl    AllPub  ...        0    NaN   NaN         NaN       0     12   \n",
      "\n",
      "  YrSold  SaleType  SaleCondition  SalePrice  \n",
      "0   2008        WD         Normal     208500  \n",
      "1   2007        WD         Normal     181500  \n",
      "2   2008        WD         Normal     223500  \n",
      "3   2006        WD        Abnorml     140000  \n",
      "4   2008        WD         Normal     250000  \n",
      "\n",
      "[5 rows x 81 columns]\n"
     ]
    }
   ],
   "source": [
    "print(train_data.head(5))"
   ]
  },
  {
   "cell_type": "code",
   "execution_count": 6,
   "id": "4f892fae",
   "metadata": {
    "execution": {
     "iopub.execute_input": "2025-03-02T18:12:01.059428Z",
     "iopub.status.busy": "2025-03-02T18:12:01.059089Z",
     "iopub.status.idle": "2025-03-02T18:12:01.065098Z",
     "shell.execute_reply": "2025-03-02T18:12:01.063827Z"
    },
    "papermill": {
     "duration": 0.016525,
     "end_time": "2025-03-02T18:12:01.066598",
     "exception": false,
     "start_time": "2025-03-02T18:12:01.050073",
     "status": "completed"
    },
    "tags": []
   },
   "outputs": [
    {
     "name": "stdout",
     "output_type": "stream",
     "text": [
      "Index(['Id', 'MSSubClass', 'MSZoning', 'LotFrontage', 'LotArea', 'Street',\n",
      "       'Alley', 'LotShape', 'LandContour', 'Utilities', 'LotConfig',\n",
      "       'LandSlope', 'Neighborhood', 'Condition1', 'Condition2', 'BldgType',\n",
      "       'HouseStyle', 'OverallQual', 'OverallCond', 'YearBuilt', 'YearRemodAdd',\n",
      "       'RoofStyle', 'RoofMatl', 'Exterior1st', 'Exterior2nd', 'MasVnrType',\n",
      "       'MasVnrArea', 'ExterQual', 'ExterCond', 'Foundation', 'BsmtQual',\n",
      "       'BsmtCond', 'BsmtExposure', 'BsmtFinType1', 'BsmtFinSF1',\n",
      "       'BsmtFinType2', 'BsmtFinSF2', 'BsmtUnfSF', 'TotalBsmtSF', 'Heating',\n",
      "       'HeatingQC', 'CentralAir', 'Electrical', '1stFlrSF', '2ndFlrSF',\n",
      "       'LowQualFinSF', 'GrLivArea', 'BsmtFullBath', 'BsmtHalfBath', 'FullBath',\n",
      "       'HalfBath', 'BedroomAbvGr', 'KitchenAbvGr', 'KitchenQual',\n",
      "       'TotRmsAbvGrd', 'Functional', 'Fireplaces', 'FireplaceQu', 'GarageType',\n",
      "       'GarageYrBlt', 'GarageFinish', 'GarageCars', 'GarageArea', 'GarageQual',\n",
      "       'GarageCond', 'PavedDrive', 'WoodDeckSF', 'OpenPorchSF',\n",
      "       'EnclosedPorch', '3SsnPorch', 'ScreenPorch', 'PoolArea', 'PoolQC',\n",
      "       'Fence', 'MiscFeature', 'MiscVal', 'MoSold', 'YrSold', 'SaleType',\n",
      "       'SaleCondition', 'SalePrice'],\n",
      "      dtype='object')\n"
     ]
    }
   ],
   "source": [
    "print(train_data.columns)"
   ]
  },
  {
   "cell_type": "code",
   "execution_count": 7,
   "id": "31d5752e",
   "metadata": {
    "execution": {
     "iopub.execute_input": "2025-03-02T18:12:01.084642Z",
     "iopub.status.busy": "2025-03-02T18:12:01.084261Z",
     "iopub.status.idle": "2025-03-02T18:12:01.090745Z",
     "shell.execute_reply": "2025-03-02T18:12:01.089348Z"
    },
    "papermill": {
     "duration": 0.017762,
     "end_time": "2025-03-02T18:12:01.092630",
     "exception": false,
     "start_time": "2025-03-02T18:12:01.074868",
     "status": "completed"
    },
    "tags": []
   },
   "outputs": [
    {
     "name": "stdout",
     "output_type": "stream",
     "text": [
      "Index(['MSZoning', 'Street', 'Alley', 'LotShape', 'LandContour', 'Utilities',\n",
      "       'LotConfig', 'LandSlope', 'Neighborhood', 'Condition1', 'Condition2',\n",
      "       'BldgType', 'HouseStyle', 'RoofStyle', 'RoofMatl', 'Exterior1st',\n",
      "       'Exterior2nd', 'MasVnrType', 'ExterQual', 'ExterCond', 'Foundation',\n",
      "       'BsmtQual', 'BsmtCond', 'BsmtExposure', 'BsmtFinType1', 'BsmtFinType2',\n",
      "       'Heating', 'HeatingQC', 'CentralAir', 'Electrical', 'KitchenQual',\n",
      "       'Functional', 'FireplaceQu', 'GarageType', 'GarageFinish', 'GarageQual',\n",
      "       'GarageCond', 'PavedDrive', 'PoolQC', 'Fence', 'MiscFeature',\n",
      "       'SaleType', 'SaleCondition'],\n",
      "      dtype='object')\n"
     ]
    }
   ],
   "source": [
    "non_numerical = train_data.select_dtypes(exclude=['int', 'float']).columns\n",
    "print(non_numerical)"
   ]
  },
  {
   "cell_type": "code",
   "execution_count": 8,
   "id": "5df12c3d",
   "metadata": {
    "execution": {
     "iopub.execute_input": "2025-03-02T18:12:01.111191Z",
     "iopub.status.busy": "2025-03-02T18:12:01.110835Z",
     "iopub.status.idle": "2025-03-02T18:12:01.116266Z",
     "shell.execute_reply": "2025-03-02T18:12:01.115091Z"
    },
    "papermill": {
     "duration": 0.016997,
     "end_time": "2025-03-02T18:12:01.118190",
     "exception": false,
     "start_time": "2025-03-02T18:12:01.101193",
     "status": "completed"
    },
    "tags": []
   },
   "outputs": [
    {
     "name": "stdout",
     "output_type": "stream",
     "text": [
      "[['MSZoning']\n",
      " ['Street']\n",
      " ['Alley']\n",
      " ['LotShape']\n",
      " ['LandContour']\n",
      " ['Utilities']\n",
      " ['LotConfig']\n",
      " ['LandSlope']\n",
      " ['Neighborhood']\n",
      " ['Condition1']\n",
      " ['Condition2']\n",
      " ['BldgType']\n",
      " ['HouseStyle']\n",
      " ['RoofStyle']\n",
      " ['RoofMatl']\n",
      " ['Exterior1st']\n",
      " ['Exterior2nd']\n",
      " ['MasVnrType']\n",
      " ['ExterQual']\n",
      " ['ExterCond']\n",
      " ['Foundation']\n",
      " ['BsmtQual']\n",
      " ['BsmtCond']\n",
      " ['BsmtExposure']\n",
      " ['BsmtFinType1']\n",
      " ['BsmtFinType2']\n",
      " ['Heating']\n",
      " ['HeatingQC']\n",
      " ['CentralAir']\n",
      " ['Electrical']\n",
      " ['KitchenQual']\n",
      " ['Functional']\n",
      " ['FireplaceQu']\n",
      " ['GarageType']\n",
      " ['GarageFinish']\n",
      " ['GarageQual']\n",
      " ['GarageCond']\n",
      " ['PavedDrive']\n",
      " ['PoolQC']\n",
      " ['Fence']\n",
      " ['MiscFeature']\n",
      " ['SaleType']\n",
      " ['SaleCondition']]\n"
     ]
    }
   ],
   "source": [
    "# Your 1D array\n",
    "array = np.array(non_numerical)\n",
    "\n",
    "# Reshape to 2D array with shape (n_samples, 1)\n",
    "array_reshaped = array.reshape(-1, 1)\n",
    "\n",
    "print(array_reshaped)"
   ]
  },
  {
   "cell_type": "code",
   "execution_count": 9,
   "id": "0a999205",
   "metadata": {
    "execution": {
     "iopub.execute_input": "2025-03-02T18:12:01.137051Z",
     "iopub.status.busy": "2025-03-02T18:12:01.136661Z",
     "iopub.status.idle": "2025-03-02T18:12:01.140900Z",
     "shell.execute_reply": "2025-03-02T18:12:01.139847Z"
    },
    "papermill": {
     "duration": 0.016025,
     "end_time": "2025-03-02T18:12:01.142747",
     "exception": false,
     "start_time": "2025-03-02T18:12:01.126722",
     "status": "completed"
    },
    "tags": []
   },
   "outputs": [],
   "source": [
    "from sklearn.preprocessing import OneHotEncoder"
   ]
  },
  {
   "cell_type": "code",
   "execution_count": 10,
   "id": "0e69b7c9",
   "metadata": {
    "execution": {
     "iopub.execute_input": "2025-03-02T18:12:01.161093Z",
     "iopub.status.busy": "2025-03-02T18:12:01.160673Z",
     "iopub.status.idle": "2025-03-02T18:12:01.174133Z",
     "shell.execute_reply": "2025-03-02T18:12:01.173037Z"
    },
    "papermill": {
     "duration": 0.024862,
     "end_time": "2025-03-02T18:12:01.176055",
     "exception": false,
     "start_time": "2025-03-02T18:12:01.151193",
     "status": "completed"
    },
    "tags": []
   },
   "outputs": [
    {
     "data": {
      "text/html": [
       "<style>#sk-container-id-1 {color: black;background-color: white;}#sk-container-id-1 pre{padding: 0;}#sk-container-id-1 div.sk-toggleable {background-color: white;}#sk-container-id-1 label.sk-toggleable__label {cursor: pointer;display: block;width: 100%;margin-bottom: 0;padding: 0.3em;box-sizing: border-box;text-align: center;}#sk-container-id-1 label.sk-toggleable__label-arrow:before {content: \"▸\";float: left;margin-right: 0.25em;color: #696969;}#sk-container-id-1 label.sk-toggleable__label-arrow:hover:before {color: black;}#sk-container-id-1 div.sk-estimator:hover label.sk-toggleable__label-arrow:before {color: black;}#sk-container-id-1 div.sk-toggleable__content {max-height: 0;max-width: 0;overflow: hidden;text-align: left;background-color: #f0f8ff;}#sk-container-id-1 div.sk-toggleable__content pre {margin: 0.2em;color: black;border-radius: 0.25em;background-color: #f0f8ff;}#sk-container-id-1 input.sk-toggleable__control:checked~div.sk-toggleable__content {max-height: 200px;max-width: 100%;overflow: auto;}#sk-container-id-1 input.sk-toggleable__control:checked~label.sk-toggleable__label-arrow:before {content: \"▾\";}#sk-container-id-1 div.sk-estimator input.sk-toggleable__control:checked~label.sk-toggleable__label {background-color: #d4ebff;}#sk-container-id-1 div.sk-label input.sk-toggleable__control:checked~label.sk-toggleable__label {background-color: #d4ebff;}#sk-container-id-1 input.sk-hidden--visually {border: 0;clip: rect(1px 1px 1px 1px);clip: rect(1px, 1px, 1px, 1px);height: 1px;margin: -1px;overflow: hidden;padding: 0;position: absolute;width: 1px;}#sk-container-id-1 div.sk-estimator {font-family: monospace;background-color: #f0f8ff;border: 1px dotted black;border-radius: 0.25em;box-sizing: border-box;margin-bottom: 0.5em;}#sk-container-id-1 div.sk-estimator:hover {background-color: #d4ebff;}#sk-container-id-1 div.sk-parallel-item::after {content: \"\";width: 100%;border-bottom: 1px solid gray;flex-grow: 1;}#sk-container-id-1 div.sk-label:hover label.sk-toggleable__label {background-color: #d4ebff;}#sk-container-id-1 div.sk-serial::before {content: \"\";position: absolute;border-left: 1px solid gray;box-sizing: border-box;top: 0;bottom: 0;left: 50%;z-index: 0;}#sk-container-id-1 div.sk-serial {display: flex;flex-direction: column;align-items: center;background-color: white;padding-right: 0.2em;padding-left: 0.2em;position: relative;}#sk-container-id-1 div.sk-item {position: relative;z-index: 1;}#sk-container-id-1 div.sk-parallel {display: flex;align-items: stretch;justify-content: center;background-color: white;position: relative;}#sk-container-id-1 div.sk-item::before, #sk-container-id-1 div.sk-parallel-item::before {content: \"\";position: absolute;border-left: 1px solid gray;box-sizing: border-box;top: 0;bottom: 0;left: 50%;z-index: -1;}#sk-container-id-1 div.sk-parallel-item {display: flex;flex-direction: column;z-index: 1;position: relative;background-color: white;}#sk-container-id-1 div.sk-parallel-item:first-child::after {align-self: flex-end;width: 50%;}#sk-container-id-1 div.sk-parallel-item:last-child::after {align-self: flex-start;width: 50%;}#sk-container-id-1 div.sk-parallel-item:only-child::after {width: 0;}#sk-container-id-1 div.sk-dashed-wrapped {border: 1px dashed gray;margin: 0 0.4em 0.5em 0.4em;box-sizing: border-box;padding-bottom: 0.4em;background-color: white;}#sk-container-id-1 div.sk-label label {font-family: monospace;font-weight: bold;display: inline-block;line-height: 1.2em;}#sk-container-id-1 div.sk-label-container {text-align: center;}#sk-container-id-1 div.sk-container {/* jupyter's `normalize.less` sets `[hidden] { display: none; }` but bootstrap.min.css set `[hidden] { display: none !important; }` so we also need the `!important` here to be able to override the default hidden behavior on the sphinx rendered scikit-learn.org. See: https://github.com/scikit-learn/scikit-learn/issues/21755 */display: inline-block !important;position: relative;}#sk-container-id-1 div.sk-text-repr-fallback {display: none;}</style><div id=\"sk-container-id-1\" class=\"sk-top-container\"><div class=\"sk-text-repr-fallback\"><pre>OneHotEncoder()</pre><b>In a Jupyter environment, please rerun this cell to show the HTML representation or trust the notebook. <br />On GitHub, the HTML representation is unable to render, please try loading this page with nbviewer.org.</b></div><div class=\"sk-container\" hidden><div class=\"sk-item\"><div class=\"sk-estimator sk-toggleable\"><input class=\"sk-toggleable__control sk-hidden--visually\" id=\"sk-estimator-id-1\" type=\"checkbox\" checked><label for=\"sk-estimator-id-1\" class=\"sk-toggleable__label sk-toggleable__label-arrow\">OneHotEncoder</label><div class=\"sk-toggleable__content\"><pre>OneHotEncoder()</pre></div></div></div></div></div>"
      ],
      "text/plain": [
       "OneHotEncoder()"
      ]
     },
     "execution_count": 10,
     "metadata": {},
     "output_type": "execute_result"
    }
   ],
   "source": [
    "encoder = OneHotEncoder()\n",
    "encoder.fit(array_reshaped)"
   ]
  },
  {
   "cell_type": "code",
   "execution_count": 11,
   "id": "04d15af4",
   "metadata": {
    "execution": {
     "iopub.execute_input": "2025-03-02T18:12:01.194726Z",
     "iopub.status.busy": "2025-03-02T18:12:01.194312Z",
     "iopub.status.idle": "2025-03-02T18:12:01.201435Z",
     "shell.execute_reply": "2025-03-02T18:12:01.200398Z"
    },
    "papermill": {
     "duration": 0.018509,
     "end_time": "2025-03-02T18:12:01.203268",
     "exception": false,
     "start_time": "2025-03-02T18:12:01.184759",
     "status": "completed"
    },
    "tags": []
   },
   "outputs": [],
   "source": [
    "encoded_data = encoder.transform(array_reshaped).toarray()"
   ]
  },
  {
   "cell_type": "code",
   "execution_count": 12,
   "id": "79ccc833",
   "metadata": {
    "execution": {
     "iopub.execute_input": "2025-03-02T18:12:01.221872Z",
     "iopub.status.busy": "2025-03-02T18:12:01.221464Z",
     "iopub.status.idle": "2025-03-02T18:12:01.237266Z",
     "shell.execute_reply": "2025-03-02T18:12:01.236002Z"
    },
    "papermill": {
     "duration": 0.027205,
     "end_time": "2025-03-02T18:12:01.239186",
     "exception": false,
     "start_time": "2025-03-02T18:12:01.211981",
     "status": "completed"
    },
    "tags": []
   },
   "outputs": [
    {
     "name": "stdout",
     "output_type": "stream",
     "text": [
      "   feature_name_Alley  feature_name_BldgType  feature_name_BsmtCond  \\\n",
      "0                 0.0                    0.0                    0.0   \n",
      "1                 0.0                    0.0                    0.0   \n",
      "2                 1.0                    0.0                    0.0   \n",
      "3                 0.0                    0.0                    0.0   \n",
      "4                 0.0                    0.0                    0.0   \n",
      "\n",
      "   feature_name_BsmtExposure  feature_name_BsmtFinType1  \\\n",
      "0                        0.0                        0.0   \n",
      "1                        0.0                        0.0   \n",
      "2                        0.0                        0.0   \n",
      "3                        0.0                        0.0   \n",
      "4                        0.0                        0.0   \n",
      "\n",
      "   feature_name_BsmtFinType2  feature_name_BsmtQual  feature_name_CentralAir  \\\n",
      "0                        0.0                    0.0                      0.0   \n",
      "1                        0.0                    0.0                      0.0   \n",
      "2                        0.0                    0.0                      0.0   \n",
      "3                        0.0                    0.0                      0.0   \n",
      "4                        0.0                    0.0                      0.0   \n",
      "\n",
      "   feature_name_Condition1  feature_name_Condition2  ...  \\\n",
      "0                      0.0                      0.0  ...   \n",
      "1                      0.0                      0.0  ...   \n",
      "2                      0.0                      0.0  ...   \n",
      "3                      0.0                      0.0  ...   \n",
      "4                      0.0                      0.0  ...   \n",
      "\n",
      "   feature_name_MiscFeature  feature_name_Neighborhood  \\\n",
      "0                       0.0                        0.0   \n",
      "1                       0.0                        0.0   \n",
      "2                       0.0                        0.0   \n",
      "3                       0.0                        0.0   \n",
      "4                       0.0                        0.0   \n",
      "\n",
      "   feature_name_PavedDrive  feature_name_PoolQC  feature_name_RoofMatl  \\\n",
      "0                      0.0                  0.0                    0.0   \n",
      "1                      0.0                  0.0                    0.0   \n",
      "2                      0.0                  0.0                    0.0   \n",
      "3                      0.0                  0.0                    0.0   \n",
      "4                      0.0                  0.0                    0.0   \n",
      "\n",
      "   feature_name_RoofStyle  feature_name_SaleCondition  feature_name_SaleType  \\\n",
      "0                     0.0                         0.0                    0.0   \n",
      "1                     0.0                         0.0                    0.0   \n",
      "2                     0.0                         0.0                    0.0   \n",
      "3                     0.0                         0.0                    0.0   \n",
      "4                     0.0                         0.0                    0.0   \n",
      "\n",
      "   feature_name_Street  feature_name_Utilities  \n",
      "0                  0.0                     0.0  \n",
      "1                  1.0                     0.0  \n",
      "2                  0.0                     0.0  \n",
      "3                  0.0                     0.0  \n",
      "4                  0.0                     0.0  \n",
      "\n",
      "[5 rows x 43 columns]\n"
     ]
    }
   ],
   "source": [
    "df_encoded = pd.DataFrame(encoded_data, columns=encoder.get_feature_names_out\n",
    "                          (['feature_name']))\n",
    "print(df_encoded.head(5))"
   ]
  },
  {
   "cell_type": "code",
   "execution_count": 13,
   "id": "670e2386",
   "metadata": {
    "execution": {
     "iopub.execute_input": "2025-03-02T18:12:01.257688Z",
     "iopub.status.busy": "2025-03-02T18:12:01.257268Z",
     "iopub.status.idle": "2025-03-02T18:12:01.273576Z",
     "shell.execute_reply": "2025-03-02T18:12:01.272212Z"
    },
    "papermill": {
     "duration": 0.027383,
     "end_time": "2025-03-02T18:12:01.275299",
     "exception": false,
     "start_time": "2025-03-02T18:12:01.247916",
     "status": "completed"
    },
    "tags": []
   },
   "outputs": [
    {
     "name": "stdout",
     "output_type": "stream",
     "text": [
      "   Alley  BldgType  BsmtCond  BsmtExposure  BsmtFinType1  BsmtFinType2  \\\n",
      "0    0.0       0.0       0.0           0.0           0.0           0.0   \n",
      "1    0.0       0.0       0.0           0.0           0.0           0.0   \n",
      "2    1.0       0.0       0.0           0.0           0.0           0.0   \n",
      "3    0.0       0.0       0.0           0.0           0.0           0.0   \n",
      "4    0.0       0.0       0.0           0.0           0.0           0.0   \n",
      "\n",
      "   BsmtQual  CentralAir  Condition1  Condition2  ...  MiscFeature  \\\n",
      "0       0.0         0.0         0.0         0.0  ...          0.0   \n",
      "1       0.0         0.0         0.0         0.0  ...          0.0   \n",
      "2       0.0         0.0         0.0         0.0  ...          0.0   \n",
      "3       0.0         0.0         0.0         0.0  ...          0.0   \n",
      "4       0.0         0.0         0.0         0.0  ...          0.0   \n",
      "\n",
      "   Neighborhood  PavedDrive  PoolQC  RoofMatl  RoofStyle  SaleCondition  \\\n",
      "0           0.0         0.0     0.0       0.0        0.0            0.0   \n",
      "1           0.0         0.0     0.0       0.0        0.0            0.0   \n",
      "2           0.0         0.0     0.0       0.0        0.0            0.0   \n",
      "3           0.0         0.0     0.0       0.0        0.0            0.0   \n",
      "4           0.0         0.0     0.0       0.0        0.0            0.0   \n",
      "\n",
      "   SaleType  Street  Utilities  \n",
      "0       0.0     0.0        0.0  \n",
      "1       0.0     1.0        0.0  \n",
      "2       0.0     0.0        0.0  \n",
      "3       0.0     0.0        0.0  \n",
      "4       0.0     0.0        0.0  \n",
      "\n",
      "[5 rows x 43 columns]\n"
     ]
    }
   ],
   "source": [
    "# Remove the prefix 'feature_name_' from the column names\n",
    "df_encoded.columns = df_encoded.columns.str.replace('feature_name_', '')\n",
    "\n",
    "# Display the updated DataFrame\n",
    "print(df_encoded.head())"
   ]
  },
  {
   "cell_type": "code",
   "execution_count": 14,
   "id": "777ef639",
   "metadata": {
    "execution": {
     "iopub.execute_input": "2025-03-02T18:12:01.294432Z",
     "iopub.status.busy": "2025-03-02T18:12:01.294040Z",
     "iopub.status.idle": "2025-03-02T18:12:01.300866Z",
     "shell.execute_reply": "2025-03-02T18:12:01.299524Z"
    },
    "papermill": {
     "duration": 0.018937,
     "end_time": "2025-03-02T18:12:01.302976",
     "exception": false,
     "start_time": "2025-03-02T18:12:01.284039",
     "status": "completed"
    },
    "tags": []
   },
   "outputs": [
    {
     "name": "stdout",
     "output_type": "stream",
     "text": [
      "Alley            0\n",
      "BldgType         0\n",
      "BsmtCond         0\n",
      "BsmtExposure     0\n",
      "BsmtFinType1     0\n",
      "BsmtFinType2     0\n",
      "BsmtQual         0\n",
      "CentralAir       0\n",
      "Condition1       0\n",
      "Condition2       0\n",
      "Electrical       0\n",
      "ExterCond        0\n",
      "ExterQual        0\n",
      "Exterior1st      0\n",
      "Exterior2nd      0\n",
      "Fence            0\n",
      "FireplaceQu      0\n",
      "Foundation       0\n",
      "Functional       0\n",
      "GarageCond       0\n",
      "GarageFinish     0\n",
      "GarageQual       0\n",
      "GarageType       0\n",
      "Heating          0\n",
      "HeatingQC        0\n",
      "HouseStyle       0\n",
      "KitchenQual      0\n",
      "LandContour      0\n",
      "LandSlope        0\n",
      "LotConfig        0\n",
      "LotShape         0\n",
      "MSZoning         0\n",
      "MasVnrType       0\n",
      "MiscFeature      0\n",
      "Neighborhood     0\n",
      "PavedDrive       0\n",
      "PoolQC           0\n",
      "RoofMatl         0\n",
      "RoofStyle        0\n",
      "SaleCondition    0\n",
      "SaleType         0\n",
      "Street           0\n",
      "Utilities        0\n",
      "dtype: int64\n"
     ]
    }
   ],
   "source": [
    "print(df_encoded.isna().sum())\n",
    "# no missing value from the df_encoded"
   ]
  },
  {
   "cell_type": "code",
   "execution_count": 15,
   "id": "24acea39",
   "metadata": {
    "execution": {
     "iopub.execute_input": "2025-03-02T18:12:01.322469Z",
     "iopub.status.busy": "2025-03-02T18:12:01.322102Z",
     "iopub.status.idle": "2025-03-02T18:12:01.336756Z",
     "shell.execute_reply": "2025-03-02T18:12:01.335262Z"
    },
    "papermill": {
     "duration": 0.02646,
     "end_time": "2025-03-02T18:12:01.338496",
     "exception": false,
     "start_time": "2025-03-02T18:12:01.312036",
     "status": "completed"
    },
    "tags": []
   },
   "outputs": [
    {
     "name": "stdout",
     "output_type": "stream",
     "text": [
      "0\n"
     ]
    }
   ],
   "source": [
    "print(df_encoded.duplicated().sum())\n",
    "#no duplication"
   ]
  },
  {
   "cell_type": "code",
   "execution_count": 16,
   "id": "961433a5",
   "metadata": {
    "execution": {
     "iopub.execute_input": "2025-03-02T18:12:01.361864Z",
     "iopub.status.busy": "2025-03-02T18:12:01.361442Z",
     "iopub.status.idle": "2025-03-02T18:12:01.373954Z",
     "shell.execute_reply": "2025-03-02T18:12:01.372736Z"
    },
    "papermill": {
     "duration": 0.026118,
     "end_time": "2025-03-02T18:12:01.375468",
     "exception": false,
     "start_time": "2025-03-02T18:12:01.349350",
     "status": "completed"
    },
    "tags": []
   },
   "outputs": [
    {
     "name": "stdout",
     "output_type": "stream",
     "text": [
      "   Id  MSSubClass  LotFrontage  LotArea  OverallQual  OverallCond  YearBuilt  \\\n",
      "0   1          60         65.0     8450            7            5       2003   \n",
      "1   2          20         80.0     9600            6            8       1976   \n",
      "2   3          60         68.0    11250            7            5       2001   \n",
      "3   4          70         60.0     9550            7            5       1915   \n",
      "4   5          60         84.0    14260            8            5       2000   \n",
      "\n",
      "   YearRemodAdd  MasVnrArea  BsmtFinSF1  ...  WoodDeckSF  OpenPorchSF  \\\n",
      "0          2003       196.0         706  ...           0           61   \n",
      "1          1976         0.0         978  ...         298            0   \n",
      "2          2002       162.0         486  ...           0           42   \n",
      "3          1970         0.0         216  ...           0           35   \n",
      "4          2000       350.0         655  ...         192           84   \n",
      "\n",
      "   EnclosedPorch  3SsnPorch  ScreenPorch  PoolArea  MiscVal  MoSold  YrSold  \\\n",
      "0              0          0            0         0        0       2    2008   \n",
      "1              0          0            0         0        0       5    2007   \n",
      "2              0          0            0         0        0       9    2008   \n",
      "3            272          0            0         0        0       2    2006   \n",
      "4              0          0            0         0        0      12    2008   \n",
      "\n",
      "   SalePrice  \n",
      "0     208500  \n",
      "1     181500  \n",
      "2     223500  \n",
      "3     140000  \n",
      "4     250000  \n",
      "\n",
      "[5 rows x 38 columns]\n"
     ]
    }
   ],
   "source": [
    "# Extract numerical columns from train_data\n",
    "numericals = train_data.select_dtypes(include=['int', 'float']).columns\n",
    "numerical_columns = train_data[numericals]\n",
    "print(numerical_columns.head(5))"
   ]
  },
  {
   "cell_type": "code",
   "execution_count": 17,
   "id": "6be77df0",
   "metadata": {
    "execution": {
     "iopub.execute_input": "2025-03-02T18:12:01.394690Z",
     "iopub.status.busy": "2025-03-02T18:12:01.394248Z",
     "iopub.status.idle": "2025-03-02T18:12:01.402415Z",
     "shell.execute_reply": "2025-03-02T18:12:01.401116Z"
    },
    "papermill": {
     "duration": 0.019854,
     "end_time": "2025-03-02T18:12:01.404276",
     "exception": false,
     "start_time": "2025-03-02T18:12:01.384422",
     "status": "completed"
    },
    "tags": []
   },
   "outputs": [
    {
     "name": "stdout",
     "output_type": "stream",
     "text": [
      "Id                 0\n",
      "MSSubClass         0\n",
      "LotFrontage      259\n",
      "LotArea            0\n",
      "OverallQual        0\n",
      "OverallCond        0\n",
      "YearBuilt          0\n",
      "YearRemodAdd       0\n",
      "MasVnrArea         8\n",
      "BsmtFinSF1         0\n",
      "BsmtFinSF2         0\n",
      "BsmtUnfSF          0\n",
      "TotalBsmtSF        0\n",
      "1stFlrSF           0\n",
      "2ndFlrSF           0\n",
      "LowQualFinSF       0\n",
      "GrLivArea          0\n",
      "BsmtFullBath       0\n",
      "BsmtHalfBath       0\n",
      "FullBath           0\n",
      "HalfBath           0\n",
      "BedroomAbvGr       0\n",
      "KitchenAbvGr       0\n",
      "TotRmsAbvGrd       0\n",
      "Fireplaces         0\n",
      "GarageYrBlt       81\n",
      "GarageCars         0\n",
      "GarageArea         0\n",
      "WoodDeckSF         0\n",
      "OpenPorchSF        0\n",
      "EnclosedPorch      0\n",
      "3SsnPorch          0\n",
      "ScreenPorch        0\n",
      "PoolArea           0\n",
      "MiscVal            0\n",
      "MoSold             0\n",
      "YrSold             0\n",
      "SalePrice          0\n",
      "dtype: int64\n"
     ]
    }
   ],
   "source": [
    "print(numerical_columns.isna().sum())"
   ]
  },
  {
   "cell_type": "code",
   "execution_count": 18,
   "id": "5e74bd5c",
   "metadata": {
    "execution": {
     "iopub.execute_input": "2025-03-02T18:12:01.424394Z",
     "iopub.status.busy": "2025-03-02T18:12:01.424043Z",
     "iopub.status.idle": "2025-03-02T18:12:01.432123Z",
     "shell.execute_reply": "2025-03-02T18:12:01.430691Z"
    },
    "papermill": {
     "duration": 0.019921,
     "end_time": "2025-03-02T18:12:01.433890",
     "exception": false,
     "start_time": "2025-03-02T18:12:01.413969",
     "status": "completed"
    },
    "tags": []
   },
   "outputs": [
    {
     "name": "stdout",
     "output_type": "stream",
     "text": [
      "Id               0\n",
      "MSSubClass       0\n",
      "LotFrontage      0\n",
      "LotArea          0\n",
      "OverallQual      0\n",
      "OverallCond      0\n",
      "YearBuilt        0\n",
      "YearRemodAdd     0\n",
      "MasVnrArea       0\n",
      "BsmtFinSF1       0\n",
      "BsmtFinSF2       0\n",
      "BsmtUnfSF        0\n",
      "TotalBsmtSF      0\n",
      "1stFlrSF         0\n",
      "2ndFlrSF         0\n",
      "LowQualFinSF     0\n",
      "GrLivArea        0\n",
      "BsmtFullBath     0\n",
      "BsmtHalfBath     0\n",
      "FullBath         0\n",
      "HalfBath         0\n",
      "BedroomAbvGr     0\n",
      "KitchenAbvGr     0\n",
      "TotRmsAbvGrd     0\n",
      "Fireplaces       0\n",
      "GarageYrBlt      0\n",
      "GarageCars       0\n",
      "GarageArea       0\n",
      "WoodDeckSF       0\n",
      "OpenPorchSF      0\n",
      "EnclosedPorch    0\n",
      "3SsnPorch        0\n",
      "ScreenPorch      0\n",
      "PoolArea         0\n",
      "MiscVal          0\n",
      "MoSold           0\n",
      "YrSold           0\n",
      "SalePrice        0\n",
      "dtype: int64\n"
     ]
    }
   ],
   "source": [
    "numerical_columns = numerical_columns.fillna(0)\n",
    "print(numerical_columns.isna().sum())"
   ]
  },
  {
   "cell_type": "code",
   "execution_count": 19,
   "id": "f5321b89",
   "metadata": {
    "execution": {
     "iopub.execute_input": "2025-03-02T18:12:01.453955Z",
     "iopub.status.busy": "2025-03-02T18:12:01.453593Z",
     "iopub.status.idle": "2025-03-02T18:12:01.468651Z",
     "shell.execute_reply": "2025-03-02T18:12:01.467236Z"
    },
    "papermill": {
     "duration": 0.027046,
     "end_time": "2025-03-02T18:12:01.470366",
     "exception": false,
     "start_time": "2025-03-02T18:12:01.443320",
     "status": "completed"
    },
    "tags": []
   },
   "outputs": [
    {
     "name": "stdout",
     "output_type": "stream",
     "text": [
      "   Id  MSSubClass  LotFrontage  LotArea  OverallQual  OverallCond  YearBuilt  \\\n",
      "0   1          60         65.0     8450            7            5       2003   \n",
      "1   2          20         80.0     9600            6            8       1976   \n",
      "2   3          60         68.0    11250            7            5       2001   \n",
      "3   4          70         60.0     9550            7            5       1915   \n",
      "4   5          60         84.0    14260            8            5       2000   \n",
      "\n",
      "   YearRemodAdd  MasVnrArea  BsmtFinSF1  ...  MiscFeature  Neighborhood  \\\n",
      "0          2003       196.0         706  ...          0.0           0.0   \n",
      "1          1976         0.0         978  ...          0.0           0.0   \n",
      "2          2002       162.0         486  ...          0.0           0.0   \n",
      "3          1970         0.0         216  ...          0.0           0.0   \n",
      "4          2000       350.0         655  ...          0.0           0.0   \n",
      "\n",
      "   PavedDrive  PoolQC  RoofMatl  RoofStyle  SaleCondition  SaleType  Street  \\\n",
      "0         0.0     0.0       0.0        0.0            0.0       0.0     0.0   \n",
      "1         0.0     0.0       0.0        0.0            0.0       0.0     1.0   \n",
      "2         0.0     0.0       0.0        0.0            0.0       0.0     0.0   \n",
      "3         0.0     0.0       0.0        0.0            0.0       0.0     0.0   \n",
      "4         0.0     0.0       0.0        0.0            0.0       0.0     0.0   \n",
      "\n",
      "   Utilities  \n",
      "0        0.0  \n",
      "1        0.0  \n",
      "2        0.0  \n",
      "3        0.0  \n",
      "4        0.0  \n",
      "\n",
      "[5 rows x 81 columns]\n"
     ]
    }
   ],
   "source": [
    "# Concatenate numerical_columns and df_encoded\n",
    "result = pd.concat([numerical_columns, df_encoded], axis=1)\n",
    "print(result.head(5))"
   ]
  },
  {
   "cell_type": "code",
   "execution_count": 20,
   "id": "f5ea383e",
   "metadata": {
    "execution": {
     "iopub.execute_input": "2025-03-02T18:12:01.490385Z",
     "iopub.status.busy": "2025-03-02T18:12:01.490015Z",
     "iopub.status.idle": "2025-03-02T18:12:01.512091Z",
     "shell.execute_reply": "2025-03-02T18:12:01.510845Z"
    },
    "papermill": {
     "duration": 0.034226,
     "end_time": "2025-03-02T18:12:01.513913",
     "exception": false,
     "start_time": "2025-03-02T18:12:01.479687",
     "status": "completed"
    },
    "tags": []
   },
   "outputs": [
    {
     "name": "stdout",
     "output_type": "stream",
     "text": [
      "        Id  MSSubClass  LotFrontage  LotArea  OverallQual  OverallCond  \\\n",
      "0        1          60         65.0     8450            7            5   \n",
      "1        2          20         80.0     9600            6            8   \n",
      "2        3          60         68.0    11250            7            5   \n",
      "3        4          70         60.0     9550            7            5   \n",
      "4        5          60         84.0    14260            8            5   \n",
      "...    ...         ...          ...      ...          ...          ...   \n",
      "1455  1456          60         62.0     7917            6            5   \n",
      "1456  1457          20         85.0    13175            6            6   \n",
      "1457  1458          70         66.0     9042            7            9   \n",
      "1458  1459          20         68.0     9717            5            6   \n",
      "1459  1460          20         75.0     9937            5            6   \n",
      "\n",
      "      YearBuilt  YearRemodAdd  MasVnrArea  BsmtFinSF1  ...  MiscFeature  \\\n",
      "0          2003          2003       196.0         706  ...          0.0   \n",
      "1          1976          1976         0.0         978  ...          0.0   \n",
      "2          2001          2002       162.0         486  ...          0.0   \n",
      "3          1915          1970         0.0         216  ...          0.0   \n",
      "4          2000          2000       350.0         655  ...          0.0   \n",
      "...         ...           ...         ...         ...  ...          ...   \n",
      "1455       1999          2000         0.0           0  ...          0.0   \n",
      "1456       1978          1988       119.0         790  ...          0.0   \n",
      "1457       1941          2006         0.0         275  ...          0.0   \n",
      "1458       1950          1996         0.0          49  ...          0.0   \n",
      "1459       1965          1965         0.0         830  ...          0.0   \n",
      "\n",
      "      Neighborhood  PavedDrive  PoolQC  RoofMatl  RoofStyle  SaleCondition  \\\n",
      "0              0.0         0.0     0.0       0.0        0.0            0.0   \n",
      "1              0.0         0.0     0.0       0.0        0.0            0.0   \n",
      "2              0.0         0.0     0.0       0.0        0.0            0.0   \n",
      "3              0.0         0.0     0.0       0.0        0.0            0.0   \n",
      "4              0.0         0.0     0.0       0.0        0.0            0.0   \n",
      "...            ...         ...     ...       ...        ...            ...   \n",
      "1455           0.0         0.0     0.0       0.0        0.0            0.0   \n",
      "1456           0.0         0.0     0.0       0.0        0.0            0.0   \n",
      "1457           0.0         0.0     0.0       0.0        0.0            0.0   \n",
      "1458           0.0         0.0     0.0       0.0        0.0            0.0   \n",
      "1459           0.0         0.0     0.0       0.0        0.0            0.0   \n",
      "\n",
      "      SaleType  Street  Utilities  \n",
      "0          0.0     0.0        0.0  \n",
      "1          0.0     1.0        0.0  \n",
      "2          0.0     0.0        0.0  \n",
      "3          0.0     0.0        0.0  \n",
      "4          0.0     0.0        0.0  \n",
      "...        ...     ...        ...  \n",
      "1455       0.0     0.0        0.0  \n",
      "1456       0.0     0.0        0.0  \n",
      "1457       0.0     0.0        0.0  \n",
      "1458       0.0     0.0        0.0  \n",
      "1459       0.0     0.0        0.0  \n",
      "\n",
      "[1460 rows x 81 columns]\n"
     ]
    }
   ],
   "source": [
    "result = result.replace([np.inf, -np.inf], np.nan).fillna(0)  # Replace inf with NaN and then fill NaN with 0\n",
    "print(result)\n"
   ]
  },
  {
   "cell_type": "code",
   "execution_count": 21,
   "id": "906bd0ad",
   "metadata": {
    "execution": {
     "iopub.execute_input": "2025-03-02T18:12:01.535059Z",
     "iopub.status.busy": "2025-03-02T18:12:01.534671Z",
     "iopub.status.idle": "2025-03-02T18:12:01.552096Z",
     "shell.execute_reply": "2025-03-02T18:12:01.550485Z"
    },
    "papermill": {
     "duration": 0.030038,
     "end_time": "2025-03-02T18:12:01.553929",
     "exception": false,
     "start_time": "2025-03-02T18:12:01.523891",
     "status": "completed"
    },
    "tags": []
   },
   "outputs": [
    {
     "name": "stdout",
     "output_type": "stream",
     "text": [
      "   Id  MSSubClass  LotFrontage  LotArea  OverallQual  OverallCond  YearBuilt  \\\n",
      "0   1          60         65.0     8450            7            5       2003   \n",
      "1   2          20         80.0     9600            6            8       1976   \n",
      "2   3          60         68.0    11250            7            5       2001   \n",
      "3   4          70         60.0     9550            7            5       1915   \n",
      "4   5          60         84.0    14260            8            5       2000   \n",
      "\n",
      "   YearRemodAdd  MasVnrArea  BsmtFinSF1  ...  MiscFeature  Neighborhood  \\\n",
      "0          2003       196.0         706  ...          0.0           0.0   \n",
      "1          1976         0.0         978  ...          0.0           0.0   \n",
      "2          2002       162.0         486  ...          0.0           0.0   \n",
      "3          1970         0.0         216  ...          0.0           0.0   \n",
      "4          2000       350.0         655  ...          0.0           0.0   \n",
      "\n",
      "   PavedDrive  PoolQC  RoofMatl  RoofStyle  SaleCondition  SaleType  Street  \\\n",
      "0         0.0     0.0       0.0        0.0            0.0       0.0     0.0   \n",
      "1         0.0     0.0       0.0        0.0            0.0       0.0     1.0   \n",
      "2         0.0     0.0       0.0        0.0            0.0       0.0     0.0   \n",
      "3         0.0     0.0       0.0        0.0            0.0       0.0     0.0   \n",
      "4         0.0     0.0       0.0        0.0            0.0       0.0     0.0   \n",
      "\n",
      "   Utilities  \n",
      "0        0.0  \n",
      "1        0.0  \n",
      "2        0.0  \n",
      "3        0.0  \n",
      "4        0.0  \n",
      "\n",
      "[5 rows x 81 columns]\n"
     ]
    }
   ],
   "source": [
    "# Check for any remaining invalid values\n",
    "if result.isnull().any().any() or np.isinf(result.select_dtypes(include=[np.number])).any().any():\n",
    "    print(\"Warning: There are still missing or infinite values in the DataFrame.\")\n",
    "\n",
    "print(result.head())"
   ]
  },
  {
   "cell_type": "code",
   "execution_count": 22,
   "id": "f5e50952",
   "metadata": {
    "execution": {
     "iopub.execute_input": "2025-03-02T18:12:01.575502Z",
     "iopub.status.busy": "2025-03-02T18:12:01.575155Z",
     "iopub.status.idle": "2025-03-02T18:12:01.582691Z",
     "shell.execute_reply": "2025-03-02T18:12:01.581605Z"
    },
    "papermill": {
     "duration": 0.020633,
     "end_time": "2025-03-02T18:12:01.584682",
     "exception": false,
     "start_time": "2025-03-02T18:12:01.564049",
     "status": "completed"
    },
    "tags": []
   },
   "outputs": [
    {
     "name": "stdout",
     "output_type": "stream",
     "text": [
      "Id               0\n",
      "MSSubClass       0\n",
      "LotFrontage      0\n",
      "LotArea          0\n",
      "OverallQual      0\n",
      "                ..\n",
      "RoofStyle        0\n",
      "SaleCondition    0\n",
      "SaleType         0\n",
      "Street           0\n",
      "Utilities        0\n",
      "Length: 81, dtype: int64\n"
     ]
    }
   ],
   "source": [
    "print(result.isna().sum())"
   ]
  },
  {
   "cell_type": "code",
   "execution_count": 23,
   "id": "d2ba8e56",
   "metadata": {
    "execution": {
     "iopub.execute_input": "2025-03-02T18:12:01.605695Z",
     "iopub.status.busy": "2025-03-02T18:12:01.605304Z",
     "iopub.status.idle": "2025-03-02T18:12:01.638812Z",
     "shell.execute_reply": "2025-03-02T18:12:01.637591Z"
    },
    "papermill": {
     "duration": 0.046155,
     "end_time": "2025-03-02T18:12:01.640868",
     "exception": false,
     "start_time": "2025-03-02T18:12:01.594713",
     "status": "completed"
    },
    "tags": []
   },
   "outputs": [],
   "source": [
    "correlation_matrix = result.corr()"
   ]
  },
  {
   "cell_type": "code",
   "execution_count": 24,
   "id": "53204c37",
   "metadata": {
    "execution": {
     "iopub.execute_input": "2025-03-02T18:12:01.661680Z",
     "iopub.status.busy": "2025-03-02T18:12:01.661247Z",
     "iopub.status.idle": "2025-03-02T18:12:01.668839Z",
     "shell.execute_reply": "2025-03-02T18:12:01.667692Z"
    },
    "papermill": {
     "duration": 0.019892,
     "end_time": "2025-03-02T18:12:01.670530",
     "exception": false,
     "start_time": "2025-03-02T18:12:01.650638",
     "status": "completed"
    },
    "tags": []
   },
   "outputs": [
    {
     "name": "stdout",
     "output_type": "stream",
     "text": [
      "OverallQual     0.790982\n",
      "YearBuilt       0.522897\n",
      "YearRemodAdd    0.507101\n",
      "MasVnrArea      0.472614\n",
      "BsmtFinSF1      0.386420\n",
      "TotalBsmtSF     0.613581\n",
      "1stFlrSF        0.605852\n",
      "2ndFlrSF        0.319334\n",
      "GrLivArea       0.708624\n",
      "FullBath        0.560664\n",
      "TotRmsAbvGrd    0.533723\n",
      "Fireplaces      0.466929\n",
      "GarageCars      0.640409\n",
      "GarageArea      0.623431\n",
      "WoodDeckSF      0.324413\n",
      "OpenPorchSF     0.315856\n",
      "SalePrice       1.000000\n",
      "Name: SalePrice, dtype: float64\n"
     ]
    }
   ],
   "source": [
    "high_corr_values = correlation_matrix.loc[correlation_matrix['SalePrice'] >= 0.3, 'SalePrice']\n",
    "print(high_corr_values)"
   ]
  },
  {
   "cell_type": "code",
   "execution_count": 25,
   "id": "5c7bd756",
   "metadata": {
    "execution": {
     "iopub.execute_input": "2025-03-02T18:12:01.691070Z",
     "iopub.status.busy": "2025-03-02T18:12:01.690678Z",
     "iopub.status.idle": "2025-03-02T18:12:01.696432Z",
     "shell.execute_reply": "2025-03-02T18:12:01.695437Z"
    },
    "papermill": {
     "duration": 0.018159,
     "end_time": "2025-03-02T18:12:01.698352",
     "exception": false,
     "start_time": "2025-03-02T18:12:01.680193",
     "status": "completed"
    },
    "tags": []
   },
   "outputs": [],
   "source": [
    "X = result.drop('SalePrice', axis = 1)\n",
    "y = result['SalePrice']"
   ]
  },
  {
   "cell_type": "code",
   "execution_count": 26,
   "id": "3fb9718b",
   "metadata": {
    "execution": {
     "iopub.execute_input": "2025-03-02T18:12:01.720146Z",
     "iopub.status.busy": "2025-03-02T18:12:01.719817Z",
     "iopub.status.idle": "2025-03-02T18:12:01.736285Z",
     "shell.execute_reply": "2025-03-02T18:12:01.735015Z"
    },
    "papermill": {
     "duration": 0.029195,
     "end_time": "2025-03-02T18:12:01.738201",
     "exception": false,
     "start_time": "2025-03-02T18:12:01.709006",
     "status": "completed"
    },
    "tags": []
   },
   "outputs": [
    {
     "name": "stdout",
     "output_type": "stream",
     "text": [
      "        Id  MSSubClass  LotFrontage  LotArea  OverallQual  OverallCond  \\\n",
      "0        1          60         65.0     8450            7            5   \n",
      "1        2          20         80.0     9600            6            8   \n",
      "2        3          60         68.0    11250            7            5   \n",
      "3        4          70         60.0     9550            7            5   \n",
      "4        5          60         84.0    14260            8            5   \n",
      "...    ...         ...          ...      ...          ...          ...   \n",
      "1455  1456          60         62.0     7917            6            5   \n",
      "1456  1457          20         85.0    13175            6            6   \n",
      "1457  1458          70         66.0     9042            7            9   \n",
      "1458  1459          20         68.0     9717            5            6   \n",
      "1459  1460          20         75.0     9937            5            6   \n",
      "\n",
      "      YearBuilt  YearRemodAdd  MasVnrArea  BsmtFinSF1  ...  MiscFeature  \\\n",
      "0          2003          2003       196.0         706  ...          0.0   \n",
      "1          1976          1976         0.0         978  ...          0.0   \n",
      "2          2001          2002       162.0         486  ...          0.0   \n",
      "3          1915          1970         0.0         216  ...          0.0   \n",
      "4          2000          2000       350.0         655  ...          0.0   \n",
      "...         ...           ...         ...         ...  ...          ...   \n",
      "1455       1999          2000         0.0           0  ...          0.0   \n",
      "1456       1978          1988       119.0         790  ...          0.0   \n",
      "1457       1941          2006         0.0         275  ...          0.0   \n",
      "1458       1950          1996         0.0          49  ...          0.0   \n",
      "1459       1965          1965         0.0         830  ...          0.0   \n",
      "\n",
      "      Neighborhood  PavedDrive  PoolQC  RoofMatl  RoofStyle  SaleCondition  \\\n",
      "0              0.0         0.0     0.0       0.0        0.0            0.0   \n",
      "1              0.0         0.0     0.0       0.0        0.0            0.0   \n",
      "2              0.0         0.0     0.0       0.0        0.0            0.0   \n",
      "3              0.0         0.0     0.0       0.0        0.0            0.0   \n",
      "4              0.0         0.0     0.0       0.0        0.0            0.0   \n",
      "...            ...         ...     ...       ...        ...            ...   \n",
      "1455           0.0         0.0     0.0       0.0        0.0            0.0   \n",
      "1456           0.0         0.0     0.0       0.0        0.0            0.0   \n",
      "1457           0.0         0.0     0.0       0.0        0.0            0.0   \n",
      "1458           0.0         0.0     0.0       0.0        0.0            0.0   \n",
      "1459           0.0         0.0     0.0       0.0        0.0            0.0   \n",
      "\n",
      "      SaleType  Street  Utilities  \n",
      "0          0.0     0.0        0.0  \n",
      "1          0.0     1.0        0.0  \n",
      "2          0.0     0.0        0.0  \n",
      "3          0.0     0.0        0.0  \n",
      "4          0.0     0.0        0.0  \n",
      "...        ...     ...        ...  \n",
      "1455       0.0     0.0        0.0  \n",
      "1456       0.0     0.0        0.0  \n",
      "1457       0.0     0.0        0.0  \n",
      "1458       0.0     0.0        0.0  \n",
      "1459       0.0     0.0        0.0  \n",
      "\n",
      "[1460 rows x 80 columns]\n"
     ]
    }
   ],
   "source": [
    "print(X)"
   ]
  },
  {
   "cell_type": "code",
   "execution_count": 27,
   "id": "43cdcb92",
   "metadata": {
    "execution": {
     "iopub.execute_input": "2025-03-02T18:12:01.759097Z",
     "iopub.status.busy": "2025-03-02T18:12:01.758733Z",
     "iopub.status.idle": "2025-03-02T18:12:01.765002Z",
     "shell.execute_reply": "2025-03-02T18:12:01.763715Z"
    },
    "papermill": {
     "duration": 0.018502,
     "end_time": "2025-03-02T18:12:01.766507",
     "exception": false,
     "start_time": "2025-03-02T18:12:01.748005",
     "status": "completed"
    },
    "tags": []
   },
   "outputs": [
    {
     "name": "stdout",
     "output_type": "stream",
     "text": [
      "0       208500\n",
      "1       181500\n",
      "2       223500\n",
      "3       140000\n",
      "4       250000\n",
      "         ...  \n",
      "1455    175000\n",
      "1456    210000\n",
      "1457    266500\n",
      "1458    142125\n",
      "1459    147500\n",
      "Name: SalePrice, Length: 1460, dtype: int64\n"
     ]
    }
   ],
   "source": [
    "print(y)"
   ]
  },
  {
   "cell_type": "code",
   "execution_count": 28,
   "id": "5ab168d7",
   "metadata": {
    "execution": {
     "iopub.execute_input": "2025-03-02T18:12:01.787572Z",
     "iopub.status.busy": "2025-03-02T18:12:01.787195Z",
     "iopub.status.idle": "2025-03-02T18:12:01.791375Z",
     "shell.execute_reply": "2025-03-02T18:12:01.790320Z"
    },
    "papermill": {
     "duration": 0.01663,
     "end_time": "2025-03-02T18:12:01.793051",
     "exception": false,
     "start_time": "2025-03-02T18:12:01.776421",
     "status": "completed"
    },
    "tags": []
   },
   "outputs": [],
   "source": [
    "from sklearn.decomposition import PCA\n",
    "from sklearn.preprocessing import StandardScaler"
   ]
  },
  {
   "cell_type": "code",
   "execution_count": 29,
   "id": "6c02ad62",
   "metadata": {
    "execution": {
     "iopub.execute_input": "2025-03-02T18:12:01.814036Z",
     "iopub.status.busy": "2025-03-02T18:12:01.813666Z",
     "iopub.status.idle": "2025-03-02T18:12:01.839140Z",
     "shell.execute_reply": "2025-03-02T18:12:01.838102Z"
    },
    "papermill": {
     "duration": 0.037964,
     "end_time": "2025-03-02T18:12:01.841058",
     "exception": false,
     "start_time": "2025-03-02T18:12:01.803094",
     "status": "completed"
    },
    "tags": []
   },
   "outputs": [],
   "source": [
    "scaler = StandardScaler()\n",
    "X_scaled = scaler.fit_transform(X)"
   ]
  },
  {
   "cell_type": "code",
   "execution_count": 30,
   "id": "4d880d80",
   "metadata": {
    "execution": {
     "iopub.execute_input": "2025-03-02T18:12:01.864136Z",
     "iopub.status.busy": "2025-03-02T18:12:01.863602Z",
     "iopub.status.idle": "2025-03-02T18:12:01.942119Z",
     "shell.execute_reply": "2025-03-02T18:12:01.941106Z"
    },
    "papermill": {
     "duration": 0.092625,
     "end_time": "2025-03-02T18:12:01.944114",
     "exception": false,
     "start_time": "2025-03-02T18:12:01.851489",
     "status": "completed"
    },
    "tags": []
   },
   "outputs": [],
   "source": [
    "pca = PCA()  # By default, PCA keeps all components\n",
    "X_pca = pca.fit_transform(X_scaled)"
   ]
  },
  {
   "cell_type": "code",
   "execution_count": 31,
   "id": "129ef83a",
   "metadata": {
    "execution": {
     "iopub.execute_input": "2025-03-02T18:12:01.965165Z",
     "iopub.status.busy": "2025-03-02T18:12:01.964756Z",
     "iopub.status.idle": "2025-03-02T18:12:02.297617Z",
     "shell.execute_reply": "2025-03-02T18:12:02.296504Z"
    },
    "papermill": {
     "duration": 0.345567,
     "end_time": "2025-03-02T18:12:02.299656",
     "exception": false,
     "start_time": "2025-03-02T18:12:01.954089",
     "status": "completed"
    },
    "tags": []
   },
   "outputs": [
    {
     "name": "stdout",
     "output_type": "stream",
     "text": [
      "Explained Variance Ratio: [8.59115231e-02 4.02570609e-02 2.78596348e-02 2.62749010e-02\n",
      " 2.02209056e-02 1.71901334e-02 1.68707005e-02 1.64892897e-02\n",
      " 1.63150946e-02 1.59475991e-02 1.53706344e-02 1.49210584e-02\n",
      " 1.46949618e-02 1.42177109e-02 1.38444432e-02 1.35229391e-02\n",
      " 1.34665694e-02 1.31175579e-02 1.30378879e-02 1.30002778e-02\n",
      " 1.28670839e-02 1.27323870e-02 1.27175656e-02 1.26322991e-02\n",
      " 1.26229894e-02 1.25867570e-02 1.25617016e-02 1.25519519e-02\n",
      " 1.25386648e-02 1.25336505e-02 1.25224356e-02 1.25186624e-02\n",
      " 1.25159685e-02 1.25125143e-02 1.25085675e-02 1.25085675e-02\n",
      " 1.25085675e-02 1.25085675e-02 1.25085675e-02 1.25085675e-02\n",
      " 1.25085675e-02 1.25085675e-02 1.25085675e-02 1.25085252e-02\n",
      " 1.24383890e-02 1.23228846e-02 1.22406282e-02 1.21308683e-02\n",
      " 1.20788954e-02 1.19682261e-02 1.18091543e-02 1.15392497e-02\n",
      " 1.14510038e-02 1.12265833e-02 1.09830742e-02 1.07735429e-02\n",
      " 1.04484929e-02 9.98993208e-03 9.72808483e-03 9.45214211e-03\n",
      " 9.10456827e-03 8.92198818e-03 8.81919007e-03 8.28651649e-03\n",
      " 7.95248971e-03 7.46336468e-03 7.01528044e-03 6.63995787e-03\n",
      " 5.53761527e-03 4.63147231e-03 4.14909682e-03 3.49871189e-03\n",
      " 3.29705362e-03 3.09160232e-03 2.33060231e-03 1.83607537e-03\n",
      " 1.61042381e-03 1.20169100e-03 1.69424052e-32 2.46203221e-34]\n",
      "Cumulative Explained Variance: [0.08591152 0.12616858 0.15402822 0.18030312 0.20052403 0.21771416\n",
      " 0.23458486 0.25107415 0.26738924 0.28333684 0.29870748 0.31362854\n",
      " 0.3283235  0.34254121 0.35638565 0.36990859 0.38337516 0.39649272\n",
      " 0.40953061 0.42253088 0.43539797 0.44813035 0.46084792 0.47348022\n",
      " 0.48610321 0.49868997 0.51125167 0.52380362 0.53634228 0.54887593\n",
      " 0.56139837 0.57391703 0.586433   0.59894552 0.61145408 0.62396265\n",
      " 0.63647122 0.64897979 0.66148835 0.67399692 0.68650549 0.69901406\n",
      " 0.71152262 0.72403115 0.73646954 0.74879242 0.76103305 0.77316392\n",
      " 0.78524281 0.79721104 0.80902019 0.82055944 0.83201045 0.84323703\n",
      " 0.8542201  0.86499365 0.87544214 0.88543207 0.89516016 0.9046123\n",
      " 0.91371687 0.92263886 0.93145805 0.93974456 0.94769705 0.95516042\n",
      " 0.9621757  0.96881566 0.97435327 0.97898474 0.98313384 0.98663255\n",
      " 0.98992961 0.99302121 0.99535181 0.99718789 0.99879831 1.\n",
      " 1.         1.        ]\n"
     ]
    },
    {
     "data": {
      "image/png": "[encoded data removed]",
      "text/plain": [
       "<Figure size 800x500 with 1 Axes>"
      ]
     },
     "metadata": {},
     "output_type": "display_data"
    }
   ],
   "source": [
    "# Explained variance ratio\n",
    "explained_variance = pca.explained_variance_ratio_\n",
    "print(\"Explained Variance Ratio:\", explained_variance)\n",
    "\n",
    "# Cumulative explained variance\n",
    "cumulative_explained_variance = np.cumsum(explained_variance)\n",
    "print(\"Cumulative Explained Variance:\", cumulative_explained_variance)\n",
    "\n",
    "# Plot explained variance\n",
    "plt.figure(figsize=(8, 5))\n",
    "plt.plot(range(1, len(cumulative_explained_variance) + 1), cumulative_explained_variance, marker='o')\n",
    "plt.xlabel('Number of Components')\n",
    "plt.ylabel('Cumulative Explained Variance')\n",
    "plt.title('Explained Variance by PCA Components')\n",
    "plt.grid()\n",
    "plt.show()"
   ]
  },
  {
   "cell_type": "code",
   "execution_count": 32,
   "id": "eb580525",
   "metadata": {
    "execution": {
     "iopub.execute_input": "2025-03-02T18:12:02.322952Z",
     "iopub.status.busy": "2025-03-02T18:12:02.322490Z",
     "iopub.status.idle": "2025-03-02T18:12:02.337242Z",
     "shell.execute_reply": "2025-03-02T18:12:02.335949Z"
    },
    "papermill": {
     "duration": 0.028655,
     "end_time": "2025-03-02T18:12:02.339326",
     "exception": false,
     "start_time": "2025-03-02T18:12:02.310671",
     "status": "completed"
    },
    "tags": []
   },
   "outputs": [
    {
     "name": "stdout",
     "output_type": "stream",
     "text": [
      "Number of components to retain: 66\n"
     ]
    }
   ],
   "source": [
    "# Retain components that explain 95% of the variance\n",
    "n_components = np.argmax(cumulative_explained_variance >= 0.95) + 1\n",
    "print(f\"Number of components to retain: {n_components}\")\n",
    "\n",
    "# Re-run PCA with the selected number of components\n",
    "pca = PCA(n_components=n_components)\n",
    "X_pca = pca.fit_transform(X_scaled)"
   ]
  },
  {
   "cell_type": "code",
   "execution_count": 33,
   "id": "e93df645",
   "metadata": {
    "execution": {
     "iopub.execute_input": "2025-03-02T18:12:02.365022Z",
     "iopub.status.busy": "2025-03-02T18:12:02.364622Z",
     "iopub.status.idle": "2025-03-02T18:12:02.371087Z",
     "shell.execute_reply": "2025-03-02T18:12:02.369965Z"
    },
    "papermill": {
     "duration": 0.019935,
     "end_time": "2025-03-02T18:12:02.372819",
     "exception": false,
     "start_time": "2025-03-02T18:12:02.352884",
     "status": "completed"
    },
    "tags": []
   },
   "outputs": [],
   "source": [
    "# Example: Split data into train and test sets\n",
    "from sklearn.model_selection import train_test_split\n",
    "X_train, X_test, y_train, y_test = train_test_split(X_pca, y, test_size=0.2, random_state=42)"
   ]
  },
  {
   "cell_type": "code",
   "execution_count": 34,
   "id": "833d0e5c",
   "metadata": {
    "execution": {
     "iopub.execute_input": "2025-03-02T18:12:02.395732Z",
     "iopub.status.busy": "2025-03-02T18:12:02.395307Z",
     "iopub.status.idle": "2025-03-02T18:12:02.399934Z",
     "shell.execute_reply": "2025-03-02T18:12:02.398677Z"
    },
    "papermill": {
     "duration": 0.018313,
     "end_time": "2025-03-02T18:12:02.402000",
     "exception": false,
     "start_time": "2025-03-02T18:12:02.383687",
     "status": "completed"
    },
    "tags": []
   },
   "outputs": [],
   "source": [
    "from sklearn.linear_model import LogisticRegression"
   ]
  },
  {
   "cell_type": "code",
   "execution_count": 35,
   "id": "b25ed7cf",
   "metadata": {
    "execution": {
     "iopub.execute_input": "2025-03-02T18:12:02.424864Z",
     "iopub.status.busy": "2025-03-02T18:12:02.424442Z",
     "iopub.status.idle": "2025-03-02T18:12:08.917698Z",
     "shell.execute_reply": "2025-03-02T18:12:08.916163Z"
    },
    "papermill": {
     "duration": 6.506898,
     "end_time": "2025-03-02T18:12:08.919659",
     "exception": false,
     "start_time": "2025-03-02T18:12:02.412761",
     "status": "completed"
    },
    "tags": []
   },
   "outputs": [
    {
     "data": {
      "text/html": [
       "<style>#sk-container-id-2 {color: black;background-color: white;}#sk-container-id-2 pre{padding: 0;}#sk-container-id-2 div.sk-toggleable {background-color: white;}#sk-container-id-2 label.sk-toggleable__label {cursor: pointer;display: block;width: 100%;margin-bottom: 0;padding: 0.3em;box-sizing: border-box;text-align: center;}#sk-container-id-2 label.sk-toggleable__label-arrow:before {content: \"▸\";float: left;margin-right: 0.25em;color: #696969;}#sk-container-id-2 label.sk-toggleable__label-arrow:hover:before {color: black;}#sk-container-id-2 div.sk-estimator:hover label.sk-toggleable__label-arrow:before {color: black;}#sk-container-id-2 div.sk-toggleable__content {max-height: 0;max-width: 0;overflow: hidden;text-align: left;background-color: #f0f8ff;}#sk-container-id-2 div.sk-toggleable__content pre {margin: 0.2em;color: black;border-radius: 0.25em;background-color: #f0f8ff;}#sk-container-id-2 input.sk-toggleable__control:checked~div.sk-toggleable__content {max-height: 200px;max-width: 100%;overflow: auto;}#sk-container-id-2 input.sk-toggleable__control:checked~label.sk-toggleable__label-arrow:before {content: \"▾\";}#sk-container-id-2 div.sk-estimator input.sk-toggleable__control:checked~label.sk-toggleable__label {background-color: #d4ebff;}#sk-container-id-2 div.sk-label input.sk-toggleable__control:checked~label.sk-toggleable__label {background-color: #d4ebff;}#sk-container-id-2 input.sk-hidden--visually {border: 0;clip: rect(1px 1px 1px 1px);clip: rect(1px, 1px, 1px, 1px);height: 1px;margin: -1px;overflow: hidden;padding: 0;position: absolute;width: 1px;}#sk-container-id-2 div.sk-estimator {font-family: monospace;background-color: #f0f8ff;border: 1px dotted black;border-radius: 0.25em;box-sizing: border-box;margin-bottom: 0.5em;}#sk-container-id-2 div.sk-estimator:hover {background-color: #d4ebff;}#sk-container-id-2 div.sk-parallel-item::after {content: \"\";width: 100%;border-bottom: 1px solid gray;flex-grow: 1;}#sk-container-id-2 div.sk-label:hover label.sk-toggleable__label {background-color: #d4ebff;}#sk-container-id-2 div.sk-serial::before {content: \"\";position: absolute;border-left: 1px solid gray;box-sizing: border-box;top: 0;bottom: 0;left: 50%;z-index: 0;}#sk-container-id-2 div.sk-serial {display: flex;flex-direction: column;align-items: center;background-color: white;padding-right: 0.2em;padding-left: 0.2em;position: relative;}#sk-container-id-2 div.sk-item {position: relative;z-index: 1;}#sk-container-id-2 div.sk-parallel {display: flex;align-items: stretch;justify-content: center;background-color: white;position: relative;}#sk-container-id-2 div.sk-item::before, #sk-container-id-2 div.sk-parallel-item::before {content: \"\";position: absolute;border-left: 1px solid gray;box-sizing: border-box;top: 0;bottom: 0;left: 50%;z-index: -1;}#sk-container-id-2 div.sk-parallel-item {display: flex;flex-direction: column;z-index: 1;position: relative;background-color: white;}#sk-container-id-2 div.sk-parallel-item:first-child::after {align-self: flex-end;width: 50%;}#sk-container-id-2 div.sk-parallel-item:last-child::after {align-self: flex-start;width: 50%;}#sk-container-id-2 div.sk-parallel-item:only-child::after {width: 0;}#sk-container-id-2 div.sk-dashed-wrapped {border: 1px dashed gray;margin: 0 0.4em 0.5em 0.4em;box-sizing: border-box;padding-bottom: 0.4em;background-color: white;}#sk-container-id-2 div.sk-label label {font-family: monospace;font-weight: bold;display: inline-block;line-height: 1.2em;}#sk-container-id-2 div.sk-label-container {text-align: center;}#sk-container-id-2 div.sk-container {/* jupyter's `normalize.less` sets `[hidden] { display: none; }` but bootstrap.min.css set `[hidden] { display: none !important; }` so we also need the `!important` here to be able to override the default hidden behavior on the sphinx rendered scikit-learn.org. See: https://github.com/scikit-learn/scikit-learn/issues/21755 */display: inline-block !important;position: relative;}#sk-container-id-2 div.sk-text-repr-fallback {display: none;}</style><div id=\"sk-container-id-2\" class=\"sk-top-container\"><div class=\"sk-text-repr-fallback\"><pre>LogisticRegression(max_iter=1000)</pre><b>In a Jupyter environment, please rerun this cell to show the HTML representation or trust the notebook. <br />On GitHub, the HTML representation is unable to render, please try loading this page with nbviewer.org.</b></div><div class=\"sk-container\" hidden><div class=\"sk-item\"><div class=\"sk-estimator sk-toggleable\"><input class=\"sk-toggleable__control sk-hidden--visually\" id=\"sk-estimator-id-2\" type=\"checkbox\" checked><label for=\"sk-estimator-id-2\" class=\"sk-toggleable__label sk-toggleable__label-arrow\">LogisticRegression</label><div class=\"sk-toggleable__content\"><pre>LogisticRegression(max_iter=1000)</pre></div></div></div></div></div>"
      ],
      "text/plain": [
       "LogisticRegression(max_iter=1000)"
      ]
     },
     "execution_count": 35,
     "metadata": {},
     "output_type": "execute_result"
    }
   ],
   "source": [
    "# Initialize and train the model\n",
    "model = LogisticRegression(max_iter = 1000)\n",
    "model.fit(X_train, y_train)"
   ]
  },
  {
   "cell_type": "code",
   "execution_count": 36,
   "id": "4fe00fe1",
   "metadata": {
    "execution": {
     "iopub.execute_input": "2025-03-02T18:12:08.945075Z",
     "iopub.status.busy": "2025-03-02T18:12:08.944694Z",
     "iopub.status.idle": "2025-03-02T18:12:08.951557Z",
     "shell.execute_reply": "2025-03-02T18:12:08.950695Z"
    },
    "papermill": {
     "duration": 0.020904,
     "end_time": "2025-03-02T18:12:08.953286",
     "exception": false,
     "start_time": "2025-03-02T18:12:08.932382",
     "status": "completed"
    },
    "tags": []
   },
   "outputs": [],
   "source": [
    "# Make predictions\n",
    "y_pred = model.predict(X_test)"
   ]
  },
  {
   "cell_type": "code",
   "execution_count": 37,
   "id": "bec03a33",
   "metadata": {
    "execution": {
     "iopub.execute_input": "2025-03-02T18:12:08.976625Z",
     "iopub.status.busy": "2025-03-02T18:12:08.976176Z",
     "iopub.status.idle": "2025-03-02T18:12:08.980785Z",
     "shell.execute_reply": "2025-03-02T18:12:08.979688Z"
    },
    "papermill": {
     "duration": 0.018123,
     "end_time": "2025-03-02T18:12:08.982514",
     "exception": false,
     "start_time": "2025-03-02T18:12:08.964391",
     "status": "completed"
    },
    "tags": []
   },
   "outputs": [],
   "source": [
    "from sklearn.metrics import mean_squared_error, r2_score"
   ]
  },
  {
   "cell_type": "code",
   "execution_count": 38,
   "id": "0c890167",
   "metadata": {
    "execution": {
     "iopub.execute_input": "2025-03-02T18:12:09.006111Z",
     "iopub.status.busy": "2025-03-02T18:12:09.005712Z",
     "iopub.status.idle": "2025-03-02T18:12:09.012758Z",
     "shell.execute_reply": "2025-03-02T18:12:09.011648Z"
    },
    "papermill": {
     "duration": 0.020969,
     "end_time": "2025-03-02T18:12:09.014757",
     "exception": false,
     "start_time": "2025-03-02T18:12:08.993788",
     "status": "completed"
    },
    "tags": []
   },
   "outputs": [
    {
     "name": "stdout",
     "output_type": "stream",
     "text": [
      "Mean Squared Error: 1972851080.6164384\n",
      "R^2 Score: 0.7427943704965416\n"
     ]
    }
   ],
   "source": [
    "# Evaluate the model\n",
    "# Evaluate the model\n",
    "mse = mean_squared_error(y_test, y_pred)\n",
    "r2 = r2_score(y_test, y_pred)\n",
    "\n",
    "print(f'Mean Squared Error: {mse}')\n",
    "print(f'R^2 Score: {r2}')"
   ]
  },
  {
   "cell_type": "code",
   "execution_count": 39,
   "id": "403f0ed7",
   "metadata": {
    "execution": {
     "iopub.execute_input": "2025-03-02T18:12:09.039295Z",
     "iopub.status.busy": "2025-03-02T18:12:09.038946Z",
     "iopub.status.idle": "2025-03-02T18:12:09.051108Z",
     "shell.execute_reply": "2025-03-02T18:12:09.049742Z"
    },
    "papermill": {
     "duration": 0.026781,
     "end_time": "2025-03-02T18:12:09.052872",
     "exception": false,
     "start_time": "2025-03-02T18:12:09.026091",
     "status": "completed"
    },
    "tags": []
   },
   "outputs": [
    {
     "name": "stdout",
     "output_type": "stream",
     "text": [
      "Intercept: [-1.04934430e+00 -1.87164080e+00 -2.87287479e+00 -1.58884348e+00\n",
      " -1.27159432e+00 -1.66867718e+00 -1.14126052e+00 -1.28088285e+00\n",
      " -1.74661233e+00 -3.04374914e-01 -1.91240658e+00 -1.67043312e-01\n",
      " -4.10472217e-01 -5.95555504e-01 -5.90926494e-01 -1.66457642e+00\n",
      "  3.83432611e-01 -1.22389224e+00 -2.00866833e+00 -1.47555283e+00\n",
      " -1.16569966e+00  8.77297799e-01  3.63324538e-02 -5.48243855e-01\n",
      " -9.13904340e-01 -4.45114066e-01 -1.09473935e+00 -5.18323175e-01\n",
      " -1.93452346e+00 -1.43192504e+00 -2.47940261e-01 -8.75390545e-01\n",
      "  1.67249993e-01 -1.73447407e+00 -8.19002011e-01 -8.95830429e-01\n",
      " -3.18728439e-01 -2.24788599e-01  1.21478103e-01 -8.46490105e-01\n",
      "  9.81520368e-02 -1.55348084e+00 -4.83241184e-01  3.02626819e-01\n",
      " -2.94087350e-01 -1.76144647e-01  6.81188239e-01  1.18536637e-01\n",
      " -4.06041853e-01  2.11841650e-01 -8.93567146e-02  2.52047247e-01\n",
      " -1.35185672e+00  1.25289265e+00 -6.47494924e-01  3.90413158e-01\n",
      " -5.79752018e-01  7.27528264e-01  3.68190954e-01  4.56739187e-01\n",
      "  2.20072361e-01 -2.52562664e-01 -9.54902236e-01 -7.57574366e-01\n",
      " -2.97766363e-01 -1.10576197e+00 -6.35021678e-01  1.38751850e+00\n",
      " -8.57514406e-01 -2.43126642e+00 -1.44431596e-01 -3.06855627e-01\n",
      "  2.37914796e+00  2.30635051e-01 -2.62981954e-01  2.09079538e-01\n",
      "  1.48819938e+00  4.37589534e-01  8.43179193e-01  3.55315506e-01\n",
      " -8.16815238e-02  1.91382898e+00 -1.18720893e+00 -3.57337279e-01\n",
      " -9.86371804e-01 -7.59422444e-01  1.17350184e+00 -6.12743744e-01\n",
      "  4.67121425e-01  2.02454834e-01 -4.74396920e-02  1.16508281e+00\n",
      "  2.56758711e-01  1.13073116e+00 -1.31630120e-01 -3.62394023e-02\n",
      "  1.92504841e+00  1.30880590e-01 -3.83009540e-01  7.08069220e-02\n",
      " -2.44400024e-01  1.70835071e+00 -1.42489707e+00  5.54104297e-01\n",
      "  7.94949141e-02 -7.21412722e-01 -6.18165861e-01  1.52958610e+00\n",
      "  9.34186740e-01  2.14207314e-02  2.75235000e+00 -2.81293642e-01\n",
      "  9.47586277e-01  1.87984958e-01  4.35631880e-01  2.33481853e+00\n",
      "  1.29656063e+00  1.94649823e+00  1.14912621e-01  2.46379108e-01\n",
      "  2.38676063e+00  1.14659186e+00 -7.55666429e-01  2.48232349e+00\n",
      "  5.71254934e-01  1.14224365e+00  1.60734623e+00  2.25923020e+00\n",
      "  2.30989863e-02  1.57093889e+00  9.00879611e-01  5.33098041e-01\n",
      " -1.44429091e-01 -3.36066385e-01  1.09043218e+00  2.43871942e-01\n",
      "  5.43031440e-01 -2.42562468e+00  7.26391417e-02  3.32759600e+00\n",
      " -5.06872197e-01 -3.11531781e-01  3.51842541e-01 -5.89865808e-01\n",
      "  5.10952472e-01 -3.37560828e-01  1.49927532e+00  7.78590578e-01\n",
      "  9.92545592e-01 -3.70703074e-01 -5.31623767e-01  2.26155452e-01\n",
      " -3.72306167e-01 -2.39794238e-01  3.04932538e+00 -4.97760282e-01\n",
      "  5.40709231e-01  3.63814630e-02  5.14722932e-01  7.81735365e-01\n",
      "  3.66964120e+00  3.90789979e-01  1.65379007e+00  7.09458882e-01\n",
      "  8.57134234e-01 -8.76448058e-01  6.85012239e-01 -8.65102864e-01\n",
      " -9.50681804e-01  2.77481599e+00 -4.64481764e-03  4.60913564e-01\n",
      "  5.39206897e-02  6.43364254e-01  9.84173335e-01 -6.53061964e-01\n",
      "  9.17701101e-02  1.27015835e+00  7.70268863e-01  6.25419520e-01\n",
      " -4.74595582e-01  6.87849388e-01  6.13273454e-01  7.33498422e-01\n",
      "  2.69343339e+00 -5.33051923e-01 -4.37949882e-01  3.17653649e+00\n",
      "  6.67437177e-01 -8.74643023e-01  8.45846469e-01 -6.82629929e-01\n",
      " -2.29145887e+00 -1.97855257e-01 -9.36906022e-02  2.10644088e+00\n",
      "  1.57578682e+00 -2.76999758e-01  8.30854809e-01  3.03828101e-03\n",
      "  1.26693685e+00 -9.11582378e-01 -1.72211515e+00  2.04925773e+00\n",
      "  5.73978580e-01  4.59615428e-02  4.63062634e-01 -1.73903844e-01\n",
      "  1.48839115e+00  3.46602410e+00  5.31706193e-01 -1.43491046e-02\n",
      "  2.66384421e+00  1.30011243e+00  4.15910580e-01  2.80473691e+00\n",
      " -3.84640312e-02  1.00494826e-01  9.92208372e-01  8.94439857e-01\n",
      "  1.46253140e+00  2.13262331e-01  1.25818596e-01  2.85660802e+00\n",
      "  9.76667773e-02  2.14609732e-02  1.30914009e-01  6.59169857e-02\n",
      "  1.30873152e+00  6.20082020e-01  9.18248406e-01  1.66377362e+00\n",
      " -2.49214961e-02  2.65077555e-01  2.80859802e-01  2.51829482e+00\n",
      "  6.86574166e-01 -5.13409582e-01  1.40768625e-01  2.43927399e-01\n",
      "  3.22407272e+00 -1.98160788e-01  3.14124936e-01  5.45893764e-01\n",
      "  6.67543474e-01  8.50014297e-01 -3.20718864e-01  1.95978289e+00\n",
      "  9.65194865e-01  1.95742677e+00  1.57156689e+00  6.71338008e-01\n",
      "  4.33644147e-01  1.66674197e-01  3.06962903e+00  1.12789608e+00\n",
      "  2.84755856e-01 -3.19349686e-01 -6.39058332e-01 -2.92551715e-01\n",
      "  1.21314115e-02  1.30501493e+00  1.00149789e-01  1.73132801e+00\n",
      " -7.07285387e-01  1.85381145e-01  1.55428357e+00  3.88630442e-01\n",
      "  5.90524654e-01  2.69780953e+00  2.38039819e+00 -4.58271901e-01\n",
      "  2.93613688e+00  3.32712173e-01  1.97021188e-01  1.07311210e+00\n",
      "  2.44696143e+00  1.11507929e+00  6.07167195e-01  3.06309849e-02\n",
      " -6.86104231e-02  6.77893014e-01  1.55560491e+00  9.05064884e-01\n",
      "  8.14596884e-02 -4.67535231e-01  6.00561126e-01 -4.11324410e-02\n",
      "  1.64313997e-01  6.77611268e-01  2.79916241e+00  8.53240717e-01\n",
      "  1.36337580e+00 -2.38331232e+00  1.80628259e-01 -2.41515991e-01\n",
      "  4.10022106e-01  4.73341748e-01  4.35111641e-01  1.83126089e+00\n",
      " -2.62631958e-01 -2.78085356e+00  1.89685618e-01  2.98594625e+00\n",
      "  1.19818116e-01  4.51100053e-01 -2.94307961e-02  2.73671708e-01\n",
      " -6.55139460e-01  1.25990135e+00  1.83518830e+00  8.92414453e-02\n",
      "  1.41210268e+00  5.98052405e-01  6.35254092e-01  1.17033809e+00\n",
      "  1.24782926e-01  3.79949401e+00  1.63112220e+00  2.01303270e+00\n",
      "  2.99157254e-01  8.51297476e-01  1.13920764e+00 -2.76002415e-02\n",
      " -3.53837176e-01  1.45177311e+00  7.51073277e-01  1.21399173e-01\n",
      " -3.80895420e-02  1.00279805e+00  1.89167674e-01  5.79252605e-01\n",
      "  8.74860443e-01 -3.71389485e-01 -4.87751307e-01  9.84166285e-01\n",
      "  1.30352894e+00 -1.77023468e-01  1.46302362e-01  5.53867372e-01\n",
      "  3.18178238e-01 -9.36881254e-01  8.65595912e-01  2.21006448e-01\n",
      " -2.82058085e-01  8.54548766e-01  1.23307558e+00  9.57710837e-02\n",
      "  1.79967924e+00  3.67352865e-01 -1.62449618e-01 -7.04649891e-01\n",
      " -2.87647392e-03  7.82631500e-01  1.12170371e+00 -2.68829017e-01\n",
      " -2.50966153e+00  9.44022485e-01 -1.91134881e-01  2.34668006e+00\n",
      "  4.67159991e-01  5.26350814e-02 -2.69067293e-01  2.62741047e-01\n",
      " -1.02375077e+00  2.77539593e-01 -5.52715563e-02  8.47888993e-01\n",
      " -2.89197085e-01 -1.85375024e-01  2.71050468e+00  4.11024587e-02\n",
      " -4.60653539e-01 -5.58971153e-01 -5.82204525e-01  5.89217571e-01\n",
      " -8.96260172e-02 -8.16632453e-01  1.11498663e+00  1.47713907e+00\n",
      "  1.48509712e+00 -3.95340790e-01  2.22160146e-01  4.67188727e-01\n",
      " -2.13785995e-01 -1.41432135e-01  6.43624616e-01  1.70556777e-01\n",
      " -2.43081499e-01  1.91526461e+00  7.00580308e-01  2.28356512e-01\n",
      "  8.31445719e-01  3.73471614e-01  7.09896674e-02 -8.06541880e-01\n",
      "  1.81549112e-01 -1.18571048e+00 -8.48158607e-02  1.22171012e-01\n",
      "  2.19600427e+00 -8.41618437e-02  1.42701724e-01 -4.99011341e-01\n",
      " -9.11807098e-02 -3.22786085e-01 -9.58071633e-02 -1.29607554e-01\n",
      "  1.84907493e-01  1.83565640e+00 -5.50434028e-01  5.93215640e-01\n",
      " -5.73212004e-01 -5.63290358e-02  1.26517559e-01 -6.63873887e-01\n",
      "  2.03902675e+00 -3.20658876e-01 -8.05580675e-02 -5.04293408e-01\n",
      "  6.77660779e-01  4.02178566e-01 -4.72449465e-01 -4.58947959e-01\n",
      "  8.57337963e-01 -7.05380041e-01 -4.63468322e-01 -1.10120244e+00\n",
      " -5.56868877e-01 -4.81568314e-01 -7.24246209e-01 -7.42533049e-01\n",
      " -8.73941396e-01  1.28074510e+00  1.60324920e-01  1.96418580e-01\n",
      " -7.08732111e-01  5.04712604e-02  4.92482726e-03 -7.60499844e-01\n",
      " -7.19661706e-01 -2.13606395e-01 -2.43786829e+00 -3.21349895e-01\n",
      " -2.41714865e-01 -6.20699100e-01 -4.77674949e-01  2.42999407e-01\n",
      "  1.14243141e+00  1.09547257e-01 -1.64465018e-01 -4.75616613e-01\n",
      "  1.45522964e-01 -8.74539901e-01 -6.40393655e-01 -4.51344800e-01\n",
      " -9.15889231e-01 -7.54477144e-01  5.72389007e-02 -9.45470107e-01\n",
      " -7.67433218e-01 -9.11448630e-02 -2.45301740e-01 -1.44153681e-01\n",
      " -1.06397398e+00  6.72324347e-01 -5.15310562e-01  9.21594035e-02\n",
      " -5.59077256e-01 -5.96631582e-01  1.77823864e-01 -2.46748163e-01\n",
      " -6.11839601e-01 -8.10090181e-01 -1.47595818e+00  2.23488774e-01\n",
      " -5.99144153e-01 -7.75357503e-01 -2.44217789e+00 -4.89197841e-01\n",
      " -2.47377750e+00  2.78332150e-02 -9.65651899e-01 -1.27822959e+00\n",
      " -4.76496196e-01  2.79339528e-01 -7.50798035e-01 -7.94508767e-01\n",
      " -6.84931084e-01 -4.35007102e-01  5.19509621e-01 -8.37586110e-01\n",
      " -1.10820946e+00 -8.84325287e-01 -1.05378938e+00 -3.56421774e-01\n",
      " -1.09129134e+00 -1.81362391e+00 -1.04195019e+00 -2.47550101e+00\n",
      " -2.47360322e+00 -2.45911779e+00 -1.23992840e+00 -4.35895686e-01\n",
      " -1.06058327e+00 -1.59357455e+00  4.80314144e-01 -8.34145461e-02\n",
      " -1.75925255e-01 -1.40615269e+00 -8.45417445e-01 -5.84794470e-01\n",
      " -1.43006828e+00 -7.18290743e-01 -6.78477721e-01 -2.39618478e+00\n",
      " -4.19160694e-01 -1.41001607e+00 -4.62699128e-02 -2.25747055e-01\n",
      " -1.78209549e+00 -1.68063047e-01 -1.02966189e+00 -1.04591031e+00\n",
      " -4.13068058e-01 -9.95982514e-01 -2.60313227e+00 -8.01940976e-01\n",
      " -6.80441362e-01 -1.60028965e+00 -6.05371313e-01 -1.58746526e+00\n",
      " -5.46730647e-01 -7.32786933e-01 -1.46811910e+00 -1.01366818e+00\n",
      " -1.32548715e+00 -6.43610677e-01 -1.14961929e+00 -2.12472694e+00\n",
      " -2.25888763e+00 -1.52862851e+00 -1.58515833e+00 -2.63628784e+00\n",
      " -2.90883226e+00  2.98155739e-01 -6.29035250e-01 -9.45902292e-01\n",
      " -1.68067832e+00 -1.26293934e+00 -8.59343323e-01 -1.70328336e+00\n",
      " -1.58348089e+00 -1.67683837e+00 -1.63195609e+00 -1.23636006e+00\n",
      " -1.98133265e+00 -1.29585651e+00 -1.36565188e+00 -1.31306738e+00\n",
      " -9.98703089e-01 -1.76998660e+00 -2.14554378e+00 -1.21525151e+00\n",
      " -2.90533073e+00 -1.94777915e+00 -1.77862260e+00 -1.73915146e+00\n",
      " -2.41517369e+00 -2.74204345e+00 -1.60987152e+00]\n",
      "Coefficients: [[-6.36553734e-01 -9.61133533e-02  2.48179927e-01 ... -6.94397845e-01\n",
      "  -4.74998654e-01 -2.30807381e-01]\n",
      " [-1.49373441e+00  4.88808117e-01  2.79779323e-01 ... -3.09777289e-01\n",
      "   2.71340875e-01  9.49919052e-02]\n",
      " [-1.60902228e+00 -1.41091226e-01 -3.51650672e-01 ...  1.09766951e-01\n",
      "   6.22275813e-03 -2.70389308e-01]\n",
      " ...\n",
      " [ 1.26369748e+00  6.28905558e-01  1.27003877e-03 ...  1.61910067e-01\n",
      "  -5.38948047e-02 -1.75945778e-01]\n",
      " [ 1.22303223e+00  3.03534986e-01  3.67706696e-01 ... -3.27970227e-01\n",
      "   4.07558071e-01  2.78599483e-01]\n",
      " [ 7.69725003e-01  1.92217624e-01  3.66667253e-01 ...  2.09749245e-02\n",
      "  -4.04903621e-02  1.00122572e-01]]\n"
     ]
    }
   ],
   "source": [
    "# View coefficients\n",
    "print(\"Intercept:\", model.intercept_)\n",
    "print(\"Coefficients:\", model.coef_)\n"
   ]
  },
  {
   "cell_type": "code",
   "execution_count": 40,
   "id": "2db714f0",
   "metadata": {
    "execution": {
     "iopub.execute_input": "2025-03-02T18:12:09.076781Z",
     "iopub.status.busy": "2025-03-02T18:12:09.076325Z",
     "iopub.status.idle": "2025-03-02T18:12:09.081986Z",
     "shell.execute_reply": "2025-03-02T18:12:09.080796Z"
    },
    "papermill": {
     "duration": 0.019417,
     "end_time": "2025-03-02T18:12:09.083734",
     "exception": false,
     "start_time": "2025-03-02T18:12:09.064317",
     "status": "completed"
    },
    "tags": []
   },
   "outputs": [
    {
     "name": "stdout",
     "output_type": "stream",
     "text": [
      "Model Parameters: {'C': 1.0, 'class_weight': None, 'dual': False, 'fit_intercept': True, 'intercept_scaling': 1, 'l1_ratio': None, 'max_iter': 1000, 'multi_class': 'auto', 'n_jobs': None, 'penalty': 'l2', 'random_state': None, 'solver': 'lbfgs', 'tol': 0.0001, 'verbose': 0, 'warm_start': False}\n"
     ]
    }
   ],
   "source": [
    "print(\"Model Parameters:\", model.get_params())"
   ]
  },
  {
   "cell_type": "code",
   "execution_count": 41,
   "id": "dccb72a5",
   "metadata": {
    "execution": {
     "iopub.execute_input": "2025-03-02T18:12:09.108155Z",
     "iopub.status.busy": "2025-03-02T18:12:09.107781Z",
     "iopub.status.idle": "2025-03-02T18:12:09.112317Z",
     "shell.execute_reply": "2025-03-02T18:12:09.111302Z"
    },
    "papermill": {
     "duration": 0.019046,
     "end_time": "2025-03-02T18:12:09.114201",
     "exception": false,
     "start_time": "2025-03-02T18:12:09.095155",
     "status": "completed"
    },
    "tags": []
   },
   "outputs": [],
   "source": [
    "X_test = pd.DataFrame(X_test)"
   ]
  },
  {
   "cell_type": "code",
   "execution_count": 42,
   "id": "f063fb55",
   "metadata": {
    "execution": {
     "iopub.execute_input": "2025-03-02T18:12:09.138913Z",
     "iopub.status.busy": "2025-03-02T18:12:09.138383Z",
     "iopub.status.idle": "2025-03-02T18:12:09.149457Z",
     "shell.execute_reply": "2025-03-02T18:12:09.148456Z"
    },
    "papermill": {
     "duration": 0.025902,
     "end_time": "2025-03-02T18:12:09.151831",
     "exception": false,
     "start_time": "2025-03-02T18:12:09.125929",
     "status": "completed"
    },
    "tags": []
   },
   "outputs": [],
   "source": [
    "# Save predictions in format used for competition scoring\n",
    "output = pd.DataFrame({'Id': X_test.index,'SalePrice': y_pred})\n",
    "output.to_csv('sample_submission.csv', index=False)\n"
   ]
  }
 ],
 "metadata": {
  "kaggle": {
   "accelerator": "none",
   "dataSources": [
    {
     "databundleVersionId": 111096,
     "sourceId": 10211,
     "sourceType": "competition"
    }
   ],
   "dockerImageVersionId": 30918,
   "isGpuEnabled": false,
   "isInternetEnabled": true,
   "language": "python",
   "sourceType": "notebook"
  },
  "kernelspec": {
   "display_name": "Python 3",
   "language": "python",
   "name": "python3"
  },
  "language_info": {
   "codemirror_mode": {
    "name": "ipython",
    "version": 3
   },
   "file_extension": ".py",
   "mimetype": "text/x-python",
   "name": "python",
   "nbconvert_exporter": "python",
   "pygments_lexer": "ipython3",
   "version": "3.10.12"
  },
  "papermill": {
   "default_parameters": {},
   "duration": 15.23316,
   "end_time": "2025-03-02T18:12:09.885280",
   "environment_variables": {},
   "exception": null,
   "input_path": "__notebook__.ipynb",
   "output_path": "__notebook__.ipynb",
   "parameters": {},
   "start_time": "2025-03-02T18:11:54.652120",
   "version": "2.6.0"
  }
 },
 "nbformat": 4,
 "nbformat_minor": 5
}
