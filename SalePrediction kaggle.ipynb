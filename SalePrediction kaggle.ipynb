{
 "cells": [
  {
   "cell_type": "code",
   "execution_count": 1,
   "id": "13e13b4d",
   "metadata": {
    "_cell_guid": "b1076dfc-b9ad-4769-8c92-a6c4dae69d19",
    "_uuid": "8f2839f25d086af736a60e9eeb907d3b93b6e0e5",
    "execution": {
     "iopub.execute_input": "2025-03-01T18:34:37.652456Z",
     "iopub.status.busy": "2025-03-01T18:34:37.652109Z",
     "iopub.status.idle": "2025-03-01T18:34:38.610363Z",
     "shell.execute_reply": "2025-03-01T18:34:38.608851Z"
    },
    "papermill": {
     "duration": 0.969298,
     "end_time": "2025-03-01T18:34:38.612241",
     "exception": false,
     "start_time": "2025-03-01T18:34:37.642943",
     "status": "completed"
    },
    "tags": []
   },
   "outputs": [
    {
     "name": "stdout",
     "output_type": "stream",
     "text": [
      "/kaggle/input/home-data-for-ml-course/sample_submission.csv\n",
      "/kaggle/input/home-data-for-ml-course/sample_submission.csv.gz\n",
      "/kaggle/input/home-data-for-ml-course/train.csv.gz\n",
      "/kaggle/input/home-data-for-ml-course/data_description.txt\n",
      "/kaggle/input/home-data-for-ml-course/test.csv.gz\n",
      "/kaggle/input/home-data-for-ml-course/train.csv\n",
      "/kaggle/input/home-data-for-ml-course/test.csv\n"
     ]
    }
   ],
   "source": [
    "# This Python 3 environment comes with many helpful analytics libraries installed\n",
    "# It is defined by the kaggle/python Docker image: https://github.com/kaggle/docker-python\n",
    "# For example, here's several helpful packages to load\n",
    "\n",
    "import numpy as np # linear algebra\n",
    "import pandas as pd # data processing, CSV file I/O (e.g. pd.read_csv)\n",
    "\n",
    "# Input data files are available in the read-only \"../input/\" directory\n",
    "# For example, running this (by clicking run or pressing Shift+Enter) will list all files under the input directory\n",
    "\n",
    "import os\n",
    "for dirname, _, filenames in os.walk('/kaggle/input'):\n",
    "    for filename in filenames:\n",
    "        print(os.path.join(dirname, filename))\n",
    "\n",
    "# You can write up to 20GB to the current directory (/kaggle/working/) that gets preserved as output when you create a version using \"Save & Run All\" \n",
    "# You can also write temporary files to /kaggle/temp/, but they won't be saved outside of the current session"
   ]
  },
  {
   "cell_type": "code",
   "execution_count": 2,
   "id": "3d577a8c",
   "metadata": {
    "execution": {
     "iopub.execute_input": "2025-03-01T18:34:38.629069Z",
     "iopub.status.busy": "2025-03-01T18:34:38.628505Z",
     "iopub.status.idle": "2025-03-01T18:34:40.894252Z",
     "shell.execute_reply": "2025-03-01T18:34:40.893111Z"
    },
    "papermill": {
     "duration": 2.276172,
     "end_time": "2025-03-01T18:34:40.896268",
     "exception": false,
     "start_time": "2025-03-01T18:34:38.620096",
     "status": "completed"
    },
    "tags": []
   },
   "outputs": [],
   "source": [
    "import pandas as pd\n",
    "import seaborn as sns\n",
    "import matplotlib.pyplot as plt\n",
    "from sklearn.preprocessing import OneHotEncoder\n",
    "from sklearn.metrics import mean_squared_error, r2_score\n",
    "from sklearn.decomposition import PCA\n",
    "from sklearn.preprocessing import StandardScaler"
   ]
  },
  {
   "cell_type": "code",
   "execution_count": 3,
   "id": "e1b88ad1",
   "metadata": {
    "execution": {
     "iopub.execute_input": "2025-03-01T18:34:40.912991Z",
     "iopub.status.busy": "2025-03-01T18:34:40.912406Z",
     "iopub.status.idle": "2025-03-01T18:34:41.000366Z",
     "shell.execute_reply": "2025-03-01T18:34:40.998947Z"
    },
    "papermill": {
     "duration": 0.098371,
     "end_time": "2025-03-01T18:34:41.002354",
     "exception": false,
     "start_time": "2025-03-01T18:34:40.903983",
     "status": "completed"
    },
    "tags": []
   },
   "outputs": [],
   "source": [
    "train_data = pd.read_csv('/kaggle/input/home-data-for-ml-course/train.csv')\n",
    "test_data = pd.read_csv('/kaggle/input/home-data-for-ml-course/test.csv')\n",
    "submission_csv = pd.read_csv('/kaggle/input/home-data-for-ml-course/sample_submission.csv')"
   ]
  },
  {
   "cell_type": "code",
   "execution_count": 4,
   "id": "592eb089",
   "metadata": {
    "execution": {
     "iopub.execute_input": "2025-03-01T18:34:41.018823Z",
     "iopub.status.busy": "2025-03-01T18:34:41.018395Z",
     "iopub.status.idle": "2025-03-01T18:34:41.023594Z",
     "shell.execute_reply": "2025-03-01T18:34:41.022711Z"
    },
    "papermill": {
     "duration": 0.015234,
     "end_time": "2025-03-01T18:34:41.025384",
     "exception": false,
     "start_time": "2025-03-01T18:34:41.010150",
     "status": "completed"
    },
    "tags": []
   },
   "outputs": [
    {
     "name": "stdout",
     "output_type": "stream",
     "text": [
      "(1460, 81)\n",
      "(1459, 80)\n"
     ]
    }
   ],
   "source": [
    "print(train_data.shape)\n",
    "print(test_data.shape)"
   ]
  },
  {
   "cell_type": "code",
   "execution_count": 5,
   "id": "1159e6ac",
   "metadata": {
    "execution": {
     "iopub.execute_input": "2025-03-01T18:34:41.041091Z",
     "iopub.status.busy": "2025-03-01T18:34:41.040710Z",
     "iopub.status.idle": "2025-03-01T18:34:41.067311Z",
     "shell.execute_reply": "2025-03-01T18:34:41.065990Z"
    },
    "papermill": {
     "duration": 0.036354,
     "end_time": "2025-03-01T18:34:41.069073",
     "exception": false,
     "start_time": "2025-03-01T18:34:41.032719",
     "status": "completed"
    },
    "tags": []
   },
   "outputs": [
    {
     "name": "stdout",
     "output_type": "stream",
     "text": [
      "   Id  MSSubClass MSZoning  LotFrontage  LotArea Street Alley LotShape  \\\n",
      "0   1          60       RL         65.0     8450   Pave   NaN      Reg   \n",
      "1   2          20       RL         80.0     9600   Pave   NaN      Reg   \n",
      "2   3          60       RL         68.0    11250   Pave   NaN      IR1   \n",
      "3   4          70       RL         60.0     9550   Pave   NaN      IR1   \n",
      "4   5          60       RL         84.0    14260   Pave   NaN      IR1   \n",
      "\n",
      "  LandContour Utilities  ... PoolArea PoolQC Fence MiscFeature MiscVal MoSold  \\\n",
      "0         Lvl    AllPub  ...        0    NaN   NaN         NaN       0      2   \n",
      "1         Lvl    AllPub  ...        0    NaN   NaN         NaN       0      5   \n",
      "2         Lvl    AllPub  ...        0    NaN   NaN         NaN       0      9   \n",
      "3         Lvl    AllPub  ...        0    NaN   NaN         NaN       0      2   \n",
      "4         Lvl    AllPub  ...        0    NaN   NaN         NaN       0     12   \n",
      "\n",
      "  YrSold  SaleType  SaleCondition  SalePrice  \n",
      "0   2008        WD         Normal     208500  \n",
      "1   2007        WD         Normal     181500  \n",
      "2   2008        WD         Normal     223500  \n",
      "3   2006        WD        Abnorml     140000  \n",
      "4   2008        WD         Normal     250000  \n",
      "\n",
      "[5 rows x 81 columns]\n"
     ]
    }
   ],
   "source": [
    "print(train_data.head(5))"
   ]
  },
  {
   "cell_type": "code",
   "execution_count": 6,
   "id": "88f0a548",
   "metadata": {
    "execution": {
     "iopub.execute_input": "2025-03-01T18:34:41.085175Z",
     "iopub.status.busy": "2025-03-01T18:34:41.084771Z",
     "iopub.status.idle": "2025-03-01T18:34:41.090689Z",
     "shell.execute_reply": "2025-03-01T18:34:41.089470Z"
    },
    "papermill": {
     "duration": 0.015914,
     "end_time": "2025-03-01T18:34:41.092475",
     "exception": false,
     "start_time": "2025-03-01T18:34:41.076561",
     "status": "completed"
    },
    "tags": []
   },
   "outputs": [
    {
     "name": "stdout",
     "output_type": "stream",
     "text": [
      "Index(['Id', 'MSSubClass', 'MSZoning', 'LotFrontage', 'LotArea', 'Street',\n",
      "       'Alley', 'LotShape', 'LandContour', 'Utilities', 'LotConfig',\n",
      "       'LandSlope', 'Neighborhood', 'Condition1', 'Condition2', 'BldgType',\n",
      "       'HouseStyle', 'OverallQual', 'OverallCond', 'YearBuilt', 'YearRemodAdd',\n",
      "       'RoofStyle', 'RoofMatl', 'Exterior1st', 'Exterior2nd', 'MasVnrType',\n",
      "       'MasVnrArea', 'ExterQual', 'ExterCond', 'Foundation', 'BsmtQual',\n",
      "       'BsmtCond', 'BsmtExposure', 'BsmtFinType1', 'BsmtFinSF1',\n",
      "       'BsmtFinType2', 'BsmtFinSF2', 'BsmtUnfSF', 'TotalBsmtSF', 'Heating',\n",
      "       'HeatingQC', 'CentralAir', 'Electrical', '1stFlrSF', '2ndFlrSF',\n",
      "       'LowQualFinSF', 'GrLivArea', 'BsmtFullBath', 'BsmtHalfBath', 'FullBath',\n",
      "       'HalfBath', 'BedroomAbvGr', 'KitchenAbvGr', 'KitchenQual',\n",
      "       'TotRmsAbvGrd', 'Functional', 'Fireplaces', 'FireplaceQu', 'GarageType',\n",
      "       'GarageYrBlt', 'GarageFinish', 'GarageCars', 'GarageArea', 'GarageQual',\n",
      "       'GarageCond', 'PavedDrive', 'WoodDeckSF', 'OpenPorchSF',\n",
      "       'EnclosedPorch', '3SsnPorch', 'ScreenPorch', 'PoolArea', 'PoolQC',\n",
      "       'Fence', 'MiscFeature', 'MiscVal', 'MoSold', 'YrSold', 'SaleType',\n",
      "       'SaleCondition', 'SalePrice'],\n",
      "      dtype='object')\n"
     ]
    }
   ],
   "source": [
    "print(train_data.columns)"
   ]
  },
  {
   "cell_type": "code",
   "execution_count": 7,
   "id": "974b49b1",
   "metadata": {
    "execution": {
     "iopub.execute_input": "2025-03-01T18:34:41.109172Z",
     "iopub.status.busy": "2025-03-01T18:34:41.108792Z",
     "iopub.status.idle": "2025-03-01T18:34:41.115489Z",
     "shell.execute_reply": "2025-03-01T18:34:41.114367Z"
    },
    "papermill": {
     "duration": 0.016831,
     "end_time": "2025-03-01T18:34:41.117111",
     "exception": false,
     "start_time": "2025-03-01T18:34:41.100280",
     "status": "completed"
    },
    "tags": []
   },
   "outputs": [
    {
     "name": "stdout",
     "output_type": "stream",
     "text": [
      "Index(['MSZoning', 'Street', 'Alley', 'LotShape', 'LandContour', 'Utilities',\n",
      "       'LotConfig', 'LandSlope', 'Neighborhood', 'Condition1', 'Condition2',\n",
      "       'BldgType', 'HouseStyle', 'RoofStyle', 'RoofMatl', 'Exterior1st',\n",
      "       'Exterior2nd', 'MasVnrType', 'ExterQual', 'ExterCond', 'Foundation',\n",
      "       'BsmtQual', 'BsmtCond', 'BsmtExposure', 'BsmtFinType1', 'BsmtFinType2',\n",
      "       'Heating', 'HeatingQC', 'CentralAir', 'Electrical', 'KitchenQual',\n",
      "       'Functional', 'FireplaceQu', 'GarageType', 'GarageFinish', 'GarageQual',\n",
      "       'GarageCond', 'PavedDrive', 'PoolQC', 'Fence', 'MiscFeature',\n",
      "       'SaleType', 'SaleCondition'],\n",
      "      dtype='object')\n"
     ]
    }
   ],
   "source": [
    "non_numerical = train_data.select_dtypes(exclude=['int', 'float']).columns\n",
    "print(non_numerical)"
   ]
  },
  {
   "cell_type": "code",
   "execution_count": 8,
   "id": "02210109",
   "metadata": {
    "execution": {
     "iopub.execute_input": "2025-03-01T18:34:41.134032Z",
     "iopub.status.busy": "2025-03-01T18:34:41.133608Z",
     "iopub.status.idle": "2025-03-01T18:34:41.139879Z",
     "shell.execute_reply": "2025-03-01T18:34:41.138245Z"
    },
    "papermill": {
     "duration": 0.01673,
     "end_time": "2025-03-01T18:34:41.141720",
     "exception": false,
     "start_time": "2025-03-01T18:34:41.124990",
     "status": "completed"
    },
    "tags": []
   },
   "outputs": [
    {
     "name": "stdout",
     "output_type": "stream",
     "text": [
      "[['MSZoning']\n",
      " ['Street']\n",
      " ['Alley']\n",
      " ['LotShape']\n",
      " ['LandContour']\n",
      " ['Utilities']\n",
      " ['LotConfig']\n",
      " ['LandSlope']\n",
      " ['Neighborhood']\n",
      " ['Condition1']\n",
      " ['Condition2']\n",
      " ['BldgType']\n",
      " ['HouseStyle']\n",
      " ['RoofStyle']\n",
      " ['RoofMatl']\n",
      " ['Exterior1st']\n",
      " ['Exterior2nd']\n",
      " ['MasVnrType']\n",
      " ['ExterQual']\n",
      " ['ExterCond']\n",
      " ['Foundation']\n",
      " ['BsmtQual']\n",
      " ['BsmtCond']\n",
      " ['BsmtExposure']\n",
      " ['BsmtFinType1']\n",
      " ['BsmtFinType2']\n",
      " ['Heating']\n",
      " ['HeatingQC']\n",
      " ['CentralAir']\n",
      " ['Electrical']\n",
      " ['KitchenQual']\n",
      " ['Functional']\n",
      " ['FireplaceQu']\n",
      " ['GarageType']\n",
      " ['GarageFinish']\n",
      " ['GarageQual']\n",
      " ['GarageCond']\n",
      " ['PavedDrive']\n",
      " ['PoolQC']\n",
      " ['Fence']\n",
      " ['MiscFeature']\n",
      " ['SaleType']\n",
      " ['SaleCondition']]\n"
     ]
    }
   ],
   "source": [
    "# Your 1D array\n",
    "array = np.array(non_numerical)\n",
    "\n",
    "# Reshape to 2D array with shape (n_samples, 1)\n",
    "array_reshaped = array.reshape(-1, 1)\n",
    "\n",
    "print(array_reshaped)"
   ]
  },
  {
   "cell_type": "code",
   "execution_count": 9,
   "id": "cf908ecf",
   "metadata": {
    "execution": {
     "iopub.execute_input": "2025-03-01T18:34:41.158685Z",
     "iopub.status.busy": "2025-03-01T18:34:41.158353Z",
     "iopub.status.idle": "2025-03-01T18:34:41.162446Z",
     "shell.execute_reply": "2025-03-01T18:34:41.161568Z"
    },
    "papermill": {
     "duration": 0.01461,
     "end_time": "2025-03-01T18:34:41.164158",
     "exception": false,
     "start_time": "2025-03-01T18:34:41.149548",
     "status": "completed"
    },
    "tags": []
   },
   "outputs": [],
   "source": [
    "from sklearn.preprocessing import OneHotEncoder"
   ]
  },
  {
   "cell_type": "code",
   "execution_count": 10,
   "id": "1213186f",
   "metadata": {
    "execution": {
     "iopub.execute_input": "2025-03-01T18:34:41.181133Z",
     "iopub.status.busy": "2025-03-01T18:34:41.180735Z",
     "iopub.status.idle": "2025-03-01T18:34:41.192980Z",
     "shell.execute_reply": "2025-03-01T18:34:41.191884Z"
    },
    "papermill": {
     "duration": 0.022548,
     "end_time": "2025-03-01T18:34:41.194672",
     "exception": false,
     "start_time": "2025-03-01T18:34:41.172124",
     "status": "completed"
    },
    "tags": []
   },
   "outputs": [
    {
     "data": {
      "text/html": [
       "<style>#sk-container-id-1 {color: black;background-color: white;}#sk-container-id-1 pre{padding: 0;}#sk-container-id-1 div.sk-toggleable {background-color: white;}#sk-container-id-1 label.sk-toggleable__label {cursor: pointer;display: block;width: 100%;margin-bottom: 0;padding: 0.3em;box-sizing: border-box;text-align: center;}#sk-container-id-1 label.sk-toggleable__label-arrow:before {content: \"▸\";float: left;margin-right: 0.25em;color: #696969;}#sk-container-id-1 label.sk-toggleable__label-arrow:hover:before {color: black;}#sk-container-id-1 div.sk-estimator:hover label.sk-toggleable__label-arrow:before {color: black;}#sk-container-id-1 div.sk-toggleable__content {max-height: 0;max-width: 0;overflow: hidden;text-align: left;background-color: #f0f8ff;}#sk-container-id-1 div.sk-toggleable__content pre {margin: 0.2em;color: black;border-radius: 0.25em;background-color: #f0f8ff;}#sk-container-id-1 input.sk-toggleable__control:checked~div.sk-toggleable__content {max-height: 200px;max-width: 100%;overflow: auto;}#sk-container-id-1 input.sk-toggleable__control:checked~label.sk-toggleable__label-arrow:before {content: \"▾\";}#sk-container-id-1 div.sk-estimator input.sk-toggleable__control:checked~label.sk-toggleable__label {background-color: #d4ebff;}#sk-container-id-1 div.sk-label input.sk-toggleable__control:checked~label.sk-toggleable__label {background-color: #d4ebff;}#sk-container-id-1 input.sk-hidden--visually {border: 0;clip: rect(1px 1px 1px 1px);clip: rect(1px, 1px, 1px, 1px);height: 1px;margin: -1px;overflow: hidden;padding: 0;position: absolute;width: 1px;}#sk-container-id-1 div.sk-estimator {font-family: monospace;background-color: #f0f8ff;border: 1px dotted black;border-radius: 0.25em;box-sizing: border-box;margin-bottom: 0.5em;}#sk-container-id-1 div.sk-estimator:hover {background-color: #d4ebff;}#sk-container-id-1 div.sk-parallel-item::after {content: \"\";width: 100%;border-bottom: 1px solid gray;flex-grow: 1;}#sk-container-id-1 div.sk-label:hover label.sk-toggleable__label {background-color: #d4ebff;}#sk-container-id-1 div.sk-serial::before {content: \"\";position: absolute;border-left: 1px solid gray;box-sizing: border-box;top: 0;bottom: 0;left: 50%;z-index: 0;}#sk-container-id-1 div.sk-serial {display: flex;flex-direction: column;align-items: center;background-color: white;padding-right: 0.2em;padding-left: 0.2em;position: relative;}#sk-container-id-1 div.sk-item {position: relative;z-index: 1;}#sk-container-id-1 div.sk-parallel {display: flex;align-items: stretch;justify-content: center;background-color: white;position: relative;}#sk-container-id-1 div.sk-item::before, #sk-container-id-1 div.sk-parallel-item::before {content: \"\";position: absolute;border-left: 1px solid gray;box-sizing: border-box;top: 0;bottom: 0;left: 50%;z-index: -1;}#sk-container-id-1 div.sk-parallel-item {display: flex;flex-direction: column;z-index: 1;position: relative;background-color: white;}#sk-container-id-1 div.sk-parallel-item:first-child::after {align-self: flex-end;width: 50%;}#sk-container-id-1 div.sk-parallel-item:last-child::after {align-self: flex-start;width: 50%;}#sk-container-id-1 div.sk-parallel-item:only-child::after {width: 0;}#sk-container-id-1 div.sk-dashed-wrapped {border: 1px dashed gray;margin: 0 0.4em 0.5em 0.4em;box-sizing: border-box;padding-bottom: 0.4em;background-color: white;}#sk-container-id-1 div.sk-label label {font-family: monospace;font-weight: bold;display: inline-block;line-height: 1.2em;}#sk-container-id-1 div.sk-label-container {text-align: center;}#sk-container-id-1 div.sk-container {/* jupyter's `normalize.less` sets `[hidden] { display: none; }` but bootstrap.min.css set `[hidden] { display: none !important; }` so we also need the `!important` here to be able to override the default hidden behavior on the sphinx rendered scikit-learn.org. See: https://github.com/scikit-learn/scikit-learn/issues/21755 */display: inline-block !important;position: relative;}#sk-container-id-1 div.sk-text-repr-fallback {display: none;}</style><div id=\"sk-container-id-1\" class=\"sk-top-container\"><div class=\"sk-text-repr-fallback\"><pre>OneHotEncoder()</pre><b>In a Jupyter environment, please rerun this cell to show the HTML representation or trust the notebook. <br />On GitHub, the HTML representation is unable to render, please try loading this page with nbviewer.org.</b></div><div class=\"sk-container\" hidden><div class=\"sk-item\"><div class=\"sk-estimator sk-toggleable\"><input class=\"sk-toggleable__control sk-hidden--visually\" id=\"sk-estimator-id-1\" type=\"checkbox\" checked><label for=\"sk-estimator-id-1\" class=\"sk-toggleable__label sk-toggleable__label-arrow\">OneHotEncoder</label><div class=\"sk-toggleable__content\"><pre>OneHotEncoder()</pre></div></div></div></div></div>"
      ],
      "text/plain": [
       "OneHotEncoder()"
      ]
     },
     "execution_count": 10,
     "metadata": {},
     "output_type": "execute_result"
    }
   ],
   "source": [
    "encoder = OneHotEncoder()\n",
    "encoder.fit(array_reshaped)"
   ]
  },
  {
   "cell_type": "code",
   "execution_count": 11,
   "id": "d48b930e",
   "metadata": {
    "execution": {
     "iopub.execute_input": "2025-03-01T18:34:41.212470Z",
     "iopub.status.busy": "2025-03-01T18:34:41.212133Z",
     "iopub.status.idle": "2025-03-01T18:34:41.219130Z",
     "shell.execute_reply": "2025-03-01T18:34:41.218165Z"
    },
    "papermill": {
     "duration": 0.01791,
     "end_time": "2025-03-01T18:34:41.220824",
     "exception": false,
     "start_time": "2025-03-01T18:34:41.202914",
     "status": "completed"
    },
    "tags": []
   },
   "outputs": [],
   "source": [
    "encoded_data = encoder.transform(array_reshaped).toarray()"
   ]
  },
  {
   "cell_type": "code",
   "execution_count": 12,
   "id": "85af448a",
   "metadata": {
    "execution": {
     "iopub.execute_input": "2025-03-01T18:34:41.238391Z",
     "iopub.status.busy": "2025-03-01T18:34:41.238024Z",
     "iopub.status.idle": "2025-03-01T18:34:41.254646Z",
     "shell.execute_reply": "2025-03-01T18:34:41.253359Z"
    },
    "papermill": {
     "duration": 0.027485,
     "end_time": "2025-03-01T18:34:41.256564",
     "exception": false,
     "start_time": "2025-03-01T18:34:41.229079",
     "status": "completed"
    },
    "tags": []
   },
   "outputs": [
    {
     "name": "stdout",
     "output_type": "stream",
     "text": [
      "   feature_name_Alley  feature_name_BldgType  feature_name_BsmtCond  \\\n",
      "0                 0.0                    0.0                    0.0   \n",
      "1                 0.0                    0.0                    0.0   \n",
      "2                 1.0                    0.0                    0.0   \n",
      "3                 0.0                    0.0                    0.0   \n",
      "4                 0.0                    0.0                    0.0   \n",
      "\n",
      "   feature_name_BsmtExposure  feature_name_BsmtFinType1  \\\n",
      "0                        0.0                        0.0   \n",
      "1                        0.0                        0.0   \n",
      "2                        0.0                        0.0   \n",
      "3                        0.0                        0.0   \n",
      "4                        0.0                        0.0   \n",
      "\n",
      "   feature_name_BsmtFinType2  feature_name_BsmtQual  feature_name_CentralAir  \\\n",
      "0                        0.0                    0.0                      0.0   \n",
      "1                        0.0                    0.0                      0.0   \n",
      "2                        0.0                    0.0                      0.0   \n",
      "3                        0.0                    0.0                      0.0   \n",
      "4                        0.0                    0.0                      0.0   \n",
      "\n",
      "   feature_name_Condition1  feature_name_Condition2  ...  \\\n",
      "0                      0.0                      0.0  ...   \n",
      "1                      0.0                      0.0  ...   \n",
      "2                      0.0                      0.0  ...   \n",
      "3                      0.0                      0.0  ...   \n",
      "4                      0.0                      0.0  ...   \n",
      "\n",
      "   feature_name_MiscFeature  feature_name_Neighborhood  \\\n",
      "0                       0.0                        0.0   \n",
      "1                       0.0                        0.0   \n",
      "2                       0.0                        0.0   \n",
      "3                       0.0                        0.0   \n",
      "4                       0.0                        0.0   \n",
      "\n",
      "   feature_name_PavedDrive  feature_name_PoolQC  feature_name_RoofMatl  \\\n",
      "0                      0.0                  0.0                    0.0   \n",
      "1                      0.0                  0.0                    0.0   \n",
      "2                      0.0                  0.0                    0.0   \n",
      "3                      0.0                  0.0                    0.0   \n",
      "4                      0.0                  0.0                    0.0   \n",
      "\n",
      "   feature_name_RoofStyle  feature_name_SaleCondition  feature_name_SaleType  \\\n",
      "0                     0.0                         0.0                    0.0   \n",
      "1                     0.0                         0.0                    0.0   \n",
      "2                     0.0                         0.0                    0.0   \n",
      "3                     0.0                         0.0                    0.0   \n",
      "4                     0.0                         0.0                    0.0   \n",
      "\n",
      "   feature_name_Street  feature_name_Utilities  \n",
      "0                  0.0                     0.0  \n",
      "1                  1.0                     0.0  \n",
      "2                  0.0                     0.0  \n",
      "3                  0.0                     0.0  \n",
      "4                  0.0                     0.0  \n",
      "\n",
      "[5 rows x 43 columns]\n"
     ]
    }
   ],
   "source": [
    "df_encoded = pd.DataFrame(encoded_data, columns=encoder.get_feature_names_out\n",
    "                          (['feature_name']))\n",
    "print(df_encoded.head(5))"
   ]
  },
  {
   "cell_type": "code",
   "execution_count": 13,
   "id": "68cd7e8e",
   "metadata": {
    "execution": {
     "iopub.execute_input": "2025-03-01T18:34:41.274814Z",
     "iopub.status.busy": "2025-03-01T18:34:41.274422Z",
     "iopub.status.idle": "2025-03-01T18:34:41.290647Z",
     "shell.execute_reply": "2025-03-01T18:34:41.289198Z"
    },
    "papermill": {
     "duration": 0.02743,
     "end_time": "2025-03-01T18:34:41.292423",
     "exception": false,
     "start_time": "2025-03-01T18:34:41.264993",
     "status": "completed"
    },
    "tags": []
   },
   "outputs": [
    {
     "name": "stdout",
     "output_type": "stream",
     "text": [
      "   Alley  BldgType  BsmtCond  BsmtExposure  BsmtFinType1  BsmtFinType2  \\\n",
      "0    0.0       0.0       0.0           0.0           0.0           0.0   \n",
      "1    0.0       0.0       0.0           0.0           0.0           0.0   \n",
      "2    1.0       0.0       0.0           0.0           0.0           0.0   \n",
      "3    0.0       0.0       0.0           0.0           0.0           0.0   \n",
      "4    0.0       0.0       0.0           0.0           0.0           0.0   \n",
      "\n",
      "   BsmtQual  CentralAir  Condition1  Condition2  ...  MiscFeature  \\\n",
      "0       0.0         0.0         0.0         0.0  ...          0.0   \n",
      "1       0.0         0.0         0.0         0.0  ...          0.0   \n",
      "2       0.0         0.0         0.0         0.0  ...          0.0   \n",
      "3       0.0         0.0         0.0         0.0  ...          0.0   \n",
      "4       0.0         0.0         0.0         0.0  ...          0.0   \n",
      "\n",
      "   Neighborhood  PavedDrive  PoolQC  RoofMatl  RoofStyle  SaleCondition  \\\n",
      "0           0.0         0.0     0.0       0.0        0.0            0.0   \n",
      "1           0.0         0.0     0.0       0.0        0.0            0.0   \n",
      "2           0.0         0.0     0.0       0.0        0.0            0.0   \n",
      "3           0.0         0.0     0.0       0.0        0.0            0.0   \n",
      "4           0.0         0.0     0.0       0.0        0.0            0.0   \n",
      "\n",
      "   SaleType  Street  Utilities  \n",
      "0       0.0     0.0        0.0  \n",
      "1       0.0     1.0        0.0  \n",
      "2       0.0     0.0        0.0  \n",
      "3       0.0     0.0        0.0  \n",
      "4       0.0     0.0        0.0  \n",
      "\n",
      "[5 rows x 43 columns]\n"
     ]
    }
   ],
   "source": [
    "# Remove the prefix 'feature_name_' from the column names\n",
    "df_encoded.columns = df_encoded.columns.str.replace('feature_name_', '')\n",
    "\n",
    "# Display the updated DataFrame\n",
    "print(df_encoded.head())"
   ]
  },
  {
   "cell_type": "code",
   "execution_count": 14,
   "id": "de582d1b",
   "metadata": {
    "execution": {
     "iopub.execute_input": "2025-03-01T18:34:41.310880Z",
     "iopub.status.busy": "2025-03-01T18:34:41.310524Z",
     "iopub.status.idle": "2025-03-01T18:34:41.317358Z",
     "shell.execute_reply": "2025-03-01T18:34:41.316041Z"
    },
    "papermill": {
     "duration": 0.018155,
     "end_time": "2025-03-01T18:34:41.319140",
     "exception": false,
     "start_time": "2025-03-01T18:34:41.300985",
     "status": "completed"
    },
    "tags": []
   },
   "outputs": [
    {
     "name": "stdout",
     "output_type": "stream",
     "text": [
      "Alley            0\n",
      "BldgType         0\n",
      "BsmtCond         0\n",
      "BsmtExposure     0\n",
      "BsmtFinType1     0\n",
      "BsmtFinType2     0\n",
      "BsmtQual         0\n",
      "CentralAir       0\n",
      "Condition1       0\n",
      "Condition2       0\n",
      "Electrical       0\n",
      "ExterCond        0\n",
      "ExterQual        0\n",
      "Exterior1st      0\n",
      "Exterior2nd      0\n",
      "Fence            0\n",
      "FireplaceQu      0\n",
      "Foundation       0\n",
      "Functional       0\n",
      "GarageCond       0\n",
      "GarageFinish     0\n",
      "GarageQual       0\n",
      "GarageType       0\n",
      "Heating          0\n",
      "HeatingQC        0\n",
      "HouseStyle       0\n",
      "KitchenQual      0\n",
      "LandContour      0\n",
      "LandSlope        0\n",
      "LotConfig        0\n",
      "LotShape         0\n",
      "MSZoning         0\n",
      "MasVnrType       0\n",
      "MiscFeature      0\n",
      "Neighborhood     0\n",
      "PavedDrive       0\n",
      "PoolQC           0\n",
      "RoofMatl         0\n",
      "RoofStyle        0\n",
      "SaleCondition    0\n",
      "SaleType         0\n",
      "Street           0\n",
      "Utilities        0\n",
      "dtype: int64\n"
     ]
    }
   ],
   "source": [
    "print(df_encoded.isna().sum())\n",
    "# no missing value from the df_encoded"
   ]
  },
  {
   "cell_type": "code",
   "execution_count": 15,
   "id": "f526c853",
   "metadata": {
    "execution": {
     "iopub.execute_input": "2025-03-01T18:34:41.338045Z",
     "iopub.status.busy": "2025-03-01T18:34:41.337699Z",
     "iopub.status.idle": "2025-03-01T18:34:41.350502Z",
     "shell.execute_reply": "2025-03-01T18:34:41.349327Z"
    },
    "papermill": {
     "duration": 0.024177,
     "end_time": "2025-03-01T18:34:41.352241",
     "exception": false,
     "start_time": "2025-03-01T18:34:41.328064",
     "status": "completed"
    },
    "tags": []
   },
   "outputs": [
    {
     "name": "stdout",
     "output_type": "stream",
     "text": [
      "0\n"
     ]
    }
   ],
   "source": [
    "print(df_encoded.duplicated().sum())\n",
    "#no duplication"
   ]
  },
  {
   "cell_type": "code",
   "execution_count": 16,
   "id": "6a35208b",
   "metadata": {
    "execution": {
     "iopub.execute_input": "2025-03-01T18:34:41.370916Z",
     "iopub.status.busy": "2025-03-01T18:34:41.370559Z",
     "iopub.status.idle": "2025-03-01T18:34:41.383912Z",
     "shell.execute_reply": "2025-03-01T18:34:41.382729Z"
    },
    "papermill": {
     "duration": 0.024805,
     "end_time": "2025-03-01T18:34:41.385581",
     "exception": false,
     "start_time": "2025-03-01T18:34:41.360776",
     "status": "completed"
    },
    "tags": []
   },
   "outputs": [
    {
     "name": "stdout",
     "output_type": "stream",
     "text": [
      "   Id  MSSubClass  LotFrontage  LotArea  OverallQual  OverallCond  YearBuilt  \\\n",
      "0   1          60         65.0     8450            7            5       2003   \n",
      "1   2          20         80.0     9600            6            8       1976   \n",
      "2   3          60         68.0    11250            7            5       2001   \n",
      "3   4          70         60.0     9550            7            5       1915   \n",
      "4   5          60         84.0    14260            8            5       2000   \n",
      "\n",
      "   YearRemodAdd  MasVnrArea  BsmtFinSF1  ...  WoodDeckSF  OpenPorchSF  \\\n",
      "0          2003       196.0         706  ...           0           61   \n",
      "1          1976         0.0         978  ...         298            0   \n",
      "2          2002       162.0         486  ...           0           42   \n",
      "3          1970         0.0         216  ...           0           35   \n",
      "4          2000       350.0         655  ...         192           84   \n",
      "\n",
      "   EnclosedPorch  3SsnPorch  ScreenPorch  PoolArea  MiscVal  MoSold  YrSold  \\\n",
      "0              0          0            0         0        0       2    2008   \n",
      "1              0          0            0         0        0       5    2007   \n",
      "2              0          0            0         0        0       9    2008   \n",
      "3            272          0            0         0        0       2    2006   \n",
      "4              0          0            0         0        0      12    2008   \n",
      "\n",
      "   SalePrice  \n",
      "0     208500  \n",
      "1     181500  \n",
      "2     223500  \n",
      "3     140000  \n",
      "4     250000  \n",
      "\n",
      "[5 rows x 38 columns]\n"
     ]
    }
   ],
   "source": [
    "# Extract numerical columns from train_data\n",
    "numericals = train_data.select_dtypes(include=['int', 'float']).columns\n",
    "numerical_columns = train_data[numericals]\n",
    "print(numerical_columns.head(5))"
   ]
  },
  {
   "cell_type": "code",
   "execution_count": 17,
   "id": "153eece3",
   "metadata": {
    "execution": {
     "iopub.execute_input": "2025-03-01T18:34:41.404674Z",
     "iopub.status.busy": "2025-03-01T18:34:41.404286Z",
     "iopub.status.idle": "2025-03-01T18:34:41.413121Z",
     "shell.execute_reply": "2025-03-01T18:34:41.411535Z"
    },
    "papermill": {
     "duration": 0.020078,
     "end_time": "2025-03-01T18:34:41.414859",
     "exception": false,
     "start_time": "2025-03-01T18:34:41.394781",
     "status": "completed"
    },
    "tags": []
   },
   "outputs": [
    {
     "name": "stdout",
     "output_type": "stream",
     "text": [
      "Id                 0\n",
      "MSSubClass         0\n",
      "LotFrontage      259\n",
      "LotArea            0\n",
      "OverallQual        0\n",
      "OverallCond        0\n",
      "YearBuilt          0\n",
      "YearRemodAdd       0\n",
      "MasVnrArea         8\n",
      "BsmtFinSF1         0\n",
      "BsmtFinSF2         0\n",
      "BsmtUnfSF          0\n",
      "TotalBsmtSF        0\n",
      "1stFlrSF           0\n",
      "2ndFlrSF           0\n",
      "LowQualFinSF       0\n",
      "GrLivArea          0\n",
      "BsmtFullBath       0\n",
      "BsmtHalfBath       0\n",
      "FullBath           0\n",
      "HalfBath           0\n",
      "BedroomAbvGr       0\n",
      "KitchenAbvGr       0\n",
      "TotRmsAbvGrd       0\n",
      "Fireplaces         0\n",
      "GarageYrBlt       81\n",
      "GarageCars         0\n",
      "GarageArea         0\n",
      "WoodDeckSF         0\n",
      "OpenPorchSF        0\n",
      "EnclosedPorch      0\n",
      "3SsnPorch          0\n",
      "ScreenPorch        0\n",
      "PoolArea           0\n",
      "MiscVal            0\n",
      "MoSold             0\n",
      "YrSold             0\n",
      "SalePrice          0\n",
      "dtype: int64\n"
     ]
    }
   ],
   "source": [
    "print(numerical_columns.isna().sum())"
   ]
  },
  {
   "cell_type": "code",
   "execution_count": 18,
   "id": "f1a75c3f",
   "metadata": {
    "execution": {
     "iopub.execute_input": "2025-03-01T18:34:41.433672Z",
     "iopub.status.busy": "2025-03-01T18:34:41.433345Z",
     "iopub.status.idle": "2025-03-01T18:34:41.440575Z",
     "shell.execute_reply": "2025-03-01T18:34:41.439219Z"
    },
    "papermill": {
     "duration": 0.018398,
     "end_time": "2025-03-01T18:34:41.442243",
     "exception": false,
     "start_time": "2025-03-01T18:34:41.423845",
     "status": "completed"
    },
    "tags": []
   },
   "outputs": [
    {
     "name": "stdout",
     "output_type": "stream",
     "text": [
      "Id               0\n",
      "MSSubClass       0\n",
      "LotFrontage      0\n",
      "LotArea          0\n",
      "OverallQual      0\n",
      "OverallCond      0\n",
      "YearBuilt        0\n",
      "YearRemodAdd     0\n",
      "MasVnrArea       0\n",
      "BsmtFinSF1       0\n",
      "BsmtFinSF2       0\n",
      "BsmtUnfSF        0\n",
      "TotalBsmtSF      0\n",
      "1stFlrSF         0\n",
      "2ndFlrSF         0\n",
      "LowQualFinSF     0\n",
      "GrLivArea        0\n",
      "BsmtFullBath     0\n",
      "BsmtHalfBath     0\n",
      "FullBath         0\n",
      "HalfBath         0\n",
      "BedroomAbvGr     0\n",
      "KitchenAbvGr     0\n",
      "TotRmsAbvGrd     0\n",
      "Fireplaces       0\n",
      "GarageYrBlt      0\n",
      "GarageCars       0\n",
      "GarageArea       0\n",
      "WoodDeckSF       0\n",
      "OpenPorchSF      0\n",
      "EnclosedPorch    0\n",
      "3SsnPorch        0\n",
      "ScreenPorch      0\n",
      "PoolArea         0\n",
      "MiscVal          0\n",
      "MoSold           0\n",
      "YrSold           0\n",
      "SalePrice        0\n",
      "dtype: int64\n"
     ]
    }
   ],
   "source": [
    "numerical_columns = numerical_columns.fillna(0)\n",
    "print(numerical_columns.isna().sum())"
   ]
  },
  {
   "cell_type": "code",
   "execution_count": 19,
   "id": "d89935ba",
   "metadata": {
    "execution": {
     "iopub.execute_input": "2025-03-01T18:34:41.461181Z",
     "iopub.status.busy": "2025-03-01T18:34:41.460805Z",
     "iopub.status.idle": "2025-03-01T18:34:41.476291Z",
     "shell.execute_reply": "2025-03-01T18:34:41.474768Z"
    },
    "papermill": {
     "duration": 0.027146,
     "end_time": "2025-03-01T18:34:41.478024",
     "exception": false,
     "start_time": "2025-03-01T18:34:41.450878",
     "status": "completed"
    },
    "tags": []
   },
   "outputs": [
    {
     "name": "stdout",
     "output_type": "stream",
     "text": [
      "   Id  MSSubClass  LotFrontage  LotArea  OverallQual  OverallCond  YearBuilt  \\\n",
      "0   1          60         65.0     8450            7            5       2003   \n",
      "1   2          20         80.0     9600            6            8       1976   \n",
      "2   3          60         68.0    11250            7            5       2001   \n",
      "3   4          70         60.0     9550            7            5       1915   \n",
      "4   5          60         84.0    14260            8            5       2000   \n",
      "\n",
      "   YearRemodAdd  MasVnrArea  BsmtFinSF1  ...  MiscFeature  Neighborhood  \\\n",
      "0          2003       196.0         706  ...          0.0           0.0   \n",
      "1          1976         0.0         978  ...          0.0           0.0   \n",
      "2          2002       162.0         486  ...          0.0           0.0   \n",
      "3          1970         0.0         216  ...          0.0           0.0   \n",
      "4          2000       350.0         655  ...          0.0           0.0   \n",
      "\n",
      "   PavedDrive  PoolQC  RoofMatl  RoofStyle  SaleCondition  SaleType  Street  \\\n",
      "0         0.0     0.0       0.0        0.0            0.0       0.0     0.0   \n",
      "1         0.0     0.0       0.0        0.0            0.0       0.0     1.0   \n",
      "2         0.0     0.0       0.0        0.0            0.0       0.0     0.0   \n",
      "3         0.0     0.0       0.0        0.0            0.0       0.0     0.0   \n",
      "4         0.0     0.0       0.0        0.0            0.0       0.0     0.0   \n",
      "\n",
      "   Utilities  \n",
      "0        0.0  \n",
      "1        0.0  \n",
      "2        0.0  \n",
      "3        0.0  \n",
      "4        0.0  \n",
      "\n",
      "[5 rows x 81 columns]\n"
     ]
    }
   ],
   "source": [
    "# Concatenate numerical_columns and df_encoded\n",
    "result = pd.concat([numerical_columns, df_encoded], axis=1)\n",
    "print(result.head(5))"
   ]
  },
  {
   "cell_type": "code",
   "execution_count": 20,
   "id": "e47f8536",
   "metadata": {
    "execution": {
     "iopub.execute_input": "2025-03-01T18:34:41.497702Z",
     "iopub.status.busy": "2025-03-01T18:34:41.497265Z",
     "iopub.status.idle": "2025-03-01T18:34:41.519231Z",
     "shell.execute_reply": "2025-03-01T18:34:41.517922Z"
    },
    "papermill": {
     "duration": 0.033767,
     "end_time": "2025-03-01T18:34:41.521130",
     "exception": false,
     "start_time": "2025-03-01T18:34:41.487363",
     "status": "completed"
    },
    "tags": []
   },
   "outputs": [
    {
     "name": "stdout",
     "output_type": "stream",
     "text": [
      "        Id  MSSubClass  LotFrontage  LotArea  OverallQual  OverallCond  \\\n",
      "0        1          60         65.0     8450            7            5   \n",
      "1        2          20         80.0     9600            6            8   \n",
      "2        3          60         68.0    11250            7            5   \n",
      "3        4          70         60.0     9550            7            5   \n",
      "4        5          60         84.0    14260            8            5   \n",
      "...    ...         ...          ...      ...          ...          ...   \n",
      "1455  1456          60         62.0     7917            6            5   \n",
      "1456  1457          20         85.0    13175            6            6   \n",
      "1457  1458          70         66.0     9042            7            9   \n",
      "1458  1459          20         68.0     9717            5            6   \n",
      "1459  1460          20         75.0     9937            5            6   \n",
      "\n",
      "      YearBuilt  YearRemodAdd  MasVnrArea  BsmtFinSF1  ...  MiscFeature  \\\n",
      "0          2003          2003       196.0         706  ...          0.0   \n",
      "1          1976          1976         0.0         978  ...          0.0   \n",
      "2          2001          2002       162.0         486  ...          0.0   \n",
      "3          1915          1970         0.0         216  ...          0.0   \n",
      "4          2000          2000       350.0         655  ...          0.0   \n",
      "...         ...           ...         ...         ...  ...          ...   \n",
      "1455       1999          2000         0.0           0  ...          0.0   \n",
      "1456       1978          1988       119.0         790  ...          0.0   \n",
      "1457       1941          2006         0.0         275  ...          0.0   \n",
      "1458       1950          1996         0.0          49  ...          0.0   \n",
      "1459       1965          1965         0.0         830  ...          0.0   \n",
      "\n",
      "      Neighborhood  PavedDrive  PoolQC  RoofMatl  RoofStyle  SaleCondition  \\\n",
      "0              0.0         0.0     0.0       0.0        0.0            0.0   \n",
      "1              0.0         0.0     0.0       0.0        0.0            0.0   \n",
      "2              0.0         0.0     0.0       0.0        0.0            0.0   \n",
      "3              0.0         0.0     0.0       0.0        0.0            0.0   \n",
      "4              0.0         0.0     0.0       0.0        0.0            0.0   \n",
      "...            ...         ...     ...       ...        ...            ...   \n",
      "1455           0.0         0.0     0.0       0.0        0.0            0.0   \n",
      "1456           0.0         0.0     0.0       0.0        0.0            0.0   \n",
      "1457           0.0         0.0     0.0       0.0        0.0            0.0   \n",
      "1458           0.0         0.0     0.0       0.0        0.0            0.0   \n",
      "1459           0.0         0.0     0.0       0.0        0.0            0.0   \n",
      "\n",
      "      SaleType  Street  Utilities  \n",
      "0          0.0     0.0        0.0  \n",
      "1          0.0     1.0        0.0  \n",
      "2          0.0     0.0        0.0  \n",
      "3          0.0     0.0        0.0  \n",
      "4          0.0     0.0        0.0  \n",
      "...        ...     ...        ...  \n",
      "1455       0.0     0.0        0.0  \n",
      "1456       0.0     0.0        0.0  \n",
      "1457       0.0     0.0        0.0  \n",
      "1458       0.0     0.0        0.0  \n",
      "1459       0.0     0.0        0.0  \n",
      "\n",
      "[1460 rows x 81 columns]\n"
     ]
    }
   ],
   "source": [
    "result = result.replace([np.inf, -np.inf], np.nan).fillna(0)  # Replace inf with NaN and then fill NaN with 0\n",
    "print(result)\n"
   ]
  },
  {
   "cell_type": "code",
   "execution_count": 21,
   "id": "e8deb3da",
   "metadata": {
    "execution": {
     "iopub.execute_input": "2025-03-01T18:34:41.540317Z",
     "iopub.status.busy": "2025-03-01T18:34:41.539902Z",
     "iopub.status.idle": "2025-03-01T18:34:41.556656Z",
     "shell.execute_reply": "2025-03-01T18:34:41.555292Z"
    },
    "papermill": {
     "duration": 0.028247,
     "end_time": "2025-03-01T18:34:41.558420",
     "exception": false,
     "start_time": "2025-03-01T18:34:41.530173",
     "status": "completed"
    },
    "tags": []
   },
   "outputs": [
    {
     "name": "stdout",
     "output_type": "stream",
     "text": [
      "   Id  MSSubClass  LotFrontage  LotArea  OverallQual  OverallCond  YearBuilt  \\\n",
      "0   1          60         65.0     8450            7            5       2003   \n",
      "1   2          20         80.0     9600            6            8       1976   \n",
      "2   3          60         68.0    11250            7            5       2001   \n",
      "3   4          70         60.0     9550            7            5       1915   \n",
      "4   5          60         84.0    14260            8            5       2000   \n",
      "\n",
      "   YearRemodAdd  MasVnrArea  BsmtFinSF1  ...  MiscFeature  Neighborhood  \\\n",
      "0          2003       196.0         706  ...          0.0           0.0   \n",
      "1          1976         0.0         978  ...          0.0           0.0   \n",
      "2          2002       162.0         486  ...          0.0           0.0   \n",
      "3          1970         0.0         216  ...          0.0           0.0   \n",
      "4          2000       350.0         655  ...          0.0           0.0   \n",
      "\n",
      "   PavedDrive  PoolQC  RoofMatl  RoofStyle  SaleCondition  SaleType  Street  \\\n",
      "0         0.0     0.0       0.0        0.0            0.0       0.0     0.0   \n",
      "1         0.0     0.0       0.0        0.0            0.0       0.0     1.0   \n",
      "2         0.0     0.0       0.0        0.0            0.0       0.0     0.0   \n",
      "3         0.0     0.0       0.0        0.0            0.0       0.0     0.0   \n",
      "4         0.0     0.0       0.0        0.0            0.0       0.0     0.0   \n",
      "\n",
      "   Utilities  \n",
      "0        0.0  \n",
      "1        0.0  \n",
      "2        0.0  \n",
      "3        0.0  \n",
      "4        0.0  \n",
      "\n",
      "[5 rows x 81 columns]\n"
     ]
    }
   ],
   "source": [
    "# Check for any remaining invalid values\n",
    "if result.isnull().any().any() or np.isinf(result.select_dtypes(include=[np.number])).any().any():\n",
    "    print(\"Warning: There are still missing or infinite values in the DataFrame.\")\n",
    "\n",
    "print(result.head())"
   ]
  },
  {
   "cell_type": "code",
   "execution_count": 22,
   "id": "322678c2",
   "metadata": {
    "execution": {
     "iopub.execute_input": "2025-03-01T18:34:41.578130Z",
     "iopub.status.busy": "2025-03-01T18:34:41.577741Z",
     "iopub.status.idle": "2025-03-01T18:34:41.585753Z",
     "shell.execute_reply": "2025-03-01T18:34:41.584351Z"
    },
    "papermill": {
     "duration": 0.020285,
     "end_time": "2025-03-01T18:34:41.587790",
     "exception": false,
     "start_time": "2025-03-01T18:34:41.567505",
     "status": "completed"
    },
    "tags": []
   },
   "outputs": [
    {
     "name": "stdout",
     "output_type": "stream",
     "text": [
      "Id               0\n",
      "MSSubClass       0\n",
      "LotFrontage      0\n",
      "LotArea          0\n",
      "OverallQual      0\n",
      "                ..\n",
      "RoofStyle        0\n",
      "SaleCondition    0\n",
      "SaleType         0\n",
      "Street           0\n",
      "Utilities        0\n",
      "Length: 81, dtype: int64\n"
     ]
    }
   ],
   "source": [
    "print(result.isna().sum())"
   ]
  },
  {
   "cell_type": "code",
   "execution_count": 23,
   "id": "7e7e03d1",
   "metadata": {
    "execution": {
     "iopub.execute_input": "2025-03-01T18:34:41.608988Z",
     "iopub.status.busy": "2025-03-01T18:34:41.608529Z",
     "iopub.status.idle": "2025-03-01T18:34:41.642806Z",
     "shell.execute_reply": "2025-03-01T18:34:41.641469Z"
    },
    "papermill": {
     "duration": 0.046632,
     "end_time": "2025-03-01T18:34:41.644744",
     "exception": false,
     "start_time": "2025-03-01T18:34:41.598112",
     "status": "completed"
    },
    "tags": []
   },
   "outputs": [],
   "source": [
    "correlation_matrix = result.corr()"
   ]
  },
  {
   "cell_type": "code",
   "execution_count": 24,
   "id": "779163ab",
   "metadata": {
    "execution": {
     "iopub.execute_input": "2025-03-01T18:34:41.664487Z",
     "iopub.status.busy": "2025-03-01T18:34:41.664116Z",
     "iopub.status.idle": "2025-03-01T18:34:41.671243Z",
     "shell.execute_reply": "2025-03-01T18:34:41.670026Z"
    },
    "papermill": {
     "duration": 0.018944,
     "end_time": "2025-03-01T18:34:41.672889",
     "exception": false,
     "start_time": "2025-03-01T18:34:41.653945",
     "status": "completed"
    },
    "tags": []
   },
   "outputs": [
    {
     "name": "stdout",
     "output_type": "stream",
     "text": [
      "OverallQual     0.790982\n",
      "YearBuilt       0.522897\n",
      "YearRemodAdd    0.507101\n",
      "MasVnrArea      0.472614\n",
      "BsmtFinSF1      0.386420\n",
      "TotalBsmtSF     0.613581\n",
      "1stFlrSF        0.605852\n",
      "2ndFlrSF        0.319334\n",
      "GrLivArea       0.708624\n",
      "FullBath        0.560664\n",
      "TotRmsAbvGrd    0.533723\n",
      "Fireplaces      0.466929\n",
      "GarageCars      0.640409\n",
      "GarageArea      0.623431\n",
      "WoodDeckSF      0.324413\n",
      "OpenPorchSF     0.315856\n",
      "SalePrice       1.000000\n",
      "Name: SalePrice, dtype: float64\n"
     ]
    }
   ],
   "source": [
    "high_corr_values = correlation_matrix.loc[correlation_matrix['SalePrice'] >= 0.3, 'SalePrice']\n",
    "print(high_corr_values)"
   ]
  },
  {
   "cell_type": "code",
   "execution_count": 25,
   "id": "2521efa7",
   "metadata": {
    "execution": {
     "iopub.execute_input": "2025-03-01T18:34:41.692850Z",
     "iopub.status.busy": "2025-03-01T18:34:41.692453Z",
     "iopub.status.idle": "2025-03-01T18:34:41.698309Z",
     "shell.execute_reply": "2025-03-01T18:34:41.697227Z"
    },
    "papermill": {
     "duration": 0.017736,
     "end_time": "2025-03-01T18:34:41.699946",
     "exception": false,
     "start_time": "2025-03-01T18:34:41.682210",
     "status": "completed"
    },
    "tags": []
   },
   "outputs": [],
   "source": [
    "X = result.drop('SalePrice', axis = 1)\n",
    "y = result['SalePrice']"
   ]
  },
  {
   "cell_type": "code",
   "execution_count": 26,
   "id": "25921e34",
   "metadata": {
    "execution": {
     "iopub.execute_input": "2025-03-01T18:34:41.719432Z",
     "iopub.status.busy": "2025-03-01T18:34:41.719095Z",
     "iopub.status.idle": "2025-03-01T18:34:41.735621Z",
     "shell.execute_reply": "2025-03-01T18:34:41.734103Z"
    },
    "papermill": {
     "duration": 0.028325,
     "end_time": "2025-03-01T18:34:41.737413",
     "exception": false,
     "start_time": "2025-03-01T18:34:41.709088",
     "status": "completed"
    },
    "tags": []
   },
   "outputs": [
    {
     "name": "stdout",
     "output_type": "stream",
     "text": [
      "        Id  MSSubClass  LotFrontage  LotArea  OverallQual  OverallCond  \\\n",
      "0        1          60         65.0     8450            7            5   \n",
      "1        2          20         80.0     9600            6            8   \n",
      "2        3          60         68.0    11250            7            5   \n",
      "3        4          70         60.0     9550            7            5   \n",
      "4        5          60         84.0    14260            8            5   \n",
      "...    ...         ...          ...      ...          ...          ...   \n",
      "1455  1456          60         62.0     7917            6            5   \n",
      "1456  1457          20         85.0    13175            6            6   \n",
      "1457  1458          70         66.0     9042            7            9   \n",
      "1458  1459          20         68.0     9717            5            6   \n",
      "1459  1460          20         75.0     9937            5            6   \n",
      "\n",
      "      YearBuilt  YearRemodAdd  MasVnrArea  BsmtFinSF1  ...  MiscFeature  \\\n",
      "0          2003          2003       196.0         706  ...          0.0   \n",
      "1          1976          1976         0.0         978  ...          0.0   \n",
      "2          2001          2002       162.0         486  ...          0.0   \n",
      "3          1915          1970         0.0         216  ...          0.0   \n",
      "4          2000          2000       350.0         655  ...          0.0   \n",
      "...         ...           ...         ...         ...  ...          ...   \n",
      "1455       1999          2000         0.0           0  ...          0.0   \n",
      "1456       1978          1988       119.0         790  ...          0.0   \n",
      "1457       1941          2006         0.0         275  ...          0.0   \n",
      "1458       1950          1996         0.0          49  ...          0.0   \n",
      "1459       1965          1965         0.0         830  ...          0.0   \n",
      "\n",
      "      Neighborhood  PavedDrive  PoolQC  RoofMatl  RoofStyle  SaleCondition  \\\n",
      "0              0.0         0.0     0.0       0.0        0.0            0.0   \n",
      "1              0.0         0.0     0.0       0.0        0.0            0.0   \n",
      "2              0.0         0.0     0.0       0.0        0.0            0.0   \n",
      "3              0.0         0.0     0.0       0.0        0.0            0.0   \n",
      "4              0.0         0.0     0.0       0.0        0.0            0.0   \n",
      "...            ...         ...     ...       ...        ...            ...   \n",
      "1455           0.0         0.0     0.0       0.0        0.0            0.0   \n",
      "1456           0.0         0.0     0.0       0.0        0.0            0.0   \n",
      "1457           0.0         0.0     0.0       0.0        0.0            0.0   \n",
      "1458           0.0         0.0     0.0       0.0        0.0            0.0   \n",
      "1459           0.0         0.0     0.0       0.0        0.0            0.0   \n",
      "\n",
      "      SaleType  Street  Utilities  \n",
      "0          0.0     0.0        0.0  \n",
      "1          0.0     1.0        0.0  \n",
      "2          0.0     0.0        0.0  \n",
      "3          0.0     0.0        0.0  \n",
      "4          0.0     0.0        0.0  \n",
      "...        ...     ...        ...  \n",
      "1455       0.0     0.0        0.0  \n",
      "1456       0.0     0.0        0.0  \n",
      "1457       0.0     0.0        0.0  \n",
      "1458       0.0     0.0        0.0  \n",
      "1459       0.0     0.0        0.0  \n",
      "\n",
      "[1460 rows x 80 columns]\n"
     ]
    }
   ],
   "source": [
    "print(X)"
   ]
  },
  {
   "cell_type": "code",
   "execution_count": 27,
   "id": "1c7bab0f",
   "metadata": {
    "execution": {
     "iopub.execute_input": "2025-03-01T18:34:41.758615Z",
     "iopub.status.busy": "2025-03-01T18:34:41.758247Z",
     "iopub.status.idle": "2025-03-01T18:34:41.764292Z",
     "shell.execute_reply": "2025-03-01T18:34:41.763139Z"
    },
    "papermill": {
     "duration": 0.018166,
     "end_time": "2025-03-01T18:34:41.765992",
     "exception": false,
     "start_time": "2025-03-01T18:34:41.747826",
     "status": "completed"
    },
    "tags": []
   },
   "outputs": [
    {
     "name": "stdout",
     "output_type": "stream",
     "text": [
      "0       208500\n",
      "1       181500\n",
      "2       223500\n",
      "3       140000\n",
      "4       250000\n",
      "         ...  \n",
      "1455    175000\n",
      "1456    210000\n",
      "1457    266500\n",
      "1458    142125\n",
      "1459    147500\n",
      "Name: SalePrice, Length: 1460, dtype: int64\n"
     ]
    }
   ],
   "source": [
    "print(y)"
   ]
  },
  {
   "cell_type": "code",
   "execution_count": 28,
   "id": "8391b3a9",
   "metadata": {
    "execution": {
     "iopub.execute_input": "2025-03-01T18:34:41.786143Z",
     "iopub.status.busy": "2025-03-01T18:34:41.785723Z",
     "iopub.status.idle": "2025-03-01T18:34:41.790480Z",
     "shell.execute_reply": "2025-03-01T18:34:41.789015Z"
    },
    "papermill": {
     "duration": 0.016681,
     "end_time": "2025-03-01T18:34:41.792221",
     "exception": false,
     "start_time": "2025-03-01T18:34:41.775540",
     "status": "completed"
    },
    "tags": []
   },
   "outputs": [],
   "source": [
    "from sklearn.decomposition import PCA\n",
    "from sklearn.preprocessing import StandardScaler"
   ]
  },
  {
   "cell_type": "code",
   "execution_count": 29,
   "id": "e6b30479",
   "metadata": {
    "execution": {
     "iopub.execute_input": "2025-03-01T18:34:41.812307Z",
     "iopub.status.busy": "2025-03-01T18:34:41.811860Z",
     "iopub.status.idle": "2025-03-01T18:34:41.839359Z",
     "shell.execute_reply": "2025-03-01T18:34:41.838289Z"
    },
    "papermill": {
     "duration": 0.039855,
     "end_time": "2025-03-01T18:34:41.841322",
     "exception": false,
     "start_time": "2025-03-01T18:34:41.801467",
     "status": "completed"
    },
    "tags": []
   },
   "outputs": [],
   "source": [
    "scaler = StandardScaler()\n",
    "X_scaled = scaler.fit_transform(X)"
   ]
  },
  {
   "cell_type": "code",
   "execution_count": 30,
   "id": "bb61e522",
   "metadata": {
    "execution": {
     "iopub.execute_input": "2025-03-01T18:34:41.873007Z",
     "iopub.status.busy": "2025-03-01T18:34:41.872590Z",
     "iopub.status.idle": "2025-03-01T18:34:41.942761Z",
     "shell.execute_reply": "2025-03-01T18:34:41.941776Z"
    },
    "papermill": {
     "duration": 0.085587,
     "end_time": "2025-03-01T18:34:41.944608",
     "exception": false,
     "start_time": "2025-03-01T18:34:41.859021",
     "status": "completed"
    },
    "tags": []
   },
   "outputs": [],
   "source": [
    "pca = PCA()  # By default, PCA keeps all components\n",
    "X_pca = pca.fit_transform(X_scaled)"
   ]
  },
  {
   "cell_type": "code",
   "execution_count": 31,
   "id": "a85a7d23",
   "metadata": {
    "execution": {
     "iopub.execute_input": "2025-03-01T18:34:41.964917Z",
     "iopub.status.busy": "2025-03-01T18:34:41.964539Z",
     "iopub.status.idle": "2025-03-01T18:34:42.289798Z",
     "shell.execute_reply": "2025-03-01T18:34:42.288757Z"
    },
    "papermill": {
     "duration": 0.337433,
     "end_time": "2025-03-01T18:34:42.291722",
     "exception": false,
     "start_time": "2025-03-01T18:34:41.954289",
     "status": "completed"
    },
    "tags": []
   },
   "outputs": [
    {
     "name": "stdout",
     "output_type": "stream",
     "text": [
      "Explained Variance Ratio: [8.59115231e-02 4.02570609e-02 2.78596348e-02 2.62749010e-02\n",
      " 2.02209056e-02 1.71901334e-02 1.68707005e-02 1.64892897e-02\n",
      " 1.63150946e-02 1.59475991e-02 1.53706344e-02 1.49210584e-02\n",
      " 1.46949618e-02 1.42177109e-02 1.38444432e-02 1.35229391e-02\n",
      " 1.34665694e-02 1.31175579e-02 1.30378879e-02 1.30002778e-02\n",
      " 1.28670839e-02 1.27323870e-02 1.27175656e-02 1.26322991e-02\n",
      " 1.26229894e-02 1.25867570e-02 1.25617016e-02 1.25519519e-02\n",
      " 1.25386648e-02 1.25336505e-02 1.25224356e-02 1.25186624e-02\n",
      " 1.25159685e-02 1.25125143e-02 1.25085675e-02 1.25085675e-02\n",
      " 1.25085675e-02 1.25085675e-02 1.25085675e-02 1.25085675e-02\n",
      " 1.25085675e-02 1.25085675e-02 1.25085675e-02 1.25085252e-02\n",
      " 1.24383890e-02 1.23228846e-02 1.22406282e-02 1.21308683e-02\n",
      " 1.20788954e-02 1.19682261e-02 1.18091543e-02 1.15392497e-02\n",
      " 1.14510038e-02 1.12265833e-02 1.09830742e-02 1.07735429e-02\n",
      " 1.04484929e-02 9.98993208e-03 9.72808483e-03 9.45214211e-03\n",
      " 9.10456827e-03 8.92198818e-03 8.81919007e-03 8.28651649e-03\n",
      " 7.95248971e-03 7.46336468e-03 7.01528044e-03 6.63995787e-03\n",
      " 5.53761527e-03 4.63147231e-03 4.14909682e-03 3.49871189e-03\n",
      " 3.29705362e-03 3.09160232e-03 2.33060231e-03 1.83607537e-03\n",
      " 1.61042381e-03 1.20169100e-03 1.69424052e-32 2.46203221e-34]\n",
      "Cumulative Explained Variance: [0.08591152 0.12616858 0.15402822 0.18030312 0.20052403 0.21771416\n",
      " 0.23458486 0.25107415 0.26738924 0.28333684 0.29870748 0.31362854\n",
      " 0.3283235  0.34254121 0.35638565 0.36990859 0.38337516 0.39649272\n",
      " 0.40953061 0.42253088 0.43539797 0.44813035 0.46084792 0.47348022\n",
      " 0.48610321 0.49868997 0.51125167 0.52380362 0.53634228 0.54887593\n",
      " 0.56139837 0.57391703 0.586433   0.59894552 0.61145408 0.62396265\n",
      " 0.63647122 0.64897979 0.66148835 0.67399692 0.68650549 0.69901406\n",
      " 0.71152262 0.72403115 0.73646954 0.74879242 0.76103305 0.77316392\n",
      " 0.78524281 0.79721104 0.80902019 0.82055944 0.83201045 0.84323703\n",
      " 0.8542201  0.86499365 0.87544214 0.88543207 0.89516016 0.9046123\n",
      " 0.91371687 0.92263886 0.93145805 0.93974456 0.94769705 0.95516042\n",
      " 0.9621757  0.96881566 0.97435327 0.97898474 0.98313384 0.98663255\n",
      " 0.98992961 0.99302121 0.99535181 0.99718789 0.99879831 1.\n",
      " 1.         1.        ]\n"
     ]
    },
    {
     "data": {
      "image/png": "[encoded data removed]",
      "text/plain": [
       "<Figure size 800x500 with 1 Axes>"
      ]
     },
     "metadata": {},
     "output_type": "display_data"
    }
   ],
   "source": [
    "# Explained variance ratio\n",
    "explained_variance = pca.explained_variance_ratio_\n",
    "print(\"Explained Variance Ratio:\", explained_variance)\n",
    "\n",
    "# Cumulative explained variance\n",
    "cumulative_explained_variance = np.cumsum(explained_variance)\n",
    "print(\"Cumulative Explained Variance:\", cumulative_explained_variance)\n",
    "\n",
    "# Plot explained variance\n",
    "plt.figure(figsize=(8, 5))\n",
    "plt.plot(range(1, len(cumulative_explained_variance) + 1), cumulative_explained_variance, marker='o')\n",
    "plt.xlabel('Number of Components')\n",
    "plt.ylabel('Cumulative Explained Variance')\n",
    "plt.title('Explained Variance by PCA Components')\n",
    "plt.grid()\n",
    "plt.show()"
   ]
  },
  {
   "cell_type": "code",
   "execution_count": 32,
   "id": "39b05f03",
   "metadata": {
    "execution": {
     "iopub.execute_input": "2025-03-01T18:34:42.313647Z",
     "iopub.status.busy": "2025-03-01T18:34:42.313299Z",
     "iopub.status.idle": "2025-03-01T18:34:42.327674Z",
     "shell.execute_reply": "2025-03-01T18:34:42.326554Z"
    },
    "papermill": {
     "duration": 0.027627,
     "end_time": "2025-03-01T18:34:42.329522",
     "exception": false,
     "start_time": "2025-03-01T18:34:42.301895",
     "status": "completed"
    },
    "tags": []
   },
   "outputs": [
    {
     "name": "stdout",
     "output_type": "stream",
     "text": [
      "Number of components to retain: 66\n"
     ]
    }
   ],
   "source": [
    "# Retain components that explain 95% of the variance\n",
    "n_components = np.argmax(cumulative_explained_variance >= 0.95) + 1\n",
    "print(f\"Number of components to retain: {n_components}\")\n",
    "\n",
    "# Re-run PCA with the selected number of components\n",
    "pca = PCA(n_components=n_components)\n",
    "X_pca = pca.fit_transform(X_scaled)"
   ]
  },
  {
   "cell_type": "code",
   "execution_count": 33,
   "id": "15d226ef",
   "metadata": {
    "execution": {
     "iopub.execute_input": "2025-03-01T18:34:42.353629Z",
     "iopub.status.busy": "2025-03-01T18:34:42.353282Z",
     "iopub.status.idle": "2025-03-01T18:34:42.359833Z",
     "shell.execute_reply": "2025-03-01T18:34:42.358763Z"
    },
    "papermill": {
     "duration": 0.019283,
     "end_time": "2025-03-01T18:34:42.361695",
     "exception": false,
     "start_time": "2025-03-01T18:34:42.342412",
     "status": "completed"
    },
    "tags": []
   },
   "outputs": [],
   "source": [
    "# Example: Split data into train and test sets\n",
    "from sklearn.model_selection import train_test_split\n",
    "X_train, X_test, y_train, y_test = train_test_split(X_pca, y, test_size=0.2, random_state=42)"
   ]
  },
  {
   "cell_type": "code",
   "execution_count": 34,
   "id": "3619aaa4",
   "metadata": {
    "execution": {
     "iopub.execute_input": "2025-03-01T18:34:42.383534Z",
     "iopub.status.busy": "2025-03-01T18:34:42.383153Z",
     "iopub.status.idle": "2025-03-01T18:34:42.607007Z",
     "shell.execute_reply": "2025-03-01T18:34:42.605867Z"
    },
    "papermill": {
     "duration": 0.236747,
     "end_time": "2025-03-01T18:34:42.608910",
     "exception": false,
     "start_time": "2025-03-01T18:34:42.372163",
     "status": "completed"
    },
    "tags": []
   },
   "outputs": [],
   "source": [
    "from sklearn.ensemble import RandomForestRegressor"
   ]
  },
  {
   "cell_type": "code",
   "execution_count": 35,
   "id": "125c84dc",
   "metadata": {
    "execution": {
     "iopub.execute_input": "2025-03-01T18:34:42.630847Z",
     "iopub.status.busy": "2025-03-01T18:34:42.630466Z",
     "iopub.status.idle": "2025-03-01T18:34:47.195858Z",
     "shell.execute_reply": "2025-03-01T18:34:47.194689Z"
    },
    "papermill": {
     "duration": 4.578733,
     "end_time": "2025-03-01T18:34:47.197991",
     "exception": false,
     "start_time": "2025-03-01T18:34:42.619258",
     "status": "completed"
    },
    "tags": []
   },
   "outputs": [
    {
     "data": {
      "text/html": [
       "<style>#sk-container-id-2 {color: black;background-color: white;}#sk-container-id-2 pre{padding: 0;}#sk-container-id-2 div.sk-toggleable {background-color: white;}#sk-container-id-2 label.sk-toggleable__label {cursor: pointer;display: block;width: 100%;margin-bottom: 0;padding: 0.3em;box-sizing: border-box;text-align: center;}#sk-container-id-2 label.sk-toggleable__label-arrow:before {content: \"▸\";float: left;margin-right: 0.25em;color: #696969;}#sk-container-id-2 label.sk-toggleable__label-arrow:hover:before {color: black;}#sk-container-id-2 div.sk-estimator:hover label.sk-toggleable__label-arrow:before {color: black;}#sk-container-id-2 div.sk-toggleable__content {max-height: 0;max-width: 0;overflow: hidden;text-align: left;background-color: #f0f8ff;}#sk-container-id-2 div.sk-toggleable__content pre {margin: 0.2em;color: black;border-radius: 0.25em;background-color: #f0f8ff;}#sk-container-id-2 input.sk-toggleable__control:checked~div.sk-toggleable__content {max-height: 200px;max-width: 100%;overflow: auto;}#sk-container-id-2 input.sk-toggleable__control:checked~label.sk-toggleable__label-arrow:before {content: \"▾\";}#sk-container-id-2 div.sk-estimator input.sk-toggleable__control:checked~label.sk-toggleable__label {background-color: #d4ebff;}#sk-container-id-2 div.sk-label input.sk-toggleable__control:checked~label.sk-toggleable__label {background-color: #d4ebff;}#sk-container-id-2 input.sk-hidden--visually {border: 0;clip: rect(1px 1px 1px 1px);clip: rect(1px, 1px, 1px, 1px);height: 1px;margin: -1px;overflow: hidden;padding: 0;position: absolute;width: 1px;}#sk-container-id-2 div.sk-estimator {font-family: monospace;background-color: #f0f8ff;border: 1px dotted black;border-radius: 0.25em;box-sizing: border-box;margin-bottom: 0.5em;}#sk-container-id-2 div.sk-estimator:hover {background-color: #d4ebff;}#sk-container-id-2 div.sk-parallel-item::after {content: \"\";width: 100%;border-bottom: 1px solid gray;flex-grow: 1;}#sk-container-id-2 div.sk-label:hover label.sk-toggleable__label {background-color: #d4ebff;}#sk-container-id-2 div.sk-serial::before {content: \"\";position: absolute;border-left: 1px solid gray;box-sizing: border-box;top: 0;bottom: 0;left: 50%;z-index: 0;}#sk-container-id-2 div.sk-serial {display: flex;flex-direction: column;align-items: center;background-color: white;padding-right: 0.2em;padding-left: 0.2em;position: relative;}#sk-container-id-2 div.sk-item {position: relative;z-index: 1;}#sk-container-id-2 div.sk-parallel {display: flex;align-items: stretch;justify-content: center;background-color: white;position: relative;}#sk-container-id-2 div.sk-item::before, #sk-container-id-2 div.sk-parallel-item::before {content: \"\";position: absolute;border-left: 1px solid gray;box-sizing: border-box;top: 0;bottom: 0;left: 50%;z-index: -1;}#sk-container-id-2 div.sk-parallel-item {display: flex;flex-direction: column;z-index: 1;position: relative;background-color: white;}#sk-container-id-2 div.sk-parallel-item:first-child::after {align-self: flex-end;width: 50%;}#sk-container-id-2 div.sk-parallel-item:last-child::after {align-self: flex-start;width: 50%;}#sk-container-id-2 div.sk-parallel-item:only-child::after {width: 0;}#sk-container-id-2 div.sk-dashed-wrapped {border: 1px dashed gray;margin: 0 0.4em 0.5em 0.4em;box-sizing: border-box;padding-bottom: 0.4em;background-color: white;}#sk-container-id-2 div.sk-label label {font-family: monospace;font-weight: bold;display: inline-block;line-height: 1.2em;}#sk-container-id-2 div.sk-label-container {text-align: center;}#sk-container-id-2 div.sk-container {/* jupyter's `normalize.less` sets `[hidden] { display: none; }` but bootstrap.min.css set `[hidden] { display: none !important; }` so we also need the `!important` here to be able to override the default hidden behavior on the sphinx rendered scikit-learn.org. See: https://github.com/scikit-learn/scikit-learn/issues/21755 */display: inline-block !important;position: relative;}#sk-container-id-2 div.sk-text-repr-fallback {display: none;}</style><div id=\"sk-container-id-2\" class=\"sk-top-container\"><div class=\"sk-text-repr-fallback\"><pre>RandomForestRegressor(random_state=42)</pre><b>In a Jupyter environment, please rerun this cell to show the HTML representation or trust the notebook. <br />On GitHub, the HTML representation is unable to render, please try loading this page with nbviewer.org.</b></div><div class=\"sk-container\" hidden><div class=\"sk-item\"><div class=\"sk-estimator sk-toggleable\"><input class=\"sk-toggleable__control sk-hidden--visually\" id=\"sk-estimator-id-2\" type=\"checkbox\" checked><label for=\"sk-estimator-id-2\" class=\"sk-toggleable__label sk-toggleable__label-arrow\">RandomForestRegressor</label><div class=\"sk-toggleable__content\"><pre>RandomForestRegressor(random_state=42)</pre></div></div></div></div></div>"
      ],
      "text/plain": [
       "RandomForestRegressor(random_state=42)"
      ]
     },
     "execution_count": 35,
     "metadata": {},
     "output_type": "execute_result"
    }
   ],
   "source": [
    "# Initialize and train the model\n",
    "rf_regressor = RandomForestRegressor(n_estimators=100, random_state=42)\n",
    "rf_regressor.fit(X_train, y_train)"
   ]
  },
  {
   "cell_type": "code",
   "execution_count": 36,
   "id": "ce1bac06",
   "metadata": {
    "execution": {
     "iopub.execute_input": "2025-03-01T18:34:47.221058Z",
     "iopub.status.busy": "2025-03-01T18:34:47.220659Z",
     "iopub.status.idle": "2025-03-01T18:34:47.234776Z",
     "shell.execute_reply": "2025-03-01T18:34:47.233850Z"
    },
    "papermill": {
     "duration": 0.027352,
     "end_time": "2025-03-01T18:34:47.236612",
     "exception": false,
     "start_time": "2025-03-01T18:34:47.209260",
     "status": "completed"
    },
    "tags": []
   },
   "outputs": [],
   "source": [
    "# Make predictions\n",
    "y_pred = rf_regressor.predict(X_test)"
   ]
  },
  {
   "cell_type": "code",
   "execution_count": 37,
   "id": "52d1c493",
   "metadata": {
    "execution": {
     "iopub.execute_input": "2025-03-01T18:34:47.259161Z",
     "iopub.status.busy": "2025-03-01T18:34:47.258749Z",
     "iopub.status.idle": "2025-03-01T18:34:47.263109Z",
     "shell.execute_reply": "2025-03-01T18:34:47.262023Z"
    },
    "papermill": {
     "duration": 0.017792,
     "end_time": "2025-03-01T18:34:47.264867",
     "exception": false,
     "start_time": "2025-03-01T18:34:47.247075",
     "status": "completed"
    },
    "tags": []
   },
   "outputs": [],
   "source": [
    "from sklearn.metrics import mean_squared_error, r2_score"
   ]
  },
  {
   "cell_type": "code",
   "execution_count": 38,
   "id": "0c4f70e0",
   "metadata": {
    "execution": {
     "iopub.execute_input": "2025-03-01T18:34:47.287668Z",
     "iopub.status.busy": "2025-03-01T18:34:47.287250Z",
     "iopub.status.idle": "2025-03-01T18:34:47.294321Z",
     "shell.execute_reply": "2025-03-01T18:34:47.293081Z"
    },
    "papermill": {
     "duration": 0.020441,
     "end_time": "2025-03-01T18:34:47.296162",
     "exception": false,
     "start_time": "2025-03-01T18:34:47.275721",
     "status": "completed"
    },
    "tags": []
   },
   "outputs": [
    {
     "name": "stdout",
     "output_type": "stream",
     "text": [
      "Mean Squared Error: 1109934487.9722164\n",
      "R^2 Score: 0.8552950085835719\n"
     ]
    }
   ],
   "source": [
    "# Evaluate the model\n",
    "# Evaluate the model\n",
    "mse = mean_squared_error(y_test, y_pred)\n",
    "r2 = r2_score(y_test, y_pred)\n",
    "\n",
    "print(f'Mean Squared Error: {mse}')\n",
    "print(f'R^2 Score: {r2}')"
   ]
  },
  {
   "cell_type": "code",
   "execution_count": 39,
   "id": "fd9d885d",
   "metadata": {
    "execution": {
     "iopub.execute_input": "2025-03-01T18:34:47.319360Z",
     "iopub.status.busy": "2025-03-01T18:34:47.318993Z",
     "iopub.status.idle": "2025-03-01T18:34:47.330360Z",
     "shell.execute_reply": "2025-03-01T18:34:47.329211Z"
    },
    "papermill": {
     "duration": 0.024916,
     "end_time": "2025-03-01T18:34:47.332388",
     "exception": false,
     "start_time": "2025-03-01T18:34:47.307472",
     "status": "completed"
    },
    "tags": []
   },
   "outputs": [],
   "source": [
    "output = pd.DataFrame({'Id': range(len(y_pred)), 'SalePrice': y_pred})\n",
    "output.to_csv('submission.csv', index=False)\n"
   ]
  }
 ],
 "metadata": {
  "kaggle": {
   "accelerator": "none",
   "dataSources": [
    {
     "databundleVersionId": 111096,
     "sourceId": 10211,
     "sourceType": "competition"
    }
   ],
   "dockerImageVersionId": 30918,
   "isGpuEnabled": false,
   "isInternetEnabled": true,
   "language": "python",
   "sourceType": "notebook"
  },
  "kernelspec": {
   "display_name": "Python 3",
   "language": "python",
   "name": "python3"
  },
  "language_info": {
   "codemirror_mode": {
    "name": "ipython",
    "version": 3
   },
   "file_extension": ".py",
   "mimetype": "text/x-python",
   "name": "python",
   "nbconvert_exporter": "python",
   "pygments_lexer": "ipython3",
   "version": "3.10.12"
  },
  "papermill": {
   "default_parameters": {},
   "duration": 13.288649,
   "end_time": "2025-03-01T18:34:48.064326",
   "environment_variables": {},
   "exception": null,
   "input_path": "__notebook__.ipynb",
   "output_path": "__notebook__.ipynb",
   "parameters": {},
   "start_time": "2025-03-01T18:34:34.775677",
   "version": "2.6.0"
  }
 },
 "nbformat": 4,
 "nbformat_minor": 5
}
