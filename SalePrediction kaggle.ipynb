{
 "cells": [
  {
   "cell_type": "code",
   "execution_count": null,
   "id": "13e13b4d",
   "metadata": {
    "_cell_guid": "b1076dfc-b9ad-4769-8c92-a6c4dae69d19",
    "_uuid": "8f2839f25d086af736a60e9eeb907d3b93b6e0e5",
    "execution": {
     "iopub.execute_input": "2025-03-01T18:34:37.652456Z",
     "iopub.status.busy": "2025-03-01T18:34:37.652109Z",
     "iopub.status.idle": "2025-03-01T18:34:38.610363Z",
     "shell.execute_reply": "2025-03-01T18:34:38.608851Z"
    },
    "papermill": {
     "duration": 0.969298,
     "end_time": "2025-03-01T18:34:38.612241",
     "exception": false,
     "start_time": "2025-03-01T18:34:37.642943",
     "status": "completed"
    },
    "tags": []
   },
   "outputs": [],
   "source": [
    "# This Python 3 environment comes with many helpful analytics libraries installed\n",
    "# It is defined by the kaggle/python Docker image: https://github.com/kaggle/docker-python\n",
    "# For example, here's several helpful packages to load\n",
    "\n",
    "#import numpy as np # linear algebra\n",
    "import pandas as pd # data processing, CSV file I/O (e.g. pd.read_csv)\n",
    "\n",
    "# Input data files are available in the read-only \"../input/\" directory\n",
    "# For example, running this (by clicking run or pressing Shift+Enter) will list all files under the input directory\n",
    "\n",
    "#import os\n",
    "#for dirname, _, filenames in os.walk('/kaggle/input'):\n",
    "    #for filename in filenames:\n",
    "        #print(os.path.join(dirname, filename))\n",
    "\n",
    "# You can write up to 20GB to the current directory (/kaggle/working/) that gets preserved as output when you create a version using \"Save & Run All\" \n",
    "# You can also write temporary files to /kaggle/temp/, but they won't be saved outside of the current session"
   ]
  },
  {
   "cell_type": "code",
   "execution_count": null,
   "id": "3d577a8c",
   "metadata": {
    "execution": {
     "iopub.execute_input": "2025-03-01T18:34:38.629069Z",
     "iopub.status.busy": "2025-03-01T18:34:38.628505Z",
     "iopub.status.idle": "2025-03-01T18:34:40.894252Z",
     "shell.execute_reply": "2025-03-01T18:34:40.893111Z"
    },
    "papermill": {
     "duration": 2.276172,
     "end_time": "2025-03-01T18:34:40.896268",
     "exception": false,
     "start_time": "2025-03-01T18:34:38.620096",
     "status": "completed"
    },
    "tags": []
   },
   "outputs": [],
   "source": [
    "import numpy as np\n",
    "import pandas as pd\n",
    "import seaborn as sns\n",
    "import matplotlib.pyplot as plt\n",
    "from sklearn.preprocessing import OneHotEncoder\n",
    "from sklearn.metrics import mean_squared_error, r2_score\n",
    "from sklearn.decomposition import PCA\n",
    "from sklearn.preprocessing import StandardScaler\n",
    "from sklearn.ensemble import RandomForestRegressor"
   ]
  },
  {
   "cell_type": "code",
   "execution_count": null,
   "id": "e1b88ad1",
   "metadata": {
    "execution": {
     "iopub.execute_input": "2025-03-01T18:34:40.912991Z",
     "iopub.status.busy": "2025-03-01T18:34:40.912406Z",
     "iopub.status.idle": "2025-03-01T18:34:41.000366Z",
     "shell.execute_reply": "2025-03-01T18:34:40.998947Z"
    },
    "papermill": {
     "duration": 0.098371,
     "end_time": "2025-03-01T18:34:41.002354",
     "exception": false,
     "start_time": "2025-03-01T18:34:40.903983",
     "status": "completed"
    },
    "tags": []
   },
   "outputs": [],
   "source": [
    "train_data = pd.read_csv('/kaggle/input/home-data-for-ml-course/train.csv')\n",
    "test_data = pd.read_csv('/kaggle/input/home-data-for-ml-course/test.csv')\n",
    "submission_csv = pd.read_csv('/kaggle/input/home-data-for-ml-course/sample_submission.csv')"
   ]
  },
  {
   "cell_type": "code",
   "execution_count": null,
   "id": "592eb089",
   "metadata": {
    "execution": {
     "iopub.execute_input": "2025-03-01T18:34:41.018823Z",
     "iopub.status.busy": "2025-03-01T18:34:41.018395Z",
     "iopub.status.idle": "2025-03-01T18:34:41.023594Z",
     "shell.execute_reply": "2025-03-01T18:34:41.022711Z"
    },
    "papermill": {
     "duration": 0.015234,
     "end_time": "2025-03-01T18:34:41.025384",
     "exception": false,
     "start_time": "2025-03-01T18:34:41.010150",
     "status": "completed"
    },
    "tags": []
   },
   "outputs": [],
   "source": [
    "print(train_data.shape)\n",
    "print(test_data.shape)"
   ]
  },
  {
   "cell_type": "code",
   "execution_count": null,
   "id": "1159e6ac",
   "metadata": {
    "execution": {
     "iopub.execute_input": "2025-03-01T18:34:41.041091Z",
     "iopub.status.busy": "2025-03-01T18:34:41.040710Z",
     "iopub.status.idle": "2025-03-01T18:34:41.067311Z",
     "shell.execute_reply": "2025-03-01T18:34:41.065990Z"
    },
    "papermill": {
     "duration": 0.036354,
     "end_time": "2025-03-01T18:34:41.069073",
     "exception": false,
     "start_time": "2025-03-01T18:34:41.032719",
     "status": "completed"
    },
    "tags": []
   },
   "outputs": [],
   "source": [
    "print(train_data.head(5))"
   ]
  },
  {
   "cell_type": "code",
   "execution_count": null,
   "id": "88f0a548",
   "metadata": {
    "execution": {
     "iopub.execute_input": "2025-03-01T18:34:41.085175Z",
     "iopub.status.busy": "2025-03-01T18:34:41.084771Z",
     "iopub.status.idle": "2025-03-01T18:34:41.090689Z",
     "shell.execute_reply": "2025-03-01T18:34:41.089470Z"
    },
    "papermill": {
     "duration": 0.015914,
     "end_time": "2025-03-01T18:34:41.092475",
     "exception": false,
     "start_time": "2025-03-01T18:34:41.076561",
     "status": "completed"
    },
    "tags": []
   },
   "outputs": [],
   "source": [
    "print(train_data.columns)"
   ]
  },
  {
   "cell_type": "code",
   "execution_count": null,
   "id": "974b49b1",
   "metadata": {
    "execution": {
     "iopub.execute_input": "2025-03-01T18:34:41.109172Z",
     "iopub.status.busy": "2025-03-01T18:34:41.108792Z",
     "iopub.status.idle": "2025-03-01T18:34:41.115489Z",
     "shell.execute_reply": "2025-03-01T18:34:41.114367Z"
    },
    "papermill": {
     "duration": 0.016831,
     "end_time": "2025-03-01T18:34:41.117111",
     "exception": false,
     "start_time": "2025-03-01T18:34:41.100280",
     "status": "completed"
    },
    "tags": []
   },
   "outputs": [],
   "source": [
    "non_numerical = train_data.select_dtypes(exclude=['int', 'float']).columns\n",
    "print(non_numerical)"
   ]
  },
  {
   "cell_type": "code",
   "execution_count": null,
   "id": "02210109",
   "metadata": {
    "execution": {
     "iopub.execute_input": "2025-03-01T18:34:41.134032Z",
     "iopub.status.busy": "2025-03-01T18:34:41.133608Z",
     "iopub.status.idle": "2025-03-01T18:34:41.139879Z",
     "shell.execute_reply": "2025-03-01T18:34:41.138245Z"
    },
    "papermill": {
     "duration": 0.01673,
     "end_time": "2025-03-01T18:34:41.141720",
     "exception": false,
     "start_time": "2025-03-01T18:34:41.124990",
     "status": "completed"
    },
    "tags": []
   },
   "outputs": [],
   "source": [
    "# Your 1D array\n",
    "array = np.array(non_numerical)\n",
    "\n",
    "# Reshape to 2D array with shape (n_samples, 1)\n",
    "array_reshaped = array.reshape(-1, 1)\n",
    "\n",
    "print(array_reshaped)"
   ]
  },
  {
   "cell_type": "code",
   "execution_count": null,
   "id": "1213186f",
   "metadata": {
    "execution": {
     "iopub.execute_input": "2025-03-01T18:34:41.181133Z",
     "iopub.status.busy": "2025-03-01T18:34:41.180735Z",
     "iopub.status.idle": "2025-03-01T18:34:41.192980Z",
     "shell.execute_reply": "2025-03-01T18:34:41.191884Z"
    },
    "papermill": {
     "duration": 0.022548,
     "end_time": "2025-03-01T18:34:41.194672",
     "exception": false,
     "start_time": "2025-03-01T18:34:41.172124",
     "status": "completed"
    },
    "tags": []
   },
   "outputs": [],
   "source": [
    "encoder = OneHotEncoder()\n",
    "encoder.fit(array_reshaped)"
   ]
  },
  {
   "cell_type": "code",
   "execution_count": null,
   "id": "d48b930e",
   "metadata": {
    "execution": {
     "iopub.execute_input": "2025-03-01T18:34:41.212470Z",
     "iopub.status.busy": "2025-03-01T18:34:41.212133Z",
     "iopub.status.idle": "2025-03-01T18:34:41.219130Z",
     "shell.execute_reply": "2025-03-01T18:34:41.218165Z"
    },
    "papermill": {
     "duration": 0.01791,
     "end_time": "2025-03-01T18:34:41.220824",
     "exception": false,
     "start_time": "2025-03-01T18:34:41.202914",
     "status": "completed"
    },
    "tags": []
   },
   "outputs": [],
   "source": [
    "encoded_data = encoder.transform(array_reshaped).toarray()"
   ]
  },
  {
   "cell_type": "code",
   "execution_count": null,
   "id": "85af448a",
   "metadata": {
    "execution": {
     "iopub.execute_input": "2025-03-01T18:34:41.238391Z",
     "iopub.status.busy": "2025-03-01T18:34:41.238024Z",
     "iopub.status.idle": "2025-03-01T18:34:41.254646Z",
     "shell.execute_reply": "2025-03-01T18:34:41.253359Z"
    },
    "papermill": {
     "duration": 0.027485,
     "end_time": "2025-03-01T18:34:41.256564",
     "exception": false,
     "start_time": "2025-03-01T18:34:41.229079",
     "status": "completed"
    },
    "tags": []
   },
   "outputs": [],
   "source": [
    "df_encoded = pd.DataFrame(encoded_data, columns=encoder.get_feature_names_out\n",
    "                          (['feature_name']))\n",
    "print(df_encoded.head(5))"
   ]
  },
  {
   "cell_type": "code",
   "execution_count": null,
   "id": "68cd7e8e",
   "metadata": {
    "execution": {
     "iopub.execute_input": "2025-03-01T18:34:41.274814Z",
     "iopub.status.busy": "2025-03-01T18:34:41.274422Z",
     "iopub.status.idle": "2025-03-01T18:34:41.290647Z",
     "shell.execute_reply": "2025-03-01T18:34:41.289198Z"
    },
    "papermill": {
     "duration": 0.02743,
     "end_time": "2025-03-01T18:34:41.292423",
     "exception": false,
     "start_time": "2025-03-01T18:34:41.264993",
     "status": "completed"
    },
    "tags": []
   },
   "outputs": [],
   "source": [
    "# Remove the prefix 'feature_name_' from the column names\n",
    "df_encoded.columns = df_encoded.columns.str.replace('feature_name_', '')\n",
    "\n",
    "# Display the updated DataFrame\n",
    "print(df_encoded.head())"
   ]
  },
  {
   "cell_type": "code",
   "execution_count": null,
   "id": "de582d1b",
   "metadata": {
    "execution": {
     "iopub.execute_input": "2025-03-01T18:34:41.310880Z",
     "iopub.status.busy": "2025-03-01T18:34:41.310524Z",
     "iopub.status.idle": "2025-03-01T18:34:41.317358Z",
     "shell.execute_reply": "2025-03-01T18:34:41.316041Z"
    },
    "papermill": {
     "duration": 0.018155,
     "end_time": "2025-03-01T18:34:41.319140",
     "exception": false,
     "start_time": "2025-03-01T18:34:41.300985",
     "status": "completed"
    },
    "tags": []
   },
   "outputs": [],
   "source": [
    "print(df_encoded.isna().sum())\n",
    "# no missing value from the df_encoded"
   ]
  },
  {
   "cell_type": "code",
   "execution_count": null,
   "id": "f526c853",
   "metadata": {
    "execution": {
     "iopub.execute_input": "2025-03-01T18:34:41.338045Z",
     "iopub.status.busy": "2025-03-01T18:34:41.337699Z",
     "iopub.status.idle": "2025-03-01T18:34:41.350502Z",
     "shell.execute_reply": "2025-03-01T18:34:41.349327Z"
    },
    "papermill": {
     "duration": 0.024177,
     "end_time": "2025-03-01T18:34:41.352241",
     "exception": false,
     "start_time": "2025-03-01T18:34:41.328064",
     "status": "completed"
    },
    "tags": []
   },
   "outputs": [],
   "source": [
    "print(df_encoded.duplicated().sum())\n",
    "#no duplication"
   ]
  },
  {
   "cell_type": "code",
   "execution_count": null,
   "id": "6a35208b",
   "metadata": {
    "execution": {
     "iopub.execute_input": "2025-03-01T18:34:41.370916Z",
     "iopub.status.busy": "2025-03-01T18:34:41.370559Z",
     "iopub.status.idle": "2025-03-01T18:34:41.383912Z",
     "shell.execute_reply": "2025-03-01T18:34:41.382729Z"
    },
    "papermill": {
     "duration": 0.024805,
     "end_time": "2025-03-01T18:34:41.385581",
     "exception": false,
     "start_time": "2025-03-01T18:34:41.360776",
     "status": "completed"
    },
    "tags": []
   },
   "outputs": [],
   "source": [
    "# Extract numerical columns from train_data\n",
    "numericals = train_data.select_dtypes(include=['int', 'float']).columns\n",
    "numerical_columns = train_data[numericals]\n",
    "print(numerical_columns.head(5))"
   ]
  },
  {
   "cell_type": "code",
   "execution_count": null,
   "id": "153eece3",
   "metadata": {
    "execution": {
     "iopub.execute_input": "2025-03-01T18:34:41.404674Z",
     "iopub.status.busy": "2025-03-01T18:34:41.404286Z",
     "iopub.status.idle": "2025-03-01T18:34:41.413121Z",
     "shell.execute_reply": "2025-03-01T18:34:41.411535Z"
    },
    "papermill": {
     "duration": 0.020078,
     "end_time": "2025-03-01T18:34:41.414859",
     "exception": false,
     "start_time": "2025-03-01T18:34:41.394781",
     "status": "completed"
    },
    "tags": []
   },
   "outputs": [],
   "source": [
    "print(numerical_columns.isna().sum())"
   ]
  },
  {
   "cell_type": "code",
   "execution_count": null,
   "id": "f1a75c3f",
   "metadata": {
    "execution": {
     "iopub.execute_input": "2025-03-01T18:34:41.433672Z",
     "iopub.status.busy": "2025-03-01T18:34:41.433345Z",
     "iopub.status.idle": "2025-03-01T18:34:41.440575Z",
     "shell.execute_reply": "2025-03-01T18:34:41.439219Z"
    },
    "papermill": {
     "duration": 0.018398,
     "end_time": "2025-03-01T18:34:41.442243",
     "exception": false,
     "start_time": "2025-03-01T18:34:41.423845",
     "status": "completed"
    },
    "tags": []
   },
   "outputs": [],
   "source": [
    "numerical_columns = numerical_columns.fillna(0)\n",
    "print(numerical_columns.isna().sum())"
   ]
  },
  {
   "cell_type": "code",
   "execution_count": null,
   "id": "d89935ba",
   "metadata": {
    "execution": {
     "iopub.execute_input": "2025-03-01T18:34:41.461181Z",
     "iopub.status.busy": "2025-03-01T18:34:41.460805Z",
     "iopub.status.idle": "2025-03-01T18:34:41.476291Z",
     "shell.execute_reply": "2025-03-01T18:34:41.474768Z"
    },
    "papermill": {
     "duration": 0.027146,
     "end_time": "2025-03-01T18:34:41.478024",
     "exception": false,
     "start_time": "2025-03-01T18:34:41.450878",
     "status": "completed"
    },
    "tags": []
   },
   "outputs": [],
   "source": [
    "# Concatenate numerical_columns and df_encoded\n",
    "result = pd.concat([numerical_columns, df_encoded], axis=1)\n",
    "print(result.head(5))"
   ]
  },
  {
   "cell_type": "code",
   "execution_count": null,
   "id": "e47f8536",
   "metadata": {
    "execution": {
     "iopub.execute_input": "2025-03-01T18:34:41.497702Z",
     "iopub.status.busy": "2025-03-01T18:34:41.497265Z",
     "iopub.status.idle": "2025-03-01T18:34:41.519231Z",
     "shell.execute_reply": "2025-03-01T18:34:41.517922Z"
    },
    "papermill": {
     "duration": 0.033767,
     "end_time": "2025-03-01T18:34:41.521130",
     "exception": false,
     "start_time": "2025-03-01T18:34:41.487363",
     "status": "completed"
    },
    "tags": []
   },
   "outputs": [],
   "source": [
    "result = result.replace([np.inf, -np.inf], np.nan).fillna(0)  # Replace inf with NaN and then fill NaN with 0\n",
    "print(result)\n"
   ]
  },
  {
   "cell_type": "code",
   "execution_count": null,
   "id": "e8deb3da",
   "metadata": {
    "execution": {
     "iopub.execute_input": "2025-03-01T18:34:41.540317Z",
     "iopub.status.busy": "2025-03-01T18:34:41.539902Z",
     "iopub.status.idle": "2025-03-01T18:34:41.556656Z",
     "shell.execute_reply": "2025-03-01T18:34:41.555292Z"
    },
    "papermill": {
     "duration": 0.028247,
     "end_time": "2025-03-01T18:34:41.558420",
     "exception": false,
     "start_time": "2025-03-01T18:34:41.530173",
     "status": "completed"
    },
    "tags": []
   },
   "outputs": [],
   "source": [
    "# Check for any remaining invalid values\n",
    "if result.isnull().any().any() or np.isinf(result.select_dtypes(include=[np.number])).any().any():\n",
    "    print(\"Warning: There are still missing or infinite values in the DataFrame.\")\n",
    "\n",
    "print(result.head())"
   ]
  },
  {
   "cell_type": "code",
   "execution_count": null,
   "id": "322678c2",
   "metadata": {
    "execution": {
     "iopub.execute_input": "2025-03-01T18:34:41.578130Z",
     "iopub.status.busy": "2025-03-01T18:34:41.577741Z",
     "iopub.status.idle": "2025-03-01T18:34:41.585753Z",
     "shell.execute_reply": "2025-03-01T18:34:41.584351Z"
    },
    "papermill": {
     "duration": 0.020285,
     "end_time": "2025-03-01T18:34:41.587790",
     "exception": false,
     "start_time": "2025-03-01T18:34:41.567505",
     "status": "completed"
    },
    "tags": []
   },
   "outputs": [],
   "source": [
    "print(result.isna().sum())"
   ]
  },
  {
   "cell_type": "code",
   "execution_count": null,
   "id": "7e7e03d1",
   "metadata": {
    "execution": {
     "iopub.execute_input": "2025-03-01T18:34:41.608988Z",
     "iopub.status.busy": "2025-03-01T18:34:41.608529Z",
     "iopub.status.idle": "2025-03-01T18:34:41.642806Z",
     "shell.execute_reply": "2025-03-01T18:34:41.641469Z"
    },
    "papermill": {
     "duration": 0.046632,
     "end_time": "2025-03-01T18:34:41.644744",
     "exception": false,
     "start_time": "2025-03-01T18:34:41.598112",
     "status": "completed"
    },
    "tags": []
   },
   "outputs": [],
   "source": [
    "correlation_matrix = result.corr()"
   ]
  },
  {
   "cell_type": "code",
   "execution_count": null,
   "id": "779163ab",
   "metadata": {
    "execution": {
     "iopub.execute_input": "2025-03-01T18:34:41.664487Z",
     "iopub.status.busy": "2025-03-01T18:34:41.664116Z",
     "iopub.status.idle": "2025-03-01T18:34:41.671243Z",
     "shell.execute_reply": "2025-03-01T18:34:41.670026Z"
    },
    "papermill": {
     "duration": 0.018944,
     "end_time": "2025-03-01T18:34:41.672889",
     "exception": false,
     "start_time": "2025-03-01T18:34:41.653945",
     "status": "completed"
    },
    "tags": []
   },
   "outputs": [],
   "source": [
    "high_corr_values = correlation_matrix.loc[correlation_matrix['SalePrice'] >= 0.3, 'SalePrice']\n",
    "print(high_corr_values)"
   ]
  },
  {
   "cell_type": "code",
   "execution_count": null,
   "id": "2521efa7",
   "metadata": {
    "execution": {
     "iopub.execute_input": "2025-03-01T18:34:41.692850Z",
     "iopub.status.busy": "2025-03-01T18:34:41.692453Z",
     "iopub.status.idle": "2025-03-01T18:34:41.698309Z",
     "shell.execute_reply": "2025-03-01T18:34:41.697227Z"
    },
    "papermill": {
     "duration": 0.017736,
     "end_time": "2025-03-01T18:34:41.699946",
     "exception": false,
     "start_time": "2025-03-01T18:34:41.682210",
     "status": "completed"
    },
    "tags": []
   },
   "outputs": [],
   "source": [
    "X = result.drop('SalePrice', axis = 1)\n",
    "y = result['SalePrice']"
   ]
  },
  {
   "cell_type": "code",
   "execution_count": null,
   "id": "25921e34",
   "metadata": {
    "execution": {
     "iopub.execute_input": "2025-03-01T18:34:41.719432Z",
     "iopub.status.busy": "2025-03-01T18:34:41.719095Z",
     "iopub.status.idle": "2025-03-01T18:34:41.735621Z",
     "shell.execute_reply": "2025-03-01T18:34:41.734103Z"
    },
    "papermill": {
     "duration": 0.028325,
     "end_time": "2025-03-01T18:34:41.737413",
     "exception": false,
     "start_time": "2025-03-01T18:34:41.709088",
     "status": "completed"
    },
    "tags": []
   },
   "outputs": [],
   "source": [
    "print(X)"
   ]
  },
  {
   "cell_type": "code",
   "execution_count": null,
   "id": "1c7bab0f",
   "metadata": {
    "execution": {
     "iopub.execute_input": "2025-03-01T18:34:41.758615Z",
     "iopub.status.busy": "2025-03-01T18:34:41.758247Z",
     "iopub.status.idle": "2025-03-01T18:34:41.764292Z",
     "shell.execute_reply": "2025-03-01T18:34:41.763139Z"
    },
    "papermill": {
     "duration": 0.018166,
     "end_time": "2025-03-01T18:34:41.765992",
     "exception": false,
     "start_time": "2025-03-01T18:34:41.747826",
     "status": "completed"
    },
    "tags": []
   },
   "outputs": [],
   "source": [
    "print(y)"
   ]
  },
  {
   "cell_type": "code",
   "execution_count": null,
   "id": "e6b30479",
   "metadata": {
    "execution": {
     "iopub.execute_input": "2025-03-01T18:34:41.812307Z",
     "iopub.status.busy": "2025-03-01T18:34:41.811860Z",
     "iopub.status.idle": "2025-03-01T18:34:41.839359Z",
     "shell.execute_reply": "2025-03-01T18:34:41.838289Z"
    },
    "papermill": {
     "duration": 0.039855,
     "end_time": "2025-03-01T18:34:41.841322",
     "exception": false,
     "start_time": "2025-03-01T18:34:41.801467",
     "status": "completed"
    },
    "tags": []
   },
   "outputs": [],
   "source": [
    "scaler = StandardScaler()\n",
    "X_scaled = scaler.fit_transform(X)"
   ]
  },
  {
   "cell_type": "code",
   "execution_count": null,
   "id": "bb61e522",
   "metadata": {
    "execution": {
     "iopub.execute_input": "2025-03-01T18:34:41.873007Z",
     "iopub.status.busy": "2025-03-01T18:34:41.872590Z",
     "iopub.status.idle": "2025-03-01T18:34:41.942761Z",
     "shell.execute_reply": "2025-03-01T18:34:41.941776Z"
    },
    "papermill": {
     "duration": 0.085587,
     "end_time": "2025-03-01T18:34:41.944608",
     "exception": false,
     "start_time": "2025-03-01T18:34:41.859021",
     "status": "completed"
    },
    "tags": []
   },
   "outputs": [],
   "source": [
    "pca = PCA()  # By default, PCA keeps all components\n",
    "X_pca = pca.fit_transform(X_scaled)"
   ]
  },
  {
   "cell_type": "code",
   "execution_count": null,
   "id": "a85a7d23",
   "metadata": {
    "execution": {
     "iopub.execute_input": "2025-03-01T18:34:41.964917Z",
     "iopub.status.busy": "2025-03-01T18:34:41.964539Z",
     "iopub.status.idle": "2025-03-01T18:34:42.289798Z",
     "shell.execute_reply": "2025-03-01T18:34:42.288757Z"
    },
    "papermill": {
     "duration": 0.337433,
     "end_time": "2025-03-01T18:34:42.291722",
     "exception": false,
     "start_time": "2025-03-01T18:34:41.954289",
     "status": "completed"
    },
    "tags": []
   },
   "outputs": [],
   "source": [
    "# Explained variance ratio\n",
    "explained_variance = pca.explained_variance_ratio_\n",
    "print(\"Explained Variance Ratio:\", explained_variance)\n",
    "\n",
    "# Cumulative explained variance\n",
    "cumulative_explained_variance = np.cumsum(explained_variance)\n",
    "print(\"Cumulative Explained Variance:\", cumulative_explained_variance)\n",
    "\n",
    "# Plot explained variance\n",
    "plt.figure(figsize=(8, 5))\n",
    "plt.plot(range(1, len(cumulative_explained_variance) + 1), cumulative_explained_variance, marker='o')\n",
    "plt.xlabel('Number of Components')\n",
    "plt.ylabel('Cumulative Explained Variance')\n",
    "plt.title('Explained Variance by PCA Components')\n",
    "plt.grid()\n",
    "plt.show()"
   ]
  },
  {
   "cell_type": "code",
   "execution_count": null,
   "id": "39b05f03",
   "metadata": {
    "execution": {
     "iopub.execute_input": "2025-03-01T18:34:42.313647Z",
     "iopub.status.busy": "2025-03-01T18:34:42.313299Z",
     "iopub.status.idle": "2025-03-01T18:34:42.327674Z",
     "shell.execute_reply": "2025-03-01T18:34:42.326554Z"
    },
    "papermill": {
     "duration": 0.027627,
     "end_time": "2025-03-01T18:34:42.329522",
     "exception": false,
     "start_time": "2025-03-01T18:34:42.301895",
     "status": "completed"
    },
    "tags": []
   },
   "outputs": [],
   "source": [
    "# Retain components that explain 95% of the variance\n",
    "n_components = np.argmax(cumulative_explained_variance >= 0.95) + 1\n",
    "print(f\"Number of components to retain: {n_components}\")\n",
    "\n",
    "# Re-run PCA with the selected number of components\n",
    "pca = PCA(n_components=n_components)\n",
    "X_pca = pca.fit_transform(X_scaled)"
   ]
  },
  {
   "cell_type": "code",
   "execution_count": null,
   "id": "15d226ef",
   "metadata": {
    "execution": {
     "iopub.execute_input": "2025-03-01T18:34:42.353629Z",
     "iopub.status.busy": "2025-03-01T18:34:42.353282Z",
     "iopub.status.idle": "2025-03-01T18:34:42.359833Z",
     "shell.execute_reply": "2025-03-01T18:34:42.358763Z"
    },
    "papermill": {
     "duration": 0.019283,
     "end_time": "2025-03-01T18:34:42.361695",
     "exception": false,
     "start_time": "2025-03-01T18:34:42.342412",
     "status": "completed"
    },
    "tags": []
   },
   "outputs": [],
   "source": [
    "# Example: Split data into train and test sets\n",
    "from sklearn.model_selection import train_test_split\n",
    "X_train, X_test, y_train, y_test = train_test_split(X_pca, y, test_size=0.2, random_state=42)"
   ]
  },
  {
   "cell_type": "code",
   "execution_count": null,
   "id": "125c84dc",
   "metadata": {
    "execution": {
     "iopub.execute_input": "2025-03-01T18:34:42.630847Z",
     "iopub.status.busy": "2025-03-01T18:34:42.630466Z",
     "iopub.status.idle": "2025-03-01T18:34:47.195858Z",
     "shell.execute_reply": "2025-03-01T18:34:47.194689Z"
    },
    "papermill": {
     "duration": 4.578733,
     "end_time": "2025-03-01T18:34:47.197991",
     "exception": false,
     "start_time": "2025-03-01T18:34:42.619258",
     "status": "completed"
    },
    "tags": []
   },
   "outputs": [],
   "source": [
    "# Initialize and train the model\n",
    "rf_regressor = RandomForestRegressor(n_estimators=100, random_state=42)\n",
    "rf_regressor.fit(X_train, y_train)"
   ]
  },
  {
   "cell_type": "code",
   "execution_count": null,
   "id": "ce1bac06",
   "metadata": {
    "execution": {
     "iopub.execute_input": "2025-03-01T18:34:47.221058Z",
     "iopub.status.busy": "2025-03-01T18:34:47.220659Z",
     "iopub.status.idle": "2025-03-01T18:34:47.234776Z",
     "shell.execute_reply": "2025-03-01T18:34:47.233850Z"
    },
    "papermill": {
     "duration": 0.027352,
     "end_time": "2025-03-01T18:34:47.236612",
     "exception": false,
     "start_time": "2025-03-01T18:34:47.209260",
     "status": "completed"
    },
    "tags": []
   },
   "outputs": [],
   "source": [
    "# Make predictions\n",
    "y_pred = rf_regressor.predict(X_test)"
   ]
  },
  {
   "cell_type": "code",
   "execution_count": null,
   "id": "0c4f70e0",
   "metadata": {
    "execution": {
     "iopub.execute_input": "2025-03-01T18:34:47.287668Z",
     "iopub.status.busy": "2025-03-01T18:34:47.287250Z",
     "iopub.status.idle": "2025-03-01T18:34:47.294321Z",
     "shell.execute_reply": "2025-03-01T18:34:47.293081Z"
    },
    "papermill": {
     "duration": 0.020441,
     "end_time": "2025-03-01T18:34:47.296162",
     "exception": false,
     "start_time": "2025-03-01T18:34:47.275721",
     "status": "completed"
    },
    "tags": []
   },
   "outputs": [],
   "source": [
    "# Evaluate the model\n",
    "# Evaluate the model\n",
    "mse = mean_squared_error(y_test, y_pred)\n",
    "r2 = r2_score(y_test, y_pred)\n",
    "\n",
    "print(f'Mean Squared Error: {mse}')\n",
    "print(f'R^2 Score: {r2}')"
   ]
  },
  {
   "cell_type": "code",
   "execution_count": null,
   "id": "fd9d885d",
   "metadata": {
    "execution": {
     "iopub.execute_input": "2025-03-01T18:34:47.319360Z",
     "iopub.status.busy": "2025-03-01T18:34:47.318993Z",
     "iopub.status.idle": "2025-03-01T18:34:47.330360Z",
     "shell.execute_reply": "2025-03-01T18:34:47.329211Z"
    },
    "papermill": {
     "duration": 0.024916,
     "end_time": "2025-03-01T18:34:47.332388",
     "exception": false,
     "start_time": "2025-03-01T18:34:47.307472",
     "status": "completed"
    },
    "tags": []
   },
   "outputs": [],
   "source": [
    "output = pd.DataFrame({'Id': range(len(y_pred)), 'SalePrice': y_pred})\n",
    "output.to_csv('submission.csv', index=False)\n"
   ]
  }
 ],
 "metadata": {
  "kaggle": {
   "accelerator": "none",
   "dataSources": [
    {
     "databundleVersionId": 111096,
     "sourceId": 10211,
     "sourceType": "competition"
    }
   ],
   "dockerImageVersionId": 30918,
   "isGpuEnabled": false,
   "isInternetEnabled": true,
   "language": "python",
   "sourceType": "notebook"
  },
  "kernelspec": {
   "display_name": "Python 3",
   "language": "python",
   "name": "python3"
  },
  "language_info": {
   "codemirror_mode": {
    "name": "ipython",
    "version": 3
   },
   "file_extension": ".py",
   "mimetype": "text/x-python",
   "name": "python",
   "nbconvert_exporter": "python",
   "pygments_lexer": "ipython3",
   "version": "3.11.9"
  },
  "papermill": {
   "default_parameters": {},
   "duration": 13.288649,
   "end_time": "2025-03-01T18:34:48.064326",
   "environment_variables": {},
   "exception": null,
   "input_path": "__notebook__.ipynb",
   "output_path": "__notebook__.ipynb",
   "parameters": {},
   "start_time": "2025-03-01T18:34:34.775677",
   "version": "2.6.0"
  }
 },
 "nbformat": 4,
 "nbformat_minor": 5
}
